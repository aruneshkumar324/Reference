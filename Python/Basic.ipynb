{
 "cells": [
  {
   "cell_type": "markdown",
   "id": "6c913406-14a1-4781-8dc7-6f3e048ae5c4",
   "metadata": {},
   "source": [
    "<h1 style='color:green;font-size:50px;'>Variables</h1>"
   ]
  },
  {
   "cell_type": "code",
   "execution_count": 1,
   "id": "e47419e4-b0e2-486f-b64b-a70046d91b97",
   "metadata": {},
   "outputs": [
    {
     "name": "stdout",
     "output_type": "stream",
     "text": [
      "Mohan\n",
      "Sohan\n",
      "Dohan\n"
     ]
    }
   ],
   "source": [
    "a, b, c = 'Mohan','Sohan','Dohan'\n",
    "\n",
    "print(a)\n",
    "print(b)\n",
    "print(c)"
   ]
  },
  {
   "cell_type": "code",
   "execution_count": 2,
   "id": "a361f2ed-8c21-46f4-b1c3-55979e4ef5c4",
   "metadata": {},
   "outputs": [
    {
     "name": "stdout",
     "output_type": "stream",
     "text": [
      "Hello Arunesh\n",
      "Hello Arunesh\n"
     ]
    }
   ],
   "source": [
    "a = b = c = 'Hello Arunesh'\n",
    "\n",
    "print(a)\n",
    "\n",
    "print(c)"
   ]
  },
  {
   "cell_type": "code",
   "execution_count": 3,
   "id": "833db097-8b99-429a-b8b8-fba6a4d6e1dd",
   "metadata": {},
   "outputs": [
    {
     "name": "stdout",
     "output_type": "stream",
     "text": [
      "Mohan\n",
      "Sohan\n",
      "Dohan\n"
     ]
    }
   ],
   "source": [
    "names = ['Mohan','Sohan','Dohan']\n",
    "\n",
    "a, b, c = names\n",
    "\n",
    "print(a)\n",
    "print(b)\n",
    "print(c)"
   ]
  },
  {
   "cell_type": "markdown",
   "id": "49a4587b-9882-4e07-81a9-4118ceea14f1",
   "metadata": {},
   "source": [
    "### GLOBAL VARIABLES"
   ]
  },
  {
   "cell_type": "code",
   "execution_count": 4,
   "id": "b35aa426-db3c-4d3f-ba5a-0f63769c9fca",
   "metadata": {},
   "outputs": [
    {
     "name": "stdout",
     "output_type": "stream",
     "text": [
      "Arunesh\n"
     ]
    }
   ],
   "source": [
    "# GLOBAL VARIABLE\n",
    "\n",
    "a = 'Arunesh'\n",
    "\n",
    "def fun():\n",
    "    print(a)\n",
    "   \n",
    "fun()"
   ]
  },
  {
   "cell_type": "code",
   "execution_count": 5,
   "id": "99d56c23-5c9e-45e8-8d34-6fab1023fdc6",
   "metadata": {},
   "outputs": [
    {
     "name": "stdout",
     "output_type": "stream",
     "text": [
      "Arunesh kumar\n"
     ]
    }
   ],
   "source": [
    "a = 'Mohan'\n",
    "\n",
    "def fun():\n",
    "    a = 'Arunesh kumar'\n",
    "    print(a)\n",
    "\n",
    "fun()"
   ]
  },
  {
   "cell_type": "code",
   "execution_count": 6,
   "id": "7fa4dee6-44e0-4adb-8fbf-db23469c412e",
   "metadata": {},
   "outputs": [
    {
     "name": "stdout",
     "output_type": "stream",
     "text": [
      "Arunesh kumar\n",
      "Arunesh kumar\n"
     ]
    }
   ],
   "source": [
    "def fun():\n",
    "    global name\n",
    "    name = 'Arunesh kumar'\n",
    "    print(name)\n",
    "\n",
    "fun()\n",
    "\n",
    "print(name)"
   ]
  },
  {
   "cell_type": "code",
   "execution_count": 7,
   "id": "6af819db-055e-4ffc-b9dc-6a6b81addd0a",
   "metadata": {},
   "outputs": [
    {
     "name": "stdout",
     "output_type": "stream",
     "text": [
      "Sohan Das\n",
      "Arunesh kumar\n",
      "Arunesh kumar\n"
     ]
    }
   ],
   "source": [
    "name = 'Sohan Das'\n",
    "\n",
    "print(name)\n",
    "\n",
    "\n",
    "def fun():\n",
    "    global name\n",
    "    name = 'Arunesh kumar'\n",
    "    print(name)\n",
    "\n",
    "fun()\n",
    "\n",
    "print(name)"
   ]
  },
  {
   "cell_type": "markdown",
   "id": "41f8831a-e9b4-4010-a886-6b122c0cc894",
   "metadata": {},
   "source": [
    "<h1 style='color:green;font-size:50px;'>Built-in Data Types</h1>"
   ]
  },
  {
   "cell_type": "code",
   "execution_count": 8,
   "id": "8fc43528-113d-401e-bd30-e7838841de69",
   "metadata": {},
   "outputs": [],
   "source": [
    "#    Text Type      :\tstr\n",
    "    \n",
    "#    Numeric Types  :\tint, float, complex\n",
    "    \n",
    "#    Sequence Types :\tlist, tuple, range\n",
    "    \n",
    "#    Mapping Type   :\tdict\n",
    "    \n",
    "#    Set Types      :\tset, frozenset\n",
    "    \n",
    "#    Boolean Type   :\tbool\n",
    "    \n",
    "#    Binary Types   :\tbytes, bytearray, memoryview"
   ]
  },
  {
   "cell_type": "code",
   "execution_count": 9,
   "id": "ad600dea-29d7-46c9-9e6f-50131b99e218",
   "metadata": {},
   "outputs": [
    {
     "name": "stdout",
     "output_type": "stream",
     "text": [
      "[1, 2, 3, 4, 5]\n",
      "<class 'list'>\n",
      "(1, 2, 3, 4, 5)\n",
      "<class 'tuple'>\n",
      "{'a': 1, 'b': 2}\n",
      "<class 'dict'>\n"
     ]
    }
   ],
   "source": [
    "#  LIST\n",
    "a = [1, 2, 3, 4, 5]\n",
    "print(a)\n",
    "print(type(a))\n",
    "\n",
    "# TUPLE\n",
    "b = (1, 2, 3, 4, 5)\n",
    "print(b)\n",
    "print(type(b))\n",
    "\n",
    "\n",
    "# DICT\n",
    "c = {\n",
    "    \"a\": 1,\n",
    "    \"b\": 2\n",
    "}\n",
    "print(c)\n",
    "print(type(c))"
   ]
  },
  {
   "cell_type": "markdown",
   "id": "344620e7-0a42-43f3-a40a-7d69c33b762d",
   "metadata": {},
   "source": [
    "<h1 style='color:green;font-size:50px;'>Numbers</h1>"
   ]
  },
  {
   "cell_type": "code",
   "execution_count": 10,
   "id": "578929a2-9889-40cf-a9a6-cf1da0772b38",
   "metadata": {},
   "outputs": [
    {
     "name": "stdout",
     "output_type": "stream",
     "text": [
      "5\n",
      "<class 'int'>\n",
      "5.5\n",
      "<class 'float'>\n",
      "(5+5j)\n",
      "<class 'complex'>\n"
     ]
    }
   ],
   "source": [
    "# int\n",
    "a = 5\n",
    "print(a)\n",
    "print(type(a))\n",
    "\n",
    "# float\n",
    "b = 5.5\n",
    "print(b)\n",
    "print(type(b))\n",
    "\n",
    "# complex\n",
    "b = 5 + 5j\n",
    "print(b)\n",
    "print(type(b))"
   ]
  },
  {
   "cell_type": "code",
   "execution_count": 11,
   "id": "c6fe1aee-8234-4370-92ed-5423f99bef79",
   "metadata": {},
   "outputs": [
    {
     "name": "stdout",
     "output_type": "stream",
     "text": [
      "5.0\n",
      "5\n",
      "(5+0j)\n"
     ]
    }
   ],
   "source": [
    "# TYPE CONVERSION\n",
    "\n",
    "a = 5\n",
    "b = 5.5\n",
    "c = 5\n",
    "\n",
    "print(float(a))\n",
    "print(int(b))\n",
    "print(complex(c))\n"
   ]
  },
  {
   "cell_type": "markdown",
   "id": "5b9fb032-38a0-4aa6-a62a-fbf9032f5d81",
   "metadata": {},
   "source": [
    "<h1 style='color:green;font-size:50px;'>Boolean</h1>"
   ]
  },
  {
   "cell_type": "code",
   "execution_count": 12,
   "id": "8614f8dd-e2a5-4136-b46b-46427608628b",
   "metadata": {},
   "outputs": [
    {
     "data": {
      "text/plain": [
       "True"
      ]
     },
     "execution_count": 12,
     "metadata": {},
     "output_type": "execute_result"
    }
   ],
   "source": [
    "10 > 5"
   ]
  },
  {
   "cell_type": "code",
   "execution_count": 13,
   "id": "acffa6f6-c680-4bd9-8c34-9ba0b08edbfb",
   "metadata": {},
   "outputs": [
    {
     "data": {
      "text/plain": [
       "False"
      ]
     },
     "execution_count": 13,
     "metadata": {},
     "output_type": "execute_result"
    }
   ],
   "source": [
    "10 < 5"
   ]
  },
  {
   "cell_type": "code",
   "execution_count": 14,
   "id": "8547c0d9-fd74-4a5f-99ac-222025d78ee0",
   "metadata": {},
   "outputs": [
    {
     "data": {
      "text/plain": [
       "False"
      ]
     },
     "execution_count": 14,
     "metadata": {},
     "output_type": "execute_result"
    }
   ],
   "source": [
    "10 == 5"
   ]
  },
  {
   "cell_type": "code",
   "execution_count": 15,
   "id": "79c6e5bd-2c59-492c-8750-4ce91abf8d2d",
   "metadata": {},
   "outputs": [
    {
     "name": "stdout",
     "output_type": "stream",
     "text": [
      "a is greater than b\n"
     ]
    }
   ],
   "source": [
    "a = 10\n",
    "b = 5\n",
    "\n",
    "if a > b:\n",
    "    print('a is greater than b')\n",
    "else:\n",
    "    print('b is greater than a')"
   ]
  },
  {
   "cell_type": "markdown",
   "id": "f173db42-8f81-41a2-acfe-a5cb22266b88",
   "metadata": {},
   "source": [
    "# Evaluate Values and Variables"
   ]
  },
  {
   "cell_type": "code",
   "execution_count": 17,
   "id": "c7dc1dcc-c750-479f-8817-f19eeed333a1",
   "metadata": {},
   "outputs": [
    {
     "data": {
      "text/plain": [
       "True"
      ]
     },
     "execution_count": 17,
     "metadata": {},
     "output_type": "execute_result"
    }
   ],
   "source": [
    "bool('hello')"
   ]
  },
  {
   "cell_type": "code",
   "execution_count": 18,
   "id": "fdf190dc-0e22-4aa4-b725-5cf59a8430fa",
   "metadata": {},
   "outputs": [
    {
     "data": {
      "text/plain": [
       "True"
      ]
     },
     "execution_count": 18,
     "metadata": {},
     "output_type": "execute_result"
    }
   ],
   "source": [
    "bool(5)"
   ]
  },
  {
   "cell_type": "code",
   "execution_count": 19,
   "id": "63d9f17f-14b3-4482-a9be-2c6d36dbc202",
   "metadata": {},
   "outputs": [
    {
     "data": {
      "text/plain": [
       "False"
      ]
     },
     "execution_count": 19,
     "metadata": {},
     "output_type": "execute_result"
    }
   ],
   "source": [
    "bool(0)"
   ]
  },
  {
   "cell_type": "code",
   "execution_count": 20,
   "id": "26baab50-a92b-410f-8afd-d004ecf7f397",
   "metadata": {},
   "outputs": [
    {
     "data": {
      "text/plain": [
       "False"
      ]
     },
     "execution_count": 20,
     "metadata": {},
     "output_type": "execute_result"
    }
   ],
   "source": [
    "bool('')"
   ]
  },
  {
   "cell_type": "code",
   "execution_count": 21,
   "id": "f914025f-2af6-4add-ad30-e51297398c73",
   "metadata": {},
   "outputs": [
    {
     "data": {
      "text/plain": [
       "True"
      ]
     },
     "execution_count": 21,
     "metadata": {},
     "output_type": "execute_result"
    }
   ],
   "source": [
    "bool([\"apple\", \"cherry\", \"banana\"])"
   ]
  },
  {
   "cell_type": "code",
   "execution_count": 22,
   "id": "ff75856e-e249-4aa9-869f-2269363c9380",
   "metadata": {},
   "outputs": [
    {
     "data": {
      "text/plain": [
       "False"
      ]
     },
     "execution_count": 22,
     "metadata": {},
     "output_type": "execute_result"
    }
   ],
   "source": [
    "bool([])"
   ]
  },
  {
   "cell_type": "code",
   "execution_count": 23,
   "id": "fea13203-aa02-44de-b832-06ccf20141b9",
   "metadata": {},
   "outputs": [
    {
     "name": "stdout",
     "output_type": "stream",
     "text": [
      "False\n",
      "False\n",
      "False\n",
      "False\n",
      "False\n",
      "False\n",
      "False\n"
     ]
    }
   ],
   "source": [
    "print(bool(False))\n",
    "print(bool(None))\n",
    "print(bool(0))\n",
    "print(bool(\"\"))\n",
    "print(bool(()))\n",
    "print(bool([]))\n",
    "print(bool({}))"
   ]
  },
  {
   "cell_type": "code",
   "execution_count": 24,
   "id": "d4dbc6c4-157b-4078-9a46-a87e1026043e",
   "metadata": {},
   "outputs": [
    {
     "data": {
      "text/plain": [
       "True"
      ]
     },
     "execution_count": 24,
     "metadata": {},
     "output_type": "execute_result"
    }
   ],
   "source": [
    "def fun():\n",
    "    return True\n",
    "\n",
    "fun()"
   ]
  },
  {
   "cell_type": "code",
   "execution_count": 25,
   "id": "8dac853d-63a1-4860-90d7-d0765cec9bd9",
   "metadata": {},
   "outputs": [
    {
     "name": "stdout",
     "output_type": "stream",
     "text": [
      "Yes\n"
     ]
    }
   ],
   "source": [
    "if fun():\n",
    "    print('Yes')\n",
    "else:\n",
    "    print('No')"
   ]
  },
  {
   "cell_type": "code",
   "execution_count": 26,
   "id": "bf988fe6-77e2-4c48-8125-bb0c33ee042f",
   "metadata": {},
   "outputs": [
    {
     "data": {
      "text/plain": [
       "True"
      ]
     },
     "execution_count": 26,
     "metadata": {},
     "output_type": "execute_result"
    }
   ],
   "source": [
    "a = 100\n",
    "\n",
    "isinstance(a, int)"
   ]
  },
  {
   "cell_type": "code",
   "execution_count": 27,
   "id": "57e04f57-ab1d-41b0-83fb-b502c635c79b",
   "metadata": {},
   "outputs": [
    {
     "data": {
      "text/plain": [
       "False"
      ]
     },
     "execution_count": 27,
     "metadata": {},
     "output_type": "execute_result"
    }
   ],
   "source": [
    "isinstance(a, float)"
   ]
  },
  {
   "cell_type": "code",
   "execution_count": 28,
   "id": "1f8fad73-c888-4194-a74c-b4235073f7b1",
   "metadata": {},
   "outputs": [
    {
     "data": {
      "text/plain": [
       "True"
      ]
     },
     "execution_count": 28,
     "metadata": {},
     "output_type": "execute_result"
    }
   ],
   "source": [
    "name = \"Arunesh\"\n",
    "\n",
    "isinstance(name, str)"
   ]
  },
  {
   "cell_type": "code",
   "execution_count": 29,
   "id": "93363951-d511-401f-9f14-57c07730d6c4",
   "metadata": {},
   "outputs": [
    {
     "data": {
      "text/plain": [
       "False"
      ]
     },
     "execution_count": 29,
     "metadata": {},
     "output_type": "execute_result"
    }
   ],
   "source": [
    "name = 5\n",
    "\n",
    "isinstance(name, str)"
   ]
  },
  {
   "cell_type": "markdown",
   "id": "3cb428e7-6aeb-4020-b0f4-ff0016a60553",
   "metadata": {},
   "source": [
    "<h1 style='color:green;font-size:50px;'>Operators</h1>"
   ]
  },
  {
   "cell_type": "markdown",
   "id": "db96e4df-07e5-42ef-89b2-a77b4c38a07f",
   "metadata": {},
   "source": [
    "## Arithmetic Operators"
   ]
  },
  {
   "cell_type": "code",
   "execution_count": 30,
   "id": "0cd499dc-a238-4337-8cf7-a38b753931aa",
   "metadata": {},
   "outputs": [
    {
     "data": {
      "text/plain": [
       "10"
      ]
     },
     "execution_count": 30,
     "metadata": {},
     "output_type": "execute_result"
    }
   ],
   "source": [
    "5+5"
   ]
  },
  {
   "cell_type": "code",
   "execution_count": 31,
   "id": "d9b2bbe3-a6e1-406a-9042-62c200057aad",
   "metadata": {},
   "outputs": [
    {
     "data": {
      "text/plain": [
       "0"
      ]
     },
     "execution_count": 31,
     "metadata": {},
     "output_type": "execute_result"
    }
   ],
   "source": [
    "5 -5 "
   ]
  },
  {
   "cell_type": "code",
   "execution_count": 32,
   "id": "879bc080-1631-4814-80ac-00dcac46082b",
   "metadata": {},
   "outputs": [
    {
     "data": {
      "text/plain": [
       "25"
      ]
     },
     "execution_count": 32,
     "metadata": {},
     "output_type": "execute_result"
    }
   ],
   "source": [
    "5 * 5"
   ]
  },
  {
   "cell_type": "code",
   "execution_count": 33,
   "id": "04c50764-1107-4403-9d3e-99c4e59c6c67",
   "metadata": {},
   "outputs": [
    {
     "data": {
      "text/plain": [
       "1.0"
      ]
     },
     "execution_count": 33,
     "metadata": {},
     "output_type": "execute_result"
    }
   ],
   "source": [
    " 5 / 5"
   ]
  },
  {
   "cell_type": "code",
   "execution_count": 35,
   "id": "211c4812-c2cc-4098-b3c9-2e84774439e1",
   "metadata": {},
   "outputs": [
    {
     "data": {
      "text/plain": [
       "3125"
      ]
     },
     "execution_count": 35,
     "metadata": {},
     "output_type": "execute_result"
    }
   ],
   "source": [
    "5 ** 5 #  5*5*5*5*5"
   ]
  },
  {
   "cell_type": "code",
   "execution_count": 36,
   "id": "f1f6afaa-698e-4ba3-b6c1-f8ae5cc08d85",
   "metadata": {},
   "outputs": [
    {
     "data": {
      "text/plain": [
       "1"
      ]
     },
     "execution_count": 36,
     "metadata": {},
     "output_type": "execute_result"
    }
   ],
   "source": [
    "5 // 5"
   ]
  },
  {
   "cell_type": "markdown",
   "id": "e734df9f-189e-4871-b4ba-3ff206cbe2fa",
   "metadata": {},
   "source": [
    "## Assignment Operators"
   ]
  },
  {
   "cell_type": "code",
   "execution_count": 37,
   "id": "423a3b62-d9a6-4608-9e73-c7f71abd9284",
   "metadata": {},
   "outputs": [
    {
     "name": "stdout",
     "output_type": "stream",
     "text": [
      "10\n"
     ]
    }
   ],
   "source": [
    "a = 5\n",
    "\n",
    "a += 5\n",
    "\n",
    "print(a)"
   ]
  },
  {
   "cell_type": "code",
   "execution_count": 38,
   "id": "ea027a53-583b-4faf-8e37-27ce188fc0a4",
   "metadata": {},
   "outputs": [
    {
     "name": "stdout",
     "output_type": "stream",
     "text": [
      "5\n"
     ]
    }
   ],
   "source": [
    "a = 10\n",
    "\n",
    "a -= 5\n",
    "\n",
    "print(a)"
   ]
  },
  {
   "cell_type": "code",
   "execution_count": 39,
   "id": "ed59c773-bc91-4a52-b1c0-898a65b45e18",
   "metadata": {},
   "outputs": [
    {
     "name": "stdout",
     "output_type": "stream",
     "text": [
      "25\n"
     ]
    }
   ],
   "source": [
    "a = 5\n",
    "\n",
    "a *= 5\n",
    "\n",
    "print(a)"
   ]
  },
  {
   "cell_type": "code",
   "execution_count": 40,
   "id": "51d9a4dc-5121-4951-9cbf-33f72d868e9b",
   "metadata": {},
   "outputs": [
    {
     "name": "stdout",
     "output_type": "stream",
     "text": [
      "3.0\n"
     ]
    }
   ],
   "source": [
    "a = 15\n",
    "\n",
    "a /= 5\n",
    "\n",
    "print(a)"
   ]
  },
  {
   "cell_type": "code",
   "execution_count": 41,
   "id": "02ca145c-7ee7-452d-95fc-65f0ee9ef8e8",
   "metadata": {},
   "outputs": [
    {
     "name": "stdout",
     "output_type": "stream",
     "text": [
      "1\n"
     ]
    }
   ],
   "source": [
    "a = 16\n",
    "\n",
    "a %= 5\n",
    "\n",
    "print(a)"
   ]
  },
  {
   "cell_type": "code",
   "execution_count": 43,
   "id": "637d5dba-dd57-4af2-9724-4d669e29017c",
   "metadata": {},
   "outputs": [
    {
     "name": "stdout",
     "output_type": "stream",
     "text": [
      "3\n"
     ]
    }
   ],
   "source": [
    "a = 16\n",
    "\n",
    "a //= 5\n",
    "\n",
    "print(a)"
   ]
  },
  {
   "cell_type": "code",
   "execution_count": 44,
   "id": "2789c898-7401-4bb2-8a00-19c860d95e90",
   "metadata": {},
   "outputs": [
    {
     "name": "stdout",
     "output_type": "stream",
     "text": [
      "3125\n"
     ]
    }
   ],
   "source": [
    "a = 5\n",
    "\n",
    "a **= 5\n",
    "\n",
    "print(a)"
   ]
  },
  {
   "cell_type": "markdown",
   "id": "9ecf994e-c5db-4f14-b01a-4424e4f892fd",
   "metadata": {},
   "source": [
    "## Comparison Operators"
   ]
  },
  {
   "cell_type": "code",
   "execution_count": 45,
   "id": "ab90bd52-36f1-42ee-be28-85c8d3cdc457",
   "metadata": {},
   "outputs": [
    {
     "data": {
      "text/plain": [
       "True"
      ]
     },
     "execution_count": 45,
     "metadata": {},
     "output_type": "execute_result"
    }
   ],
   "source": [
    "5 == 5"
   ]
  },
  {
   "cell_type": "code",
   "execution_count": 46,
   "id": "cdafa75f-c006-4826-9e3f-fe12ced92800",
   "metadata": {},
   "outputs": [
    {
     "data": {
      "text/plain": [
       "False"
      ]
     },
     "execution_count": 46,
     "metadata": {},
     "output_type": "execute_result"
    }
   ],
   "source": [
    "10 == 5"
   ]
  },
  {
   "cell_type": "code",
   "execution_count": 47,
   "id": "e69a5184-28eb-4302-a107-ec4680be26f1",
   "metadata": {},
   "outputs": [
    {
     "data": {
      "text/plain": [
       "True"
      ]
     },
     "execution_count": 47,
     "metadata": {},
     "output_type": "execute_result"
    }
   ],
   "source": [
    "10 != 5"
   ]
  },
  {
   "cell_type": "code",
   "execution_count": 48,
   "id": "176c4360-582e-4877-8166-98ae75a39838",
   "metadata": {},
   "outputs": [
    {
     "data": {
      "text/plain": [
       "False"
      ]
     },
     "execution_count": 48,
     "metadata": {},
     "output_type": "execute_result"
    }
   ],
   "source": [
    "5 != 5"
   ]
  },
  {
   "cell_type": "code",
   "execution_count": 49,
   "id": "a1837fe0-57bf-4401-9410-c5b410d0d64e",
   "metadata": {},
   "outputs": [
    {
     "data": {
      "text/plain": [
       "True"
      ]
     },
     "execution_count": 49,
     "metadata": {},
     "output_type": "execute_result"
    }
   ],
   "source": [
    "10 > 5"
   ]
  },
  {
   "cell_type": "code",
   "execution_count": 50,
   "id": "c7d40af1-7b60-4bca-8571-19baef0c2b11",
   "metadata": {},
   "outputs": [
    {
     "data": {
      "text/plain": [
       "False"
      ]
     },
     "execution_count": 50,
     "metadata": {},
     "output_type": "execute_result"
    }
   ],
   "source": [
    "10 < 5"
   ]
  },
  {
   "cell_type": "code",
   "execution_count": 51,
   "id": "d419e89b-3238-46ac-858f-4331d829bef3",
   "metadata": {},
   "outputs": [
    {
     "data": {
      "text/plain": [
       "True"
      ]
     },
     "execution_count": 51,
     "metadata": {},
     "output_type": "execute_result"
    }
   ],
   "source": [
    "10 >= 5"
   ]
  },
  {
   "cell_type": "code",
   "execution_count": 52,
   "id": "887b6e13-e224-44f4-92f1-3a46da422a3a",
   "metadata": {},
   "outputs": [
    {
     "data": {
      "text/plain": [
       "True"
      ]
     },
     "execution_count": 52,
     "metadata": {},
     "output_type": "execute_result"
    }
   ],
   "source": [
    "10 >= 10"
   ]
  },
  {
   "cell_type": "code",
   "execution_count": 53,
   "id": "3d17f14f-19a1-477b-a812-0b0bdda4088f",
   "metadata": {},
   "outputs": [
    {
     "data": {
      "text/plain": [
       "False"
      ]
     },
     "execution_count": 53,
     "metadata": {},
     "output_type": "execute_result"
    }
   ],
   "source": [
    "10 <= 5"
   ]
  },
  {
   "cell_type": "code",
   "execution_count": 54,
   "id": "cb73a703-0d56-4c00-a5df-bfa93b0d0ecb",
   "metadata": {},
   "outputs": [
    {
     "data": {
      "text/plain": [
       "True"
      ]
     },
     "execution_count": 54,
     "metadata": {},
     "output_type": "execute_result"
    }
   ],
   "source": [
    "10 <= 15"
   ]
  },
  {
   "cell_type": "markdown",
   "id": "9f22bb4c-828e-48c4-af47-a12d32ee18d2",
   "metadata": {},
   "source": [
    "## Logical Operators"
   ]
  },
  {
   "cell_type": "code",
   "execution_count": 55,
   "id": "9a06abbe-14cc-4fdb-bf7b-551618352ef5",
   "metadata": {},
   "outputs": [
    {
     "data": {
      "text/plain": [
       "True"
      ]
     },
     "execution_count": 55,
     "metadata": {},
     "output_type": "execute_result"
    }
   ],
   "source": [
    "10 > 5 and 20 < 25"
   ]
  },
  {
   "cell_type": "code",
   "execution_count": 56,
   "id": "fe6ff0f8-649f-4e33-82c0-e0d727d7e01a",
   "metadata": {},
   "outputs": [
    {
     "data": {
      "text/plain": [
       "False"
      ]
     },
     "execution_count": 56,
     "metadata": {},
     "output_type": "execute_result"
    }
   ],
   "source": [
    "10 < 5 and 20 < 25"
   ]
  },
  {
   "cell_type": "code",
   "execution_count": 57,
   "id": "5ca3bccb-08cb-46b2-8e97-a0c75d1e4a57",
   "metadata": {},
   "outputs": [
    {
     "data": {
      "text/plain": [
       "True"
      ]
     },
     "execution_count": 57,
     "metadata": {},
     "output_type": "execute_result"
    }
   ],
   "source": [
    "10 > 5 or 20 < 25"
   ]
  },
  {
   "cell_type": "code",
   "execution_count": 58,
   "id": "5b949429-720e-4286-b6e1-9a06bb511167",
   "metadata": {},
   "outputs": [
    {
     "data": {
      "text/plain": [
       "True"
      ]
     },
     "execution_count": 58,
     "metadata": {},
     "output_type": "execute_result"
    }
   ],
   "source": [
    "10 < 5 or 20 < 25"
   ]
  },
  {
   "cell_type": "code",
   "execution_count": 59,
   "id": "a132b65f-ab9b-4798-912a-cb6c1c4354e5",
   "metadata": {},
   "outputs": [
    {
     "data": {
      "text/plain": [
       "True"
      ]
     },
     "execution_count": 59,
     "metadata": {},
     "output_type": "execute_result"
    }
   ],
   "source": [
    "not(10 < 5 and 20 < 25)"
   ]
  },
  {
   "cell_type": "code",
   "execution_count": 60,
   "id": "46956e8d-16f9-4d46-86d6-a14fcdecd53c",
   "metadata": {},
   "outputs": [
    {
     "data": {
      "text/plain": [
       "False"
      ]
     },
     "execution_count": 60,
     "metadata": {},
     "output_type": "execute_result"
    }
   ],
   "source": [
    "not(10 > 5 and 20 < 25)"
   ]
  },
  {
   "cell_type": "markdown",
   "id": "a033a4aa-8777-41cb-980c-7b2f7e2ac4cf",
   "metadata": {},
   "source": [
    "## Identity Operators"
   ]
  },
  {
   "cell_type": "code",
   "execution_count": 61,
   "id": "55d5a778-b49c-4364-8f96-6c8ab39192ac",
   "metadata": {},
   "outputs": [
    {
     "data": {
      "text/plain": [
       "True"
      ]
     },
     "execution_count": 61,
     "metadata": {},
     "output_type": "execute_result"
    }
   ],
   "source": [
    "a = 5\n",
    "b = 5\n",
    "\n",
    "a is b"
   ]
  },
  {
   "cell_type": "code",
   "execution_count": 62,
   "id": "44beacf3-9e5c-4984-b5ec-e20ef6f34f38",
   "metadata": {},
   "outputs": [
    {
     "data": {
      "text/plain": [
       "True"
      ]
     },
     "execution_count": 62,
     "metadata": {},
     "output_type": "execute_result"
    }
   ],
   "source": [
    "a = 'arun'\n",
    "b = 'arun'\n",
    "\n",
    "a is b"
   ]
  },
  {
   "cell_type": "code",
   "execution_count": 63,
   "id": "6f0c32d2-2553-4f25-97dc-4e97d09656a5",
   "metadata": {},
   "outputs": [
    {
     "data": {
      "text/plain": [
       "False"
      ]
     },
     "execution_count": 63,
     "metadata": {},
     "output_type": "execute_result"
    }
   ],
   "source": [
    "a = [1,2,3,4,5]\n",
    "b = [1,2,3,4,5]\n",
    "\n",
    "a is b"
   ]
  },
  {
   "cell_type": "code",
   "execution_count": 64,
   "id": "8649a56f-0f65-422b-bf08-4bee00c90480",
   "metadata": {},
   "outputs": [
    {
     "data": {
      "text/plain": [
       "False"
      ]
     },
     "execution_count": 64,
     "metadata": {},
     "output_type": "execute_result"
    }
   ],
   "source": [
    "a = 5\n",
    "b = 5\n",
    "\n",
    "a is not b"
   ]
  },
  {
   "cell_type": "code",
   "execution_count": 66,
   "id": "2349b9d7-b01b-4884-909e-d3e09dca6b17",
   "metadata": {},
   "outputs": [
    {
     "data": {
      "text/plain": [
       "False"
      ]
     },
     "execution_count": 66,
     "metadata": {},
     "output_type": "execute_result"
    }
   ],
   "source": [
    "a = 'arun'\n",
    "b = 'arun'\n",
    "\n",
    "a is not b"
   ]
  },
  {
   "cell_type": "code",
   "execution_count": 67,
   "id": "c0d15d35-8d34-41ad-b642-bba4ac6674e0",
   "metadata": {},
   "outputs": [
    {
     "data": {
      "text/plain": [
       "True"
      ]
     },
     "execution_count": 67,
     "metadata": {},
     "output_type": "execute_result"
    }
   ],
   "source": [
    "a = [1,2,3,4,5]\n",
    "b = [1,2,3,4,5]\n",
    "\n",
    "a is not b"
   ]
  },
  {
   "cell_type": "markdown",
   "id": "16de46ba-7009-447c-a142-98d248efa279",
   "metadata": {},
   "source": [
    "## Membership Operators"
   ]
  },
  {
   "cell_type": "code",
   "execution_count": 68,
   "id": "8b11514d-54ce-42d2-878a-cd7d1de08c01",
   "metadata": {},
   "outputs": [
    {
     "name": "stdout",
     "output_type": "stream",
     "text": [
      "True\n"
     ]
    }
   ],
   "source": [
    "x = ['a','b']\n",
    "\n",
    "print('a' in x)"
   ]
  },
  {
   "cell_type": "code",
   "execution_count": 69,
   "id": "331b084c-4935-4a05-afbe-27866ce2a8d9",
   "metadata": {},
   "outputs": [
    {
     "name": "stdout",
     "output_type": "stream",
     "text": [
      "False\n"
     ]
    }
   ],
   "source": [
    "x = ['a','b']\n",
    "\n",
    "print('c' in x)"
   ]
  },
  {
   "cell_type": "code",
   "execution_count": 70,
   "id": "9f67f873-564c-4e2e-88c3-92e3a50b2b2f",
   "metadata": {},
   "outputs": [
    {
     "name": "stdout",
     "output_type": "stream",
     "text": [
      "True\n"
     ]
    }
   ],
   "source": [
    "x = ['a','b']\n",
    "\n",
    "print('c' not in x)"
   ]
  },
  {
   "cell_type": "markdown",
   "id": "202f556b-3e39-4b57-82d0-13eb9e07db93",
   "metadata": {},
   "source": [
    "<h1 style='color:green;font-size:100px;'>If ... Else</h1>"
   ]
  },
  {
   "cell_type": "code",
   "execution_count": 71,
   "id": "2e36ddf0-ba7c-4861-937d-e2343262b4af",
   "metadata": {},
   "outputs": [],
   "source": [
    "a = 10\n",
    "\n",
    "b = 5"
   ]
  },
  {
   "cell_type": "code",
   "execution_count": 72,
   "id": "06369df1-b5be-464a-b564-cc1a3c53e632",
   "metadata": {},
   "outputs": [
    {
     "name": "stdout",
     "output_type": "stream",
     "text": [
      "a is greater than b\n"
     ]
    }
   ],
   "source": [
    "if a > b:\n",
    "    print('a is greater than b')\n",
    "elif a < b:\n",
    "    print('b is greater than a')\n",
    "else:\n",
    "    print('Both are equal')"
   ]
  },
  {
   "cell_type": "markdown",
   "id": "f364cb0d-28bd-4d53-b07f-8d84c657e63b",
   "metadata": {},
   "source": [
    "### Short Hand If"
   ]
  },
  {
   "cell_type": "code",
   "execution_count": 73,
   "id": "a0a6464a-51f5-4aad-8486-7629f51d45f4",
   "metadata": {},
   "outputs": [
    {
     "name": "stdout",
     "output_type": "stream",
     "text": [
      "a is greater than b\n"
     ]
    }
   ],
   "source": [
    "if a > b : print('a is greater than b')"
   ]
  },
  {
   "cell_type": "markdown",
   "id": "ed4e3027-2b70-481d-b772-f2c48c1f4d18",
   "metadata": {},
   "source": [
    "### Short Hand If ... Else ( Ternary Operators, or Conditional Expressions. )"
   ]
  },
  {
   "cell_type": "code",
   "execution_count": 74,
   "id": "2d6602cf-aa69-49c2-a16e-b7a4f4e2789c",
   "metadata": {},
   "outputs": [],
   "source": [
    "# if a < b : print('a is greater than b') else print('b is greater than a')\n",
    "\n",
    "# wrong format"
   ]
  },
  {
   "cell_type": "code",
   "execution_count": 78,
   "id": "8f00045c-0eb2-4909-b3a5-64dac924dbb8",
   "metadata": {},
   "outputs": [
    {
     "name": "stdout",
     "output_type": "stream",
     "text": [
      "b is greater than a\n"
     ]
    }
   ],
   "source": [
    "print('a is greater than b') if a < b else print('b is greater than a')\n",
    "\n",
    "# answer not correct"
   ]
  },
  {
   "cell_type": "markdown",
   "id": "c277e859-5860-4098-93ec-ee4a444cac33",
   "metadata": {},
   "source": [
    "### logical if else"
   ]
  },
  {
   "cell_type": "code",
   "execution_count": 79,
   "id": "466c876d-9e05-453d-8238-bc9e7977b51d",
   "metadata": {},
   "outputs": [],
   "source": [
    "a = 30\n",
    "b = 10\n",
    "c = 20"
   ]
  },
  {
   "cell_type": "code",
   "execution_count": 80,
   "id": "1f70c4be-6f21-40af-9662-7cc242de7d7b",
   "metadata": {},
   "outputs": [
    {
     "name": "stdout",
     "output_type": "stream",
     "text": [
      "True\n"
     ]
    }
   ],
   "source": [
    "if a > b and c > b:\n",
    "    print(True)\n",
    "else:\n",
    "    print(False)"
   ]
  },
  {
   "cell_type": "code",
   "execution_count": 81,
   "id": "73929490-7922-485f-bfa8-98e836bf3d6b",
   "metadata": {},
   "outputs": [
    {
     "name": "stdout",
     "output_type": "stream",
     "text": [
      "False\n"
     ]
    }
   ],
   "source": [
    "if a > b and c < b:\n",
    "    print(True)\n",
    "else:\n",
    "    print(False)"
   ]
  },
  {
   "cell_type": "code",
   "execution_count": 82,
   "id": "1cac3b5b-8e7e-4d8d-8342-b853ebef6c18",
   "metadata": {},
   "outputs": [
    {
     "name": "stdout",
     "output_type": "stream",
     "text": [
      "True\n"
     ]
    }
   ],
   "source": [
    "if a > b or c < b:\n",
    "    print(True)\n",
    "else:\n",
    "    print(False)"
   ]
  },
  {
   "cell_type": "markdown",
   "id": "b76b9581-7752-4afe-9f62-d28408c91f97",
   "metadata": {},
   "source": [
    "### Nested If else"
   ]
  },
  {
   "cell_type": "code",
   "execution_count": 83,
   "id": "f391d89a-97ab-46ea-a82f-f4802873370f",
   "metadata": {},
   "outputs": [],
   "source": [
    "a = True\n",
    "b = True\n",
    "c = False"
   ]
  },
  {
   "cell_type": "code",
   "execution_count": 84,
   "id": "b384b2cf-f08e-4c75-82ea-541ab3229e79",
   "metadata": {},
   "outputs": [
    {
     "name": "stdout",
     "output_type": "stream",
     "text": [
      "Correct\n"
     ]
    }
   ],
   "source": [
    "if a == True and b == True:\n",
    "    if a == True or c == False:\n",
    "        print('Correct')\n",
    "    else:\n",
    "        print('Worng')\n",
    "else:\n",
    "    print(False)"
   ]
  },
  {
   "cell_type": "markdown",
   "id": "e52d763a-b0db-4a6e-b842-a190fa44b986",
   "metadata": {},
   "source": [
    "<h1 style='color:green;font-size:100px;'>While Loop</h1>"
   ]
  },
  {
   "cell_type": "code",
   "execution_count": 85,
   "id": "dfe5cc4c-c930-45c8-aecb-67e67cc5db78",
   "metadata": {},
   "outputs": [
    {
     "name": "stdout",
     "output_type": "stream",
     "text": [
      "1\n",
      "2\n",
      "3\n",
      "4\n",
      "5\n"
     ]
    }
   ],
   "source": [
    "x = 1\n",
    "\n",
    "while x <= 5:\n",
    "    print(x)\n",
    "    x += 1"
   ]
  },
  {
   "cell_type": "code",
   "execution_count": 86,
   "id": "38d9a382-f8f3-4332-8e0f-8ecc69cf57cf",
   "metadata": {},
   "outputs": [
    {
     "name": "stdout",
     "output_type": "stream",
     "text": [
      "1\n",
      "2\n",
      "3\n"
     ]
    }
   ],
   "source": [
    "# break\n",
    "\n",
    "x = 1\n",
    "\n",
    "while x <= 5:\n",
    "    print(x)\n",
    "    if x == 3:\n",
    "        break\n",
    "    x += 1"
   ]
  },
  {
   "cell_type": "code",
   "execution_count": 87,
   "id": "f1025f63-dd28-4dd7-90b2-668b13f84470",
   "metadata": {},
   "outputs": [
    {
     "name": "stdout",
     "output_type": "stream",
     "text": [
      "2\n",
      "4\n",
      "5\n",
      "6\n"
     ]
    }
   ],
   "source": [
    "# continue\n",
    "\n",
    "x = 1\n",
    "\n",
    "while x < 6:\n",
    "    x += 1\n",
    "    if x == 3:\n",
    "        continue\n",
    "    print(x)"
   ]
  },
  {
   "cell_type": "code",
   "execution_count": 88,
   "id": "0bd9932a-417b-48c9-a3c8-0ec887fd925c",
   "metadata": {},
   "outputs": [
    {
     "name": "stdout",
     "output_type": "stream",
     "text": [
      "1\n",
      "2\n",
      "3\n",
      "4\n",
      "5\n",
      "Loop Finished\n"
     ]
    }
   ],
   "source": [
    "x = 1\n",
    "\n",
    "while x <= 5:\n",
    "    print(x)\n",
    "    x += 1\n",
    "else:\n",
    "    print('Loop Finished')"
   ]
  },
  {
   "cell_type": "markdown",
   "id": "8100b1a3-7ad1-4902-a2b4-de2ff822a00f",
   "metadata": {},
   "source": [
    "<h1 style='color:green;font-size:100px;'>For Loop</h1>"
   ]
  },
  {
   "cell_type": "code",
   "execution_count": 89,
   "id": "b5bc1ef4-d934-4647-b969-70e001e0cb77",
   "metadata": {},
   "outputs": [
    {
     "name": "stdout",
     "output_type": "stream",
     "text": [
      "A\n",
      "r\n",
      "u\n",
      "n\n",
      "e\n",
      "s\n",
      "h\n"
     ]
    }
   ],
   "source": [
    "name = 'Arunesh'\n",
    "\n",
    "for nm in name:\n",
    "    print(nm)"
   ]
  },
  {
   "cell_type": "code",
   "execution_count": 90,
   "id": "37561257-a826-450d-a483-21c0b869a99f",
   "metadata": {},
   "outputs": [],
   "source": [
    "x = ['Mohan', 'Sohan', 'Dohan', 'Pohan', 'Lohan']"
   ]
  },
  {
   "cell_type": "code",
   "execution_count": 91,
   "id": "2fb1260f-d70e-447c-ba23-9443ac484922",
   "metadata": {},
   "outputs": [
    {
     "name": "stdout",
     "output_type": "stream",
     "text": [
      "Mohan\n",
      "Sohan\n",
      "Dohan\n",
      "Pohan\n",
      "Lohan\n"
     ]
    }
   ],
   "source": [
    "for a in x:\n",
    "    print(a)"
   ]
  },
  {
   "cell_type": "code",
   "execution_count": 92,
   "id": "75e285a0-2d43-427e-8abd-0cfdce75d62c",
   "metadata": {},
   "outputs": [
    {
     "name": "stdout",
     "output_type": "stream",
     "text": [
      "Mohan\n",
      "Sohan\n",
      "Dohan\n"
     ]
    }
   ],
   "source": [
    "for a in x:\n",
    "    print(a)\n",
    "    if a == 'Dohan':\n",
    "        break"
   ]
  },
  {
   "cell_type": "code",
   "execution_count": 93,
   "id": "8d33c5ed-990c-40f7-937a-6effc401f929",
   "metadata": {},
   "outputs": [
    {
     "name": "stdout",
     "output_type": "stream",
     "text": [
      "Mohan\n",
      "Sohan\n"
     ]
    }
   ],
   "source": [
    "for a in x:\n",
    "    if a == 'Dohan':\n",
    "        break\n",
    "    print(a)"
   ]
  },
  {
   "cell_type": "code",
   "execution_count": 94,
   "id": "7b7fdfef-d096-45b8-8d70-cf13244865fa",
   "metadata": {},
   "outputs": [
    {
     "name": "stdout",
     "output_type": "stream",
     "text": [
      "Mohan\n",
      "Sohan\n",
      "Pohan\n",
      "Lohan\n"
     ]
    }
   ],
   "source": [
    "for a in x:\n",
    "    if a == 'Dohan':\n",
    "        continue\n",
    "    print(a)"
   ]
  },
  {
   "cell_type": "code",
   "execution_count": 95,
   "id": "9cab6241-8fd5-4de7-a3e1-18fb1e32c2a6",
   "metadata": {},
   "outputs": [
    {
     "name": "stdout",
     "output_type": "stream",
     "text": [
      "Mohan\n",
      "Sohan\n",
      "Dohan\n",
      "Pohan\n",
      "Lohan\n"
     ]
    }
   ],
   "source": [
    "for a in x:\n",
    "    print(a)\n",
    "    if a == 'Dohan':\n",
    "        continue"
   ]
  },
  {
   "cell_type": "markdown",
   "id": "d143a7e5-1f6e-46b9-b40f-cfc6d2b7baf8",
   "metadata": {},
   "source": [
    "### range() Function"
   ]
  },
  {
   "cell_type": "code",
   "execution_count": 96,
   "id": "b490f4bb-27cd-49a8-8e65-f213e60f5b5e",
   "metadata": {},
   "outputs": [
    {
     "name": "stdout",
     "output_type": "stream",
     "text": [
      "0\n",
      "1\n",
      "2\n",
      "3\n",
      "4\n",
      "5\n"
     ]
    }
   ],
   "source": [
    "for x in range(6):\n",
    "    print(x)"
   ]
  },
  {
   "cell_type": "code",
   "execution_count": 97,
   "id": "4dc34708-6612-440b-9ff3-73081546de2c",
   "metadata": {},
   "outputs": [
    {
     "name": "stdout",
     "output_type": "stream",
     "text": [
      "5\n",
      "6\n",
      "7\n",
      "8\n",
      "9\n",
      "10\n"
     ]
    }
   ],
   "source": [
    "for x in range(5, 11):\n",
    "    print(x)"
   ]
  },
  {
   "cell_type": "code",
   "execution_count": 98,
   "id": "79a50650-b9cf-47f1-a255-d96143f8e518",
   "metadata": {},
   "outputs": [
    {
     "name": "stdout",
     "output_type": "stream",
     "text": [
      "1\n",
      "3\n",
      "5\n",
      "7\n",
      "9\n"
     ]
    }
   ],
   "source": [
    "for x in range(1, 10, 2):\n",
    "    print(x)"
   ]
  },
  {
   "cell_type": "code",
   "execution_count": 99,
   "id": "c38c2a01-8a5d-47fc-9cc5-d9c044972a91",
   "metadata": {},
   "outputs": [
    {
     "name": "stdout",
     "output_type": "stream",
     "text": [
      "1\n",
      "3\n",
      "5\n",
      "7\n",
      "9\n",
      "Loop end\n"
     ]
    }
   ],
   "source": [
    "for x in range(1, 10, 2):\n",
    "    print(x)\n",
    "else:\n",
    "    print('Loop end')"
   ]
  },
  {
   "cell_type": "code",
   "execution_count": 100,
   "id": "6678f2d5-9c7b-4c0f-bb20-8b9bcd6eb40d",
   "metadata": {},
   "outputs": [
    {
     "name": "stdout",
     "output_type": "stream",
     "text": [
      "1\n",
      "3\n",
      "5\n"
     ]
    }
   ],
   "source": [
    "for x in range(1, 10, 2):\n",
    "    if x == 7: break\n",
    "    print(x)\n",
    "else:\n",
    "    print('Loop end')"
   ]
  },
  {
   "cell_type": "code",
   "execution_count": 102,
   "id": "cfcc6451-8ea0-43b2-ab23-cdae4c7f5af3",
   "metadata": {},
   "outputs": [],
   "source": [
    "a = ['A','B','C','D','E']\n",
    "\n",
    "b = ['Mohan', 'Sohan', 'Dohan', 'Pohan', 'Lohan']"
   ]
  },
  {
   "cell_type": "code",
   "execution_count": 103,
   "id": "2a30ba64-3103-40f3-8ebc-178b5e72441e",
   "metadata": {},
   "outputs": [
    {
     "name": "stdout",
     "output_type": "stream",
     "text": [
      "A = Mohan\n",
      "A = Sohan\n",
      "A = Dohan\n",
      "A = Pohan\n",
      "A = Lohan\n",
      "B = Mohan\n",
      "B = Sohan\n",
      "B = Dohan\n",
      "B = Pohan\n",
      "B = Lohan\n",
      "C = Mohan\n",
      "C = Sohan\n",
      "C = Dohan\n",
      "C = Pohan\n",
      "C = Lohan\n",
      "D = Mohan\n",
      "D = Sohan\n",
      "D = Dohan\n",
      "D = Pohan\n",
      "D = Lohan\n",
      "E = Mohan\n",
      "E = Sohan\n",
      "E = Dohan\n",
      "E = Pohan\n",
      "E = Lohan\n"
     ]
    }
   ],
   "source": [
    "for x in a:\n",
    "    for y in b:\n",
    "        print(f\"{x} = {y}\")"
   ]
  },
  {
   "cell_type": "markdown",
   "id": "e187ed76-9cb8-4644-a90a-b1fa8c1ecbe6",
   "metadata": {},
   "source": [
    "<h1 style='color:green;font-size:100px;'>Arrays</h1>"
   ]
  },
  {
   "cell_type": "code",
   "execution_count": 104,
   "id": "fe70131e-ae6d-4fca-907a-71690c5a6d74",
   "metadata": {},
   "outputs": [],
   "source": [
    "arr = [1, 2, 3, 4, 5]"
   ]
  },
  {
   "cell_type": "code",
   "execution_count": 105,
   "id": "330f93af-41b4-43f8-a223-d7d5cfbfaa12",
   "metadata": {},
   "outputs": [
    {
     "data": {
      "text/plain": [
       "[1, 2, 3, 4, 5]"
      ]
     },
     "execution_count": 105,
     "metadata": {},
     "output_type": "execute_result"
    }
   ],
   "source": [
    "arr"
   ]
  },
  {
   "cell_type": "code",
   "execution_count": 106,
   "id": "283ac2b8-8dbb-434b-9234-607b9af1b705",
   "metadata": {},
   "outputs": [
    {
     "data": {
      "text/plain": [
       "1"
      ]
     },
     "execution_count": 106,
     "metadata": {},
     "output_type": "execute_result"
    }
   ],
   "source": [
    "arr[0]"
   ]
  },
  {
   "cell_type": "code",
   "execution_count": 107,
   "id": "d5813b73-2722-4c4d-864b-a381ea1a16ba",
   "metadata": {},
   "outputs": [],
   "source": [
    "arr[1] = 'Hello'"
   ]
  },
  {
   "cell_type": "code",
   "execution_count": 108,
   "id": "0734e1fc-824a-4a0d-b35d-78a0680b5edb",
   "metadata": {},
   "outputs": [
    {
     "data": {
      "text/plain": [
       "[1, 'Hello', 3, 4, 5]"
      ]
     },
     "execution_count": 108,
     "metadata": {},
     "output_type": "execute_result"
    }
   ],
   "source": [
    "arr"
   ]
  },
  {
   "cell_type": "code",
   "execution_count": 109,
   "id": "e85e01f3-96f9-420f-85e8-5dd72817ffec",
   "metadata": {},
   "outputs": [
    {
     "data": {
      "text/plain": [
       "5"
      ]
     },
     "execution_count": 109,
     "metadata": {},
     "output_type": "execute_result"
    }
   ],
   "source": [
    "len(arr)"
   ]
  },
  {
   "cell_type": "code",
   "execution_count": 110,
   "id": "4f6460aa-c9b9-4ebe-b6f6-b6be0ceba261",
   "metadata": {},
   "outputs": [
    {
     "name": "stdout",
     "output_type": "stream",
     "text": [
      "1\n",
      "Hello\n",
      "3\n",
      "4\n",
      "5\n"
     ]
    }
   ],
   "source": [
    "for x in arr:\n",
    "    print(x)"
   ]
  },
  {
   "cell_type": "code",
   "execution_count": 111,
   "id": "e8bf0f3e-a69d-4097-a79b-1fce82bf7292",
   "metadata": {},
   "outputs": [],
   "source": [
    "arr.append('New')"
   ]
  },
  {
   "cell_type": "code",
   "execution_count": 40,
   "id": "82aae5de-ddb4-4fff-ac94-1d78fff3badc",
   "metadata": {},
   "outputs": [
    {
     "data": {
      "text/plain": [
       "[1, 'Hello', 3, 4, 5, 'New']"
      ]
     },
     "execution_count": 40,
     "metadata": {},
     "output_type": "execute_result"
    }
   ],
   "source": [
    "arr"
   ]
  },
  {
   "cell_type": "code",
   "execution_count": 112,
   "id": "62b4d0f4-5c0f-40fe-bcd2-8db3be81f173",
   "metadata": {},
   "outputs": [
    {
     "data": {
      "text/plain": [
       "'New'"
      ]
     },
     "execution_count": 112,
     "metadata": {},
     "output_type": "execute_result"
    }
   ],
   "source": [
    "arr.pop()"
   ]
  },
  {
   "cell_type": "code",
   "execution_count": 113,
   "id": "9afe6a7f-d736-4850-9e80-81ccc7fd1175",
   "metadata": {},
   "outputs": [
    {
     "data": {
      "text/plain": [
       "[1, 'Hello', 3, 4, 5]"
      ]
     },
     "execution_count": 113,
     "metadata": {},
     "output_type": "execute_result"
    }
   ],
   "source": [
    "arr"
   ]
  },
  {
   "cell_type": "code",
   "execution_count": 114,
   "id": "e3e876ea-854a-4d9c-bb51-3f2727cfe453",
   "metadata": {},
   "outputs": [],
   "source": [
    "arr.remove('Hello')"
   ]
  },
  {
   "cell_type": "code",
   "execution_count": 115,
   "id": "aa1d6690-cf1d-4434-93c5-aab127c98eb5",
   "metadata": {},
   "outputs": [
    {
     "data": {
      "text/plain": [
       "[1, 3, 4, 5]"
      ]
     },
     "execution_count": 115,
     "metadata": {},
     "output_type": "execute_result"
    }
   ],
   "source": [
    "arr"
   ]
  },
  {
   "cell_type": "markdown",
   "id": "aca5ae46-826e-4a8b-9495-5d93f26ff73d",
   "metadata": {},
   "source": [
    "<h1 style='color:green;font-size:100px;'>Datetime</h1>"
   ]
  },
  {
   "cell_type": "code",
   "execution_count": 116,
   "id": "05a7e9d8-e623-41a0-b77d-d1b90c552dd7",
   "metadata": {},
   "outputs": [],
   "source": [
    "from datetime import datetime"
   ]
  },
  {
   "cell_type": "code",
   "execution_count": 117,
   "id": "16ceb04a-42c1-4a4c-af29-3af93ee84a98",
   "metadata": {},
   "outputs": [
    {
     "data": {
      "text/plain": [
       "datetime.datetime(2022, 3, 28, 4, 40, 7, 104886)"
      ]
     },
     "execution_count": 117,
     "metadata": {},
     "output_type": "execute_result"
    }
   ],
   "source": [
    "datetime.now()"
   ]
  },
  {
   "cell_type": "code",
   "execution_count": 118,
   "id": "aaf90638-a1f3-4ab9-b83d-eb48fbb13dda",
   "metadata": {},
   "outputs": [
    {
     "data": {
      "text/plain": [
       "datetime.datetime(2022, 3, 28, 4, 40, 9, 571257)"
      ]
     },
     "execution_count": 118,
     "metadata": {},
     "output_type": "execute_result"
    }
   ],
   "source": [
    "x = datetime.now()\n",
    "\n",
    "x"
   ]
  },
  {
   "cell_type": "code",
   "execution_count": 119,
   "id": "195ee784-0935-41e5-a434-3e7899751517",
   "metadata": {},
   "outputs": [
    {
     "data": {
      "text/plain": [
       "2022"
      ]
     },
     "execution_count": 119,
     "metadata": {},
     "output_type": "execute_result"
    }
   ],
   "source": [
    "x.year"
   ]
  },
  {
   "cell_type": "code",
   "execution_count": 120,
   "id": "97a68fd3-0b13-4c33-a902-16e467b0509d",
   "metadata": {},
   "outputs": [
    {
     "data": {
      "text/plain": [
       "28"
      ]
     },
     "execution_count": 120,
     "metadata": {},
     "output_type": "execute_result"
    }
   ],
   "source": [
    "x.day"
   ]
  },
  {
   "cell_type": "code",
   "execution_count": 121,
   "id": "aeb24666-0a5e-4152-916a-5d2158980db8",
   "metadata": {},
   "outputs": [
    {
     "data": {
      "text/plain": [
       "3"
      ]
     },
     "execution_count": 121,
     "metadata": {},
     "output_type": "execute_result"
    }
   ],
   "source": [
    "x.month"
   ]
  },
  {
   "cell_type": "code",
   "execution_count": 122,
   "id": "659b8b37-5535-4f51-a770-61eaee3dfd9d",
   "metadata": {},
   "outputs": [
    {
     "name": "stdout",
     "output_type": "stream",
     "text": [
      "2022-02-03 00:00:00\n"
     ]
    }
   ],
   "source": [
    "x = datetime(2022, 2, 3)\n",
    "\n",
    "print(x)"
   ]
  },
  {
   "cell_type": "markdown",
   "id": "b4c2a195-9a41-4ab2-b285-5cab1a599b82",
   "metadata": {},
   "source": [
    "### The strftime() Method -> IMPORTANT (https://www.w3schools.com/python/python_datetime.asp)"
   ]
  },
  {
   "cell_type": "code",
   "execution_count": 123,
   "id": "3ca4e66d-3655-4202-8585-63e56358fc8a",
   "metadata": {},
   "outputs": [],
   "source": [
    "x = datetime(2022, 3, 2) # year, moneth, day"
   ]
  },
  {
   "cell_type": "code",
   "execution_count": 124,
   "id": "abfc5872-c044-4761-a75a-b1f5e599eed0",
   "metadata": {},
   "outputs": [
    {
     "data": {
      "text/plain": [
       "'March'"
      ]
     },
     "execution_count": 124,
     "metadata": {},
     "output_type": "execute_result"
    }
   ],
   "source": [
    "x.strftime('%B')"
   ]
  },
  {
   "cell_type": "code",
   "execution_count": 125,
   "id": "abed4c11-8657-4075-85d6-21e4d6d90748",
   "metadata": {},
   "outputs": [
    {
     "data": {
      "text/plain": [
       "'Wednesday'"
      ]
     },
     "execution_count": 125,
     "metadata": {},
     "output_type": "execute_result"
    }
   ],
   "source": [
    "x.strftime(\"%A\")"
   ]
  },
  {
   "cell_type": "code",
   "execution_count": 126,
   "id": "a519fc11-b5d2-4814-8865-2325f846fa37",
   "metadata": {},
   "outputs": [
    {
     "data": {
      "text/plain": [
       "'2022'"
      ]
     },
     "execution_count": 126,
     "metadata": {},
     "output_type": "execute_result"
    }
   ],
   "source": [
    "x.strftime(\"%Y\")"
   ]
  },
  {
   "cell_type": "code",
   "execution_count": 127,
   "id": "a788912a-7b4b-4807-a422-09c438868c11",
   "metadata": {},
   "outputs": [
    {
     "name": "stdout",
     "output_type": "stream",
     "text": [
      "Wed-March-2022\n"
     ]
    }
   ],
   "source": [
    "month = x.strftime('%B')\n",
    "day = x.strftime('%a')\n",
    "year = x.strftime(\"%Y\")\n",
    "\n",
    "print(f\"{day}-{month}-{year}\")"
   ]
  },
  {
   "cell_type": "markdown",
   "id": "5c9a6653-213e-4298-bd48-5e12372dfde2",
   "metadata": {},
   "source": [
    "<h1 style='color:green;font-size:100px;'>Math</h1>"
   ]
  },
  {
   "cell_type": "code",
   "execution_count": 128,
   "id": "0586de30-758a-484e-be32-293e05315508",
   "metadata": {},
   "outputs": [
    {
     "data": {
      "text/plain": [
       "2"
      ]
     },
     "execution_count": 128,
     "metadata": {},
     "output_type": "execute_result"
    }
   ],
   "source": [
    "min(3, 2, 5, 6)"
   ]
  },
  {
   "cell_type": "code",
   "execution_count": 129,
   "id": "ca0fd918-2bc7-4995-845a-dce5da4240c5",
   "metadata": {},
   "outputs": [
    {
     "data": {
      "text/plain": [
       "6"
      ]
     },
     "execution_count": 129,
     "metadata": {},
     "output_type": "execute_result"
    }
   ],
   "source": [
    "max(3, 2, 5, 6)"
   ]
  },
  {
   "cell_type": "code",
   "execution_count": 130,
   "id": "4a3a1709-31ec-4d42-ae6c-371fe5b81fff",
   "metadata": {},
   "outputs": [
    {
     "data": {
      "text/plain": [
       "42.4556"
      ]
     },
     "execution_count": 130,
     "metadata": {},
     "output_type": "execute_result"
    }
   ],
   "source": [
    "abs(-42.4556)"
   ]
  },
  {
   "cell_type": "code",
   "execution_count": 131,
   "id": "d154b766-e1d6-4b8a-bf2a-3d5f65904891",
   "metadata": {},
   "outputs": [
    {
     "data": {
      "text/plain": [
       "43234"
      ]
     },
     "execution_count": 131,
     "metadata": {},
     "output_type": "execute_result"
    }
   ],
   "source": [
    "abs(43234)"
   ]
  },
  {
   "cell_type": "code",
   "execution_count": 132,
   "id": "89437bb2-93ff-45a8-a700-a5e5db084313",
   "metadata": {},
   "outputs": [
    {
     "data": {
      "text/plain": [
       "8"
      ]
     },
     "execution_count": 132,
     "metadata": {},
     "output_type": "execute_result"
    }
   ],
   "source": [
    "pow(2, 3) # 2 * 2 * 2"
   ]
  },
  {
   "cell_type": "code",
   "execution_count": 133,
   "id": "823d4c01-441a-472f-a883-18789ec6d4d8",
   "metadata": {},
   "outputs": [],
   "source": [
    "import math"
   ]
  },
  {
   "cell_type": "markdown",
   "id": "3823b131-a7d8-44d9-89d9-d9b5334d266e",
   "metadata": {},
   "source": [
    "### Reference https://www.w3schools.com/python/module_math.asp"
   ]
  },
  {
   "cell_type": "code",
   "execution_count": 134,
   "id": "2222b438-b3d8-4f48-8c67-a47d05b14c92",
   "metadata": {},
   "outputs": [
    {
     "data": {
      "text/plain": [
       "9.9498743710662"
      ]
     },
     "execution_count": 134,
     "metadata": {},
     "output_type": "execute_result"
    }
   ],
   "source": [
    "math.sqrt(99)"
   ]
  },
  {
   "cell_type": "code",
   "execution_count": 135,
   "id": "4d914238-46a5-4408-890b-589d51359686",
   "metadata": {},
   "outputs": [
    {
     "data": {
      "text/plain": [
       "9.0"
      ]
     },
     "execution_count": 135,
     "metadata": {},
     "output_type": "execute_result"
    }
   ],
   "source": [
    "math.sqrt(81)"
   ]
  },
  {
   "cell_type": "code",
   "execution_count": 136,
   "id": "6da07871-3642-4eaa-a037-a382735a2054",
   "metadata": {},
   "outputs": [
    {
     "data": {
      "text/plain": [
       "2"
      ]
     },
     "execution_count": 136,
     "metadata": {},
     "output_type": "execute_result"
    }
   ],
   "source": [
    "math.ceil(1.4)"
   ]
  },
  {
   "cell_type": "code",
   "execution_count": 137,
   "id": "24824418-9af4-4157-8ab2-75467faf415e",
   "metadata": {},
   "outputs": [
    {
     "data": {
      "text/plain": [
       "2"
      ]
     },
     "execution_count": 137,
     "metadata": {},
     "output_type": "execute_result"
    }
   ],
   "source": [
    "math.ceil(1.1)"
   ]
  },
  {
   "cell_type": "code",
   "execution_count": 138,
   "id": "71b88031-ab83-435c-b051-96dbaf2aed2d",
   "metadata": {},
   "outputs": [
    {
     "data": {
      "text/plain": [
       "2"
      ]
     },
     "execution_count": 138,
     "metadata": {},
     "output_type": "execute_result"
    }
   ],
   "source": [
    "math.ceil(1.9)"
   ]
  },
  {
   "cell_type": "code",
   "execution_count": 139,
   "id": "b38c4dce-6d01-468d-a8dc-22f4a39ab134",
   "metadata": {},
   "outputs": [
    {
     "data": {
      "text/plain": [
       "1"
      ]
     },
     "execution_count": 139,
     "metadata": {},
     "output_type": "execute_result"
    }
   ],
   "source": [
    "math.floor(1.4)"
   ]
  },
  {
   "cell_type": "code",
   "execution_count": 140,
   "id": "4b60890c-2c75-44a5-8373-5c3694eb7a6a",
   "metadata": {},
   "outputs": [
    {
     "data": {
      "text/plain": [
       "1"
      ]
     },
     "execution_count": 140,
     "metadata": {},
     "output_type": "execute_result"
    }
   ],
   "source": [
    "math.floor(1.9)"
   ]
  },
  {
   "cell_type": "code",
   "execution_count": 141,
   "id": "ca5e67ad-91b0-4dfa-b123-769dcd2a9264",
   "metadata": {},
   "outputs": [
    {
     "data": {
      "text/plain": [
       "3.141592653589793"
      ]
     },
     "execution_count": 141,
     "metadata": {},
     "output_type": "execute_result"
    }
   ],
   "source": [
    "math.pi"
   ]
  },
  {
   "cell_type": "markdown",
   "id": "c34e348d-d856-4010-8e11-5bd946f149c8",
   "metadata": {},
   "source": [
    "<h1 style='color:green;font-size:100px;'>Try Except</h1>"
   ]
  },
  {
   "cell_type": "markdown",
   "id": "83e1003e-0afb-469a-bee3-916b5389768f",
   "metadata": {},
   "source": [
    "#### https://www.w3schools.com/python/python_try_except.asp"
   ]
  },
  {
   "cell_type": "code",
   "execution_count": 142,
   "id": "d5a4e714-fa3b-4211-a3d6-1cdf24ac3e3d",
   "metadata": {},
   "outputs": [
    {
     "ename": "NameError",
     "evalue": "name 'new_variable' is not defined",
     "output_type": "error",
     "traceback": [
      "\u001b[1;31m---------------------------------------------------------------------------\u001b[0m",
      "\u001b[1;31mNameError\u001b[0m                                 Traceback (most recent call last)",
      "\u001b[1;32m~\\AppData\\Local\\Temp/ipykernel_19016/1983480300.py\u001b[0m in \u001b[0;36m<module>\u001b[1;34m\u001b[0m\n\u001b[1;32m----> 1\u001b[1;33m \u001b[0mprint\u001b[0m\u001b[1;33m(\u001b[0m\u001b[0mnew_variable\u001b[0m\u001b[1;33m)\u001b[0m\u001b[1;33m\u001b[0m\u001b[1;33m\u001b[0m\u001b[0m\n\u001b[0m",
      "\u001b[1;31mNameError\u001b[0m: name 'new_variable' is not defined"
     ]
    }
   ],
   "source": [
    "print(new_variable)"
   ]
  },
  {
   "cell_type": "code",
   "execution_count": 143,
   "id": "6e708f1d-8248-435e-9031-68859143e4f0",
   "metadata": {},
   "outputs": [
    {
     "name": "stdout",
     "output_type": "stream",
     "text": [
      "Variable not Defind\n"
     ]
    }
   ],
   "source": [
    "try:\n",
    "    print(new_variable)\n",
    "except:\n",
    "    print('Variable not Defind')"
   ]
  },
  {
   "cell_type": "code",
   "execution_count": 144,
   "id": "165ac4e4-7cc3-43e3-a298-840406899ac5",
   "metadata": {},
   "outputs": [
    {
     "name": "stdout",
     "output_type": "stream",
     "text": [
      "5\n",
      "Nothing went wrong\n"
     ]
    }
   ],
   "source": [
    "new_variable = 5\n",
    "\n",
    "try:\n",
    "    print(new_variable)\n",
    "except:\n",
    "    print('Variable not Defind')\n",
    "else:\n",
    "    print('Nothing went wrong')"
   ]
  },
  {
   "cell_type": "code",
   "execution_count": 145,
   "id": "2b517a0d-6223-444c-b5d0-707a61c81200",
   "metadata": {},
   "outputs": [
    {
     "name": "stdout",
     "output_type": "stream",
     "text": [
      "Variable not Defind\n"
     ]
    }
   ],
   "source": [
    "try:\n",
    "    print(new_variable1)\n",
    "except:\n",
    "    print('Variable not Defind')\n",
    "else:\n",
    "    print('Nothing went wrong')"
   ]
  },
  {
   "cell_type": "code",
   "execution_count": 146,
   "id": "5df84274-a0ce-4439-b1a8-e5991013f596",
   "metadata": {},
   "outputs": [
    {
     "name": "stdout",
     "output_type": "stream",
     "text": [
      "Variable not Defind\n",
      "Try block finished\n"
     ]
    }
   ],
   "source": [
    "try:\n",
    "    print(new_variable1)\n",
    "except:\n",
    "    print('Variable not Defind')\n",
    "else:\n",
    "    print('Nothing went wrong')\n",
    "finally:\n",
    "    print('Try block finished')"
   ]
  },
  {
   "cell_type": "code",
   "execution_count": 147,
   "id": "d5c94edc-9794-4cee-a08f-f0dd2982ee34",
   "metadata": {},
   "outputs": [
    {
     "ename": "FileNotFoundError",
     "evalue": "[Errno 2] No such file or directory: 'hello.txt'",
     "output_type": "error",
     "traceback": [
      "\u001b[1;31m---------------------------------------------------------------------------\u001b[0m",
      "\u001b[1;31mFileNotFoundError\u001b[0m                         Traceback (most recent call last)",
      "\u001b[1;32m~\\AppData\\Local\\Temp/ipykernel_19016/433106726.py\u001b[0m in \u001b[0;36m<module>\u001b[1;34m\u001b[0m\n\u001b[1;32m----> 1\u001b[1;33m \u001b[1;32mwith\u001b[0m \u001b[0mopen\u001b[0m\u001b[1;33m(\u001b[0m\u001b[1;34m'hello.txt'\u001b[0m\u001b[1;33m)\u001b[0m \u001b[1;32mas\u001b[0m \u001b[0mfile\u001b[0m\u001b[1;33m:\u001b[0m\u001b[1;33m\u001b[0m\u001b[1;33m\u001b[0m\u001b[0m\n\u001b[0m\u001b[0;32m      2\u001b[0m     \u001b[0mfile\u001b[0m\u001b[1;33m.\u001b[0m\u001b[0mread\u001b[0m\u001b[1;33m(\u001b[0m\u001b[1;33m)\u001b[0m\u001b[1;33m\u001b[0m\u001b[1;33m\u001b[0m\u001b[0m\n",
      "\u001b[1;31mFileNotFoundError\u001b[0m: [Errno 2] No such file or directory: 'hello.txt'"
     ]
    }
   ],
   "source": [
    "with open('hello.txt') as file:\n",
    "    file.read()"
   ]
  },
  {
   "cell_type": "code",
   "execution_count": 148,
   "id": "bd70ad29-ea10-40d0-8795-d5d708728c68",
   "metadata": {},
   "outputs": [
    {
     "name": "stdout",
     "output_type": "stream",
     "text": [
      "Fail\n",
      "Try Catch block ended\n"
     ]
    }
   ],
   "source": [
    "try:\n",
    "    with open('hello.txt') as file:\n",
    "        file.read()\n",
    "except:\n",
    "    print('Fail')\n",
    "finally:\n",
    "    print('Try Catch block ended')"
   ]
  },
  {
   "cell_type": "markdown",
   "id": "9914a648-0243-40bc-ab99-13f733e64f7f",
   "metadata": {},
   "source": [
    "<h1 style='color:green;font-size:100px;'>String Formatting</h1>"
   ]
  },
  {
   "cell_type": "code",
   "execution_count": 149,
   "id": "3e998319-7b67-4759-b32e-bcadcd55de68",
   "metadata": {},
   "outputs": [
    {
     "data": {
      "text/plain": [
       "'X = 10'"
      ]
     },
     "execution_count": 149,
     "metadata": {},
     "output_type": "execute_result"
    }
   ],
   "source": [
    "x = 10\n",
    "\n",
    "txt = 'X = {}'\n",
    "\n",
    "txt.format(x)"
   ]
  },
  {
   "cell_type": "code",
   "execution_count": 150,
   "id": "16d2cd65-95d9-4362-a4ab-2e38d9b56be1",
   "metadata": {},
   "outputs": [
    {
     "data": {
      "text/plain": [
       "'X = 10.00'"
      ]
     },
     "execution_count": 150,
     "metadata": {},
     "output_type": "execute_result"
    }
   ],
   "source": [
    "x = 10\n",
    "\n",
    "txt = 'X = {:.2f}'\n",
    "\n",
    "txt.format(x)"
   ]
  },
  {
   "cell_type": "code",
   "execution_count": 151,
   "id": "042dd524-0fb5-4dd2-86e2-b07efaeda2e5",
   "metadata": {},
   "outputs": [
    {
     "data": {
      "text/plain": [
       "'x = 1, y = 2, z = 3'"
      ]
     },
     "execution_count": 151,
     "metadata": {},
     "output_type": "execute_result"
    }
   ],
   "source": [
    "x = 1\n",
    "y = 2\n",
    "z = 3\n",
    "\n",
    "'x = {}, y = {}, z = {}'.format(x, y, z)"
   ]
  },
  {
   "cell_type": "code",
   "execution_count": 152,
   "id": "dd54cbbc-e086-4e0d-8c0e-fc04433f5cfe",
   "metadata": {},
   "outputs": [
    {
     "data": {
      "text/plain": [
       "'z = 3, x = 1, y = 2'"
      ]
     },
     "execution_count": 152,
     "metadata": {},
     "output_type": "execute_result"
    }
   ],
   "source": [
    "x = 1\n",
    "y = 2\n",
    "z = 3\n",
    "\n",
    "'z = {2}, x = {0}, y = {1}'.format(x, y, z)"
   ]
  },
  {
   "cell_type": "code",
   "execution_count": 153,
   "id": "bfd4ac64-63ff-48a1-a37a-6ae420cdfc90",
   "metadata": {},
   "outputs": [
    {
     "data": {
      "text/plain": [
       "'x = 5, y = 10'"
      ]
     },
     "execution_count": 153,
     "metadata": {},
     "output_type": "execute_result"
    }
   ],
   "source": [
    "'x = {x}, y = {y}'.format(y=10, x=5)"
   ]
  }
 ],
 "metadata": {
  "kernelspec": {
   "display_name": "Python 3 (ipykernel)",
   "language": "python",
   "name": "python3"
  },
  "language_info": {
   "codemirror_mode": {
    "name": "ipython",
    "version": 3
   },
   "file_extension": ".py",
   "mimetype": "text/x-python",
   "name": "python",
   "nbconvert_exporter": "python",
   "pygments_lexer": "ipython3",
   "version": "3.9.7"
  }
 },
 "nbformat": 4,
 "nbformat_minor": 5
}
