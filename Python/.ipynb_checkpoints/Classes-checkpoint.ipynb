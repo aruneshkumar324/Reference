{
 "cells": [
  {
   "cell_type": "code",
   "execution_count": null,
   "id": "0b9d9a44-a631-4bf0-850b-34420a96ee9d",
   "metadata": {},
   "outputs": [],
   "source": [
    "class MyClass:\n",
    "    x = 20"
   ]
  },
  {
   "cell_type": "code",
   "execution_count": null,
   "id": "a46d37ed-393b-492d-b39a-51753738ba5b",
   "metadata": {},
   "outputs": [],
   "source": []
  },
  {
   "cell_type": "code",
   "execution_count": 2,
   "id": "e16659bc-5ce5-486f-b28e-8d26d37eab31",
   "metadata": {},
   "outputs": [
    {
     "data": {
      "text/plain": [
       "20"
      ]
     },
     "execution_count": 2,
     "metadata": {},
     "output_type": "execute_result"
    }
   ],
   "source": [
    "obj = MyClass()\n",
    "\n",
    "obj.x"
   ]
  },
  {
   "cell_type": "code",
   "execution_count": 3,
   "id": "6f4be32b-b07e-48af-95be-dcfc90063e92",
   "metadata": {},
   "outputs": [
    {
     "data": {
      "text/plain": [
       "'Arunesh'"
      ]
     },
     "execution_count": 3,
     "metadata": {},
     "output_type": "execute_result"
    }
   ],
   "source": [
    "class Person():\n",
    "    def __init__(self, name, age):\n",
    "        self.name = name\n",
    "        self.age = age\n",
    "\n",
    "\n",
    "obj = Person('Arunesh', 23)\n",
    "\n",
    "obj.name"
   ]
  },
  {
   "cell_type": "code",
   "execution_count": 4,
   "id": "4d5cf460-39e2-49e4-b030-158e7962107a",
   "metadata": {},
   "outputs": [
    {
     "data": {
      "text/plain": [
       "23"
      ]
     },
     "execution_count": 4,
     "metadata": {},
     "output_type": "execute_result"
    }
   ],
   "source": [
    "obj.age"
   ]
  },
  {
   "cell_type": "markdown",
   "id": "4100326e-9b2e-4537-bda3-b942e6fe5b29",
   "metadata": {},
   "source": [
    "# Object Methods"
   ]
  },
  {
   "cell_type": "code",
   "execution_count": 5,
   "id": "180a5b5c-99dd-4f74-b670-068229bbb584",
   "metadata": {},
   "outputs": [],
   "source": [
    "class Person:\n",
    "    def __init__(self, name, age):\n",
    "        self.name = name\n",
    "        self.age = age\n",
    "    \n",
    "    def details(self):\n",
    "        print(f'Hello {self.name}, your age is {self.age}')\n",
    "\n",
    "        \n",
    "obj = Person('Arunesh', 23)"
   ]
  },
  {
   "cell_type": "code",
   "execution_count": 6,
   "id": "dc281158-8949-43fb-a7a0-8433bf8212c0",
   "metadata": {},
   "outputs": [
    {
     "name": "stdout",
     "output_type": "stream",
     "text": [
      "Hello Arunesh, your age is 23\n"
     ]
    }
   ],
   "source": [
    "obj.details()"
   ]
  },
  {
   "cell_type": "code",
   "execution_count": 7,
   "id": "947a1cde-78ff-4780-b3b5-bbaafa09f674",
   "metadata": {},
   "outputs": [
    {
     "data": {
      "text/plain": [
       "'Arunesh'"
      ]
     },
     "execution_count": 7,
     "metadata": {},
     "output_type": "execute_result"
    }
   ],
   "source": [
    "obj.name"
   ]
  },
  {
   "cell_type": "code",
   "execution_count": 8,
   "id": "7cc8b90b-de3b-4fc9-8443-e270b8010e97",
   "metadata": {},
   "outputs": [],
   "source": [
    "obj.name = 'Ankesh'"
   ]
  },
  {
   "cell_type": "code",
   "execution_count": 9,
   "id": "9354ba7d-a2d8-4a2c-add9-bd06432b8762",
   "metadata": {},
   "outputs": [
    {
     "data": {
      "text/plain": [
       "'Ankesh'"
      ]
     },
     "execution_count": 9,
     "metadata": {},
     "output_type": "execute_result"
    }
   ],
   "source": [
    "obj.name"
   ]
  },
  {
   "cell_type": "code",
   "execution_count": 10,
   "id": "05461f94-ad54-4a18-ab22-c27064ca001d",
   "metadata": {},
   "outputs": [],
   "source": [
    "del obj.age"
   ]
  },
  {
   "cell_type": "code",
   "execution_count": 11,
   "id": "b82fe9c3-79a7-444e-b9e2-d15fec18c5ee",
   "metadata": {},
   "outputs": [
    {
     "data": {
      "text/plain": [
       "'Ankesh'"
      ]
     },
     "execution_count": 11,
     "metadata": {},
     "output_type": "execute_result"
    }
   ],
   "source": [
    "obj.name"
   ]
  },
  {
   "cell_type": "code",
   "execution_count": 12,
   "id": "04b7a588-efc2-45a3-9857-320dd2ff9a8b",
   "metadata": {},
   "outputs": [
    {
     "ename": "AttributeError",
     "evalue": "'Person' object has no attribute 'age'",
     "output_type": "error",
     "traceback": [
      "\u001b[1;31m---------------------------------------------------------------------------\u001b[0m",
      "\u001b[1;31mAttributeError\u001b[0m                            Traceback (most recent call last)",
      "\u001b[1;32m~\\AppData\\Local\\Temp/ipykernel_17472/3011563870.py\u001b[0m in \u001b[0;36m<module>\u001b[1;34m\u001b[0m\n\u001b[1;32m----> 1\u001b[1;33m \u001b[0mobj\u001b[0m\u001b[1;33m.\u001b[0m\u001b[0mage\u001b[0m\u001b[1;33m\u001b[0m\u001b[1;33m\u001b[0m\u001b[0m\n\u001b[0m",
      "\u001b[1;31mAttributeError\u001b[0m: 'Person' object has no attribute 'age'"
     ]
    }
   ],
   "source": [
    "obj.age"
   ]
  },
  {
   "cell_type": "code",
   "execution_count": 13,
   "id": "6ebfc118-67a1-43fd-b8d9-7b5135fccc99",
   "metadata": {},
   "outputs": [],
   "source": [
    "del obj"
   ]
  },
  {
   "cell_type": "code",
   "execution_count": 14,
   "id": "4cadc9aa-eecd-4afd-af42-42bfa7cd0fd9",
   "metadata": {},
   "outputs": [
    {
     "ename": "NameError",
     "evalue": "name 'obj' is not defined",
     "output_type": "error",
     "traceback": [
      "\u001b[1;31m---------------------------------------------------------------------------\u001b[0m",
      "\u001b[1;31mNameError\u001b[0m                                 Traceback (most recent call last)",
      "\u001b[1;32m~\\AppData\\Local\\Temp/ipykernel_17472/3524854454.py\u001b[0m in \u001b[0;36m<module>\u001b[1;34m\u001b[0m\n\u001b[1;32m----> 1\u001b[1;33m \u001b[0mobj\u001b[0m\u001b[1;33m.\u001b[0m\u001b[0mname\u001b[0m\u001b[1;33m\u001b[0m\u001b[1;33m\u001b[0m\u001b[0m\n\u001b[0m",
      "\u001b[1;31mNameError\u001b[0m: name 'obj' is not defined"
     ]
    }
   ],
   "source": [
    "obj.name"
   ]
  },
  {
   "cell_type": "markdown",
   "id": "bf3191a3-2f30-47e9-a8d0-cf0138736840",
   "metadata": {},
   "source": [
    "<h1 style=\"color:green;font-size:100px;\">Inheritance</h1>"
   ]
  },
  {
   "cell_type": "code",
   "execution_count": 16,
   "id": "9a5fa798-ecfd-46a1-a15e-5756e673a67c",
   "metadata": {},
   "outputs": [],
   "source": [
    "# parent class\n",
    "\n",
    "class Person:\n",
    "    def __init__(self, name, age):\n",
    "        self.name = name\n",
    "        self.age = age\n",
    "    \n",
    "    def detail(self):\n",
    "        print(f\"Hello {self.name}, your age is {self.age}\")\n",
    "\n",
    "\n",
    "# child class\n",
    "class ChildClass(Person):\n",
    "    pass"
   ]
  },
  {
   "cell_type": "code",
   "execution_count": 17,
   "id": "97535775-aa8c-4933-970d-ec77498ae50a",
   "metadata": {},
   "outputs": [],
   "source": [
    "x = ChildClass('Arunesh', 23)"
   ]
  },
  {
   "cell_type": "code",
   "execution_count": 18,
   "id": "350b40eb-0638-474d-b009-228c66d93749",
   "metadata": {},
   "outputs": [
    {
     "name": "stdout",
     "output_type": "stream",
     "text": [
      "Hello Arunesh, your age is 23\n"
     ]
    }
   ],
   "source": [
    "x.detail()"
   ]
  },
  {
   "cell_type": "code",
   "execution_count": 21,
   "id": "e778230f-8955-4322-b1e5-af3ed161e45e",
   "metadata": {},
   "outputs": [],
   "source": [
    "# parent class\n",
    "class Person:\n",
    "    def __init__(self, name, age):\n",
    "        self.name = name\n",
    "        self.age = age\n",
    "    \n",
    "    def detail(self):\n",
    "        print(f\"Hello {self.name}, your age is {self.age}\")\n",
    "\n",
    " \n",
    "\n",
    "# child class\n",
    "class ChildClass(Person):\n",
    "    def __init__(self, name, age):\n",
    "        Person.__init__(self, name, age)\n",
    "    "
   ]
  },
  {
   "cell_type": "code",
   "execution_count": 24,
   "id": "185e829f-abc0-447f-bee9-a6ec6dcc5e4c",
   "metadata": {},
   "outputs": [],
   "source": [
    "x = ChildClass('Arunesh kumar', 22)"
   ]
  },
  {
   "cell_type": "code",
   "execution_count": 25,
   "id": "e9f39d2b-6994-4623-ae94-6eb4524cb5b8",
   "metadata": {},
   "outputs": [
    {
     "name": "stdout",
     "output_type": "stream",
     "text": [
      "Hello Arunesh kumar, your age is 22\n"
     ]
    }
   ],
   "source": [
    "x.detail()"
   ]
  },
  {
   "cell_type": "markdown",
   "id": "55a330b8-8a44-42e7-a74b-fdadd02ffeee",
   "metadata": {},
   "source": [
    "### super()"
   ]
  },
  {
   "cell_type": "code",
   "execution_count": 28,
   "id": "27e132f9-0606-40e3-abcd-bb2e84c7250f",
   "metadata": {},
   "outputs": [],
   "source": [
    "# parent class\n",
    "class Person:\n",
    "    def __init__(self, name, age):\n",
    "        self.name = name\n",
    "        self.age = age\n",
    "    \n",
    "    def detail(self):\n",
    "        print(f\"Hello {self.name}, your age is {self.age}\")\n",
    "        \n",
    "        \n",
    "# child class\n",
    "class ChildClass(Person):\n",
    "    def __init__(self, name, age):\n",
    "        super().__init__(name, age)"
   ]
  },
  {
   "cell_type": "code",
   "execution_count": 29,
   "id": "54677d20-407f-429d-b924-8be89b9a0088",
   "metadata": {},
   "outputs": [],
   "source": [
    "x = ChildClass('John', 43)"
   ]
  },
  {
   "cell_type": "code",
   "execution_count": 30,
   "id": "a07f36e5-3bb3-47fd-9baf-068b0c562baf",
   "metadata": {},
   "outputs": [
    {
     "name": "stdout",
     "output_type": "stream",
     "text": [
      "Hello John, your age is 43\n"
     ]
    }
   ],
   "source": [
    "x.detail()"
   ]
  },
  {
   "cell_type": "code",
   "execution_count": 31,
   "id": "6b1194f9-5423-427b-ac09-e2ce107ca1a1",
   "metadata": {},
   "outputs": [],
   "source": [
    "# parent class\n",
    "class Person:\n",
    "    def __init__(self, name, age):\n",
    "        self.name = name\n",
    "        self.age = age\n",
    "    \n",
    "    def detail(self):\n",
    "        print(f\"Hello {self.name}, your age is {self.age}\")\n",
    "        \n",
    "        \n",
    "# child class\n",
    "class ChildClass(Person):\n",
    "    def __init__(self, name, age):\n",
    "        super().__init__(name, age)\n",
    "        \n",
    "        self.year = 2022"
   ]
  },
  {
   "cell_type": "code",
   "execution_count": 32,
   "id": "ebefb137-5114-4a0a-8010-431daef08e94",
   "metadata": {},
   "outputs": [],
   "source": [
    "x = ChildClass('Sohan Das', 43)"
   ]
  },
  {
   "cell_type": "code",
   "execution_count": 34,
   "id": "5bac893d-611b-4cf2-8481-c11ea77be492",
   "metadata": {},
   "outputs": [
    {
     "name": "stdout",
     "output_type": "stream",
     "text": [
      "Hello Sohan Das, your age is 43\n"
     ]
    }
   ],
   "source": [
    "x.detail()"
   ]
  },
  {
   "cell_type": "code",
   "execution_count": 35,
   "id": "1e459081-45e5-432a-b9ba-98a8ab1ab075",
   "metadata": {},
   "outputs": [
    {
     "data": {
      "text/plain": [
       "2022"
      ]
     },
     "execution_count": 35,
     "metadata": {},
     "output_type": "execute_result"
    }
   ],
   "source": [
    "x.year"
   ]
  },
  {
   "cell_type": "markdown",
   "id": "478a3fd9-d344-4e22-be3e-37538a262b27",
   "metadata": {},
   "source": [
    "# Final Exmaple"
   ]
  },
  {
   "cell_type": "code",
   "execution_count": 36,
   "id": "307d37b5-b7c9-4bc4-9e85-ba7c4abcf7c2",
   "metadata": {},
   "outputs": [],
   "source": [
    "class Person:\n",
    "    def __init__(self, fname, lname, age):\n",
    "        self.first_name = fname\n",
    "        self.last_name = lname\n",
    "        self.age = age\n",
    "    \n",
    "    def detail(self):\n",
    "        print(f\"Hello {self.first_name} {self.last_name}, your age is {self.age}\")\n",
    "        \n",
    "        \n",
    "        \n",
    "class Student(Person):\n",
    "    def __init__(self, fname, lname, age, usn):\n",
    "        super().__init__(fname, lname, age)\n",
    "        self.usn = usn\n",
    "        \n",
    "    \n",
    "    def welcome(self):\n",
    "        print(f\"Welcome {self.first_name} {self.last_name}, your age is {self.age} and USN : {self.usn}\")\n"
   ]
  },
  {
   "cell_type": "code",
   "execution_count": 37,
   "id": "7b949bfd-98c6-4141-a37c-1fc2cae95197",
   "metadata": {},
   "outputs": [],
   "source": [
    "obj = Student('Arunesh', 'kumar', 23, '1EP16CS016')"
   ]
  },
  {
   "cell_type": "code",
   "execution_count": 38,
   "id": "13a5f6e2-9a53-4eac-af58-ab6cae67ff19",
   "metadata": {},
   "outputs": [
    {
     "name": "stdout",
     "output_type": "stream",
     "text": [
      "Welcome Arunesh kumar, your age is 23 and USN : 1EP16CS016\n"
     ]
    }
   ],
   "source": [
    "obj.welcome()"
   ]
  },
  {
   "cell_type": "code",
   "execution_count": null,
   "id": "39c1cdab-abf3-4520-81a3-cb259ccefe02",
   "metadata": {},
   "outputs": [],
   "source": []
  }
 ],
 "metadata": {
  "kernelspec": {
   "display_name": "Python 3 (ipykernel)",
   "language": "python",
   "name": "python3"
  },
  "language_info": {
   "codemirror_mode": {
    "name": "ipython",
    "version": 3
   },
   "file_extension": ".py",
   "mimetype": "text/x-python",
   "name": "python",
   "nbconvert_exporter": "python",
   "pygments_lexer": "ipython3",
   "version": "3.9.7"
  }
 },
 "nbformat": 4,
 "nbformat_minor": 5
}
