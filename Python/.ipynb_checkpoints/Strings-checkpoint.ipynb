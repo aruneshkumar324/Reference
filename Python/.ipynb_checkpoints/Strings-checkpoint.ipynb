{
 "cells": [
  {
   "cell_type": "markdown",
   "id": "da0ec5ed-5e1f-4af8-a0cc-f6fdf457bef9",
   "metadata": {},
   "source": [
    "<h1 style='color:green;font-size:50px;'>Strings</h1>"
   ]
  },
  {
   "cell_type": "code",
   "execution_count": 1,
   "id": "dc8de60c-a8af-46a2-944c-de6ae219b55a",
   "metadata": {},
   "outputs": [
    {
     "data": {
      "text/plain": [
       "'e'"
      ]
     },
     "execution_count": 1,
     "metadata": {},
     "output_type": "execute_result"
    }
   ],
   "source": [
    "a = 'Hello Arunesh'\n",
    "\n",
    "a[1]"
   ]
  },
  {
   "cell_type": "code",
   "execution_count": 2,
   "id": "b5d2dc6e-a5a2-4fd9-bc4e-646e50f5c30f",
   "metadata": {},
   "outputs": [
    {
     "data": {
      "text/plain": [
       "'h'"
      ]
     },
     "execution_count": 2,
     "metadata": {},
     "output_type": "execute_result"
    }
   ],
   "source": [
    "a[-1]"
   ]
  },
  {
   "cell_type": "code",
   "execution_count": 3,
   "id": "af85d83c-79a7-4071-82d5-223293fd400b",
   "metadata": {},
   "outputs": [
    {
     "name": "stdout",
     "output_type": "stream",
     "text": [
      "H\n",
      "e\n",
      "l\n",
      "l\n",
      "o\n",
      " \n",
      "A\n",
      "r\n",
      "u\n",
      "n\n",
      "e\n",
      "s\n",
      "h\n"
     ]
    }
   ],
   "source": [
    "for x in a:\n",
    "    print(x)"
   ]
  },
  {
   "cell_type": "code",
   "execution_count": 4,
   "id": "9960cfcc-583e-4ee4-9538-18e49c878361",
   "metadata": {},
   "outputs": [
    {
     "data": {
      "text/plain": [
       "13"
      ]
     },
     "execution_count": 4,
     "metadata": {},
     "output_type": "execute_result"
    }
   ],
   "source": [
    "len(a)"
   ]
  },
  {
   "cell_type": "code",
   "execution_count": 5,
   "id": "92f45e43-59f0-4458-a5bd-e86f0f51ea1e",
   "metadata": {},
   "outputs": [
    {
     "data": {
      "text/plain": [
       "True"
      ]
     },
     "execution_count": 5,
     "metadata": {},
     "output_type": "execute_result"
    }
   ],
   "source": [
    "a = 'How are you ?'\n",
    "\n",
    "\"are\" in a"
   ]
  },
  {
   "cell_type": "code",
   "execution_count": 6,
   "id": "f558842a-f92b-4898-bbfe-8c91f8f4b2ad",
   "metadata": {},
   "outputs": [
    {
     "data": {
      "text/plain": [
       "False"
      ]
     },
     "execution_count": 6,
     "metadata": {},
     "output_type": "execute_result"
    }
   ],
   "source": [
    "\"Arunesh\" in a"
   ]
  },
  {
   "cell_type": "code",
   "execution_count": 7,
   "id": "c0b9bcc1-377d-4354-a14d-135bdbd69dc1",
   "metadata": {},
   "outputs": [
    {
     "data": {
      "text/plain": [
       "True"
      ]
     },
     "execution_count": 7,
     "metadata": {},
     "output_type": "execute_result"
    }
   ],
   "source": [
    "\"Arunesh\" not in a"
   ]
  },
  {
   "cell_type": "code",
   "execution_count": 8,
   "id": "e7d7c0d4-f036-4c8e-a4fd-8a9957c45f79",
   "metadata": {},
   "outputs": [
    {
     "name": "stdout",
     "output_type": "stream",
     "text": [
      "Yes, It is there\n"
     ]
    }
   ],
   "source": [
    "if \"are\" in a:\n",
    "    print('Yes, It is there')"
   ]
  },
  {
   "cell_type": "code",
   "execution_count": 9,
   "id": "9f53807a-28a8-491f-8e42-9c0fe857874b",
   "metadata": {},
   "outputs": [
    {
     "name": "stdout",
     "output_type": "stream",
     "text": [
      "No, It's not there\n"
     ]
    }
   ],
   "source": [
    "if \"Arunesh\" in a:\n",
    "    print(\"Yes, it's there\")\n",
    "else:\n",
    "    print(\"No, It's not there\")"
   ]
  },
  {
   "cell_type": "code",
   "execution_count": 10,
   "id": "e352c5f1-9729-40a5-9002-d5694892f09a",
   "metadata": {},
   "outputs": [
    {
     "name": "stdout",
     "output_type": "stream",
     "text": [
      "Yes, It's not there\n"
     ]
    }
   ],
   "source": [
    "if \"Arunesh\" not in a:\n",
    "    print(\"Yes, It's not there\")"
   ]
  },
  {
   "cell_type": "markdown",
   "id": "6c8e0c32-d428-4e43-94b2-d1b3035a9daa",
   "metadata": {},
   "source": [
    "## Slicing Strings"
   ]
  },
  {
   "cell_type": "code",
   "execution_count": 11,
   "id": "63c4dbf5-d7d4-49e6-8982-8a380257987d",
   "metadata": {},
   "outputs": [],
   "source": [
    "a = 'Hello Arunesh'"
   ]
  },
  {
   "cell_type": "code",
   "execution_count": 12,
   "id": "aa85c53f-0b39-4c14-9665-19816b8a22c6",
   "metadata": {},
   "outputs": [
    {
     "data": {
      "text/plain": [
       "'ello'"
      ]
     },
     "execution_count": 12,
     "metadata": {},
     "output_type": "execute_result"
    }
   ],
   "source": [
    "a[1:5]"
   ]
  },
  {
   "cell_type": "code",
   "execution_count": 13,
   "id": "9153270b-5f64-4fa7-bbb9-cd2ba30545d7",
   "metadata": {},
   "outputs": [
    {
     "data": {
      "text/plain": [
       "'Hello'"
      ]
     },
     "execution_count": 13,
     "metadata": {},
     "output_type": "execute_result"
    }
   ],
   "source": [
    "# Slice From the Start\n",
    "\n",
    "a[:5]"
   ]
  },
  {
   "cell_type": "code",
   "execution_count": 14,
   "id": "af05b663-4d4a-419a-a13a-675da34f8c65",
   "metadata": {},
   "outputs": [
    {
     "data": {
      "text/plain": [
       "'Arunesh'"
      ]
     },
     "execution_count": 14,
     "metadata": {},
     "output_type": "execute_result"
    }
   ],
   "source": [
    "# Slice start from 6 To the End\n",
    "\n",
    "a[6:]"
   ]
  },
  {
   "cell_type": "code",
   "execution_count": 15,
   "id": "2ec844a9-1ea0-4a6d-9d8f-528fe5858a92",
   "metadata": {},
   "outputs": [
    {
     "data": {
      "text/plain": [
       "'Arunes'"
      ]
     },
     "execution_count": 15,
     "metadata": {},
     "output_type": "execute_result"
    }
   ],
   "source": [
    "# Negative Indexing\n",
    "\n",
    "a[-7:-1]"
   ]
  },
  {
   "cell_type": "code",
   "execution_count": 17,
   "id": "4b7eb88b-99f4-4194-9509-d41ab18720da",
   "metadata": {},
   "outputs": [
    {
     "data": {
      "text/plain": [
       "'Arunesh'"
      ]
     },
     "execution_count": 17,
     "metadata": {},
     "output_type": "execute_result"
    }
   ],
   "source": [
    "a[-7:]"
   ]
  },
  {
   "cell_type": "markdown",
   "id": "2e22b9b2-5da4-4561-bbb8-f17e17f4c7fe",
   "metadata": {},
   "source": [
    "## Python - Modify Strings"
   ]
  },
  {
   "cell_type": "code",
   "execution_count": 18,
   "id": "c7883a8e-9db0-4f51-b802-5a86814d88c3",
   "metadata": {},
   "outputs": [
    {
     "data": {
      "text/plain": [
       "'ARUNESH KUMAR'"
      ]
     },
     "execution_count": 18,
     "metadata": {},
     "output_type": "execute_result"
    }
   ],
   "source": [
    "# upper case\n",
    "\n",
    "a = 'Arunesh kumar'\n",
    "\n",
    "a.upper()"
   ]
  },
  {
   "cell_type": "code",
   "execution_count": 19,
   "id": "aeae443a-684a-4b33-82f7-4e989997385f",
   "metadata": {},
   "outputs": [
    {
     "data": {
      "text/plain": [
       "'arunesh kumar'"
      ]
     },
     "execution_count": 19,
     "metadata": {},
     "output_type": "execute_result"
    }
   ],
   "source": [
    "a.lower()"
   ]
  },
  {
   "cell_type": "code",
   "execution_count": 20,
   "id": "3f7bb298-1e7a-4815-aa1e-9cc959ef410c",
   "metadata": {},
   "outputs": [
    {
     "data": {
      "text/plain": [
       "'arunesh kumar'"
      ]
     },
     "execution_count": 20,
     "metadata": {},
     "output_type": "execute_result"
    }
   ],
   "source": [
    "a = 'arunesh kumar'\n",
    "\n",
    "a"
   ]
  },
  {
   "cell_type": "code",
   "execution_count": 21,
   "id": "4190239e-1508-4f65-bd0a-2c3e31fae0eb",
   "metadata": {},
   "outputs": [
    {
     "data": {
      "text/plain": [
       "'            Arunesh kumar   '"
      ]
     },
     "execution_count": 21,
     "metadata": {},
     "output_type": "execute_result"
    }
   ],
   "source": [
    "a = '            Arunesh kumar   '\n",
    "\n",
    "a"
   ]
  },
  {
   "cell_type": "code",
   "execution_count": 22,
   "id": "e9b273c6-9ebb-4784-ab0b-e491eb496bd0",
   "metadata": {},
   "outputs": [
    {
     "data": {
      "text/plain": [
       "'Arunesh kumar'"
      ]
     },
     "execution_count": 22,
     "metadata": {},
     "output_type": "execute_result"
    }
   ],
   "source": [
    "# Remove Whitespace\n",
    "\n",
    "a.strip()"
   ]
  },
  {
   "cell_type": "code",
   "execution_count": 23,
   "id": "01b80465-b9b1-4a9c-866f-399c0994fab4",
   "metadata": {},
   "outputs": [
    {
     "data": {
      "text/plain": [
       "'Arunesh Kumar'"
      ]
     },
     "execution_count": 23,
     "metadata": {},
     "output_type": "execute_result"
    }
   ],
   "source": [
    "a.strip().title()"
   ]
  },
  {
   "cell_type": "code",
   "execution_count": 24,
   "id": "4b3602bc-eaeb-4667-a81c-bf37a7dacc60",
   "metadata": {},
   "outputs": [],
   "source": [
    "a = 'Arunesh kumar'"
   ]
  },
  {
   "cell_type": "code",
   "execution_count": 25,
   "id": "dc6a92e7-9359-4469-a656-77d907056a45",
   "metadata": {},
   "outputs": [
    {
     "data": {
      "text/plain": [
       "'Ankesh kumar'"
      ]
     },
     "execution_count": 25,
     "metadata": {},
     "output_type": "execute_result"
    }
   ],
   "source": [
    "# replace \n",
    "\n",
    "a.replace('Arunesh', 'Ankesh')"
   ]
  },
  {
   "cell_type": "code",
   "execution_count": 26,
   "id": "ae1980de-905e-48eb-91d8-f7210cbc93df",
   "metadata": {},
   "outputs": [
    {
     "data": {
      "text/plain": [
       "'How are you ?'"
      ]
     },
     "execution_count": 26,
     "metadata": {},
     "output_type": "execute_result"
    }
   ],
   "source": [
    "# SPLIT \n",
    "\n",
    "a = 'How are you ?'\n",
    "\n",
    "a"
   ]
  },
  {
   "cell_type": "code",
   "execution_count": 27,
   "id": "e9abc81f-39f1-4807-88a3-6b4f8acb816c",
   "metadata": {},
   "outputs": [
    {
     "data": {
      "text/plain": [
       "['How', 'are', 'you', '?']"
      ]
     },
     "execution_count": 27,
     "metadata": {},
     "output_type": "execute_result"
    }
   ],
   "source": [
    "a.split()"
   ]
  },
  {
   "cell_type": "code",
   "execution_count": 28,
   "id": "c390e139-9fdd-4b10-af7f-07e51980d754",
   "metadata": {},
   "outputs": [],
   "source": [
    "a = 'Hello$Arunesh$Kumar'"
   ]
  },
  {
   "cell_type": "code",
   "execution_count": 29,
   "id": "177763c4-dcc6-4215-aba2-737e2f3244e1",
   "metadata": {},
   "outputs": [
    {
     "data": {
      "text/plain": [
       "['Hello', 'Arunesh', 'Kumar']"
      ]
     },
     "execution_count": 29,
     "metadata": {},
     "output_type": "execute_result"
    }
   ],
   "source": [
    "a.split('$')"
   ]
  },
  {
   "cell_type": "markdown",
   "id": "8c154669-cda5-4d85-b498-054c1bf7b6a6",
   "metadata": {},
   "source": [
    "## Format - Strings"
   ]
  },
  {
   "cell_type": "code",
   "execution_count": 30,
   "id": "e67abaac-c7f0-463b-9340-d7f1891bb841",
   "metadata": {},
   "outputs": [
    {
     "data": {
      "text/plain": [
       "'hello 10'"
      ]
     },
     "execution_count": 30,
     "metadata": {},
     "output_type": "execute_result"
    }
   ],
   "source": [
    "num = 10\n",
    "\n",
    "a = 'hello {}'\n",
    "\n",
    "a.format(num)"
   ]
  },
  {
   "cell_type": "code",
   "execution_count": 31,
   "id": "5d649797-276f-43d1-8e77-067171ce18f3",
   "metadata": {},
   "outputs": [
    {
     "data": {
      "text/plain": [
       "'Hello 1, 2, 3'"
      ]
     },
     "execution_count": 31,
     "metadata": {},
     "output_type": "execute_result"
    }
   ],
   "source": [
    "x = 1\n",
    "y = 2\n",
    "z = 3\n",
    "\n",
    "a = 'Hello {}, {}, {}'\n",
    "\n",
    "a.format(x,y,z)"
   ]
  },
  {
   "cell_type": "code",
   "execution_count": 32,
   "id": "c583b701-ca68-48c1-9b0d-b17a3b5eaadb",
   "metadata": {},
   "outputs": [
    {
     "data": {
      "text/plain": [
       "'Hello 2, 3, 1'"
      ]
     },
     "execution_count": 32,
     "metadata": {},
     "output_type": "execute_result"
    }
   ],
   "source": [
    "x = 1\n",
    "y = 2\n",
    "z = 3\n",
    "\n",
    "a = 'Hello {1}, {2}, {0}'\n",
    "\n",
    "a.format(x,y,z)"
   ]
  },
  {
   "cell_type": "markdown",
   "id": "a8ff3464-3fd5-4285-a328-79f0716a1d22",
   "metadata": {},
   "source": [
    "### STRING METHODS\n",
    "\n",
    "### https://www.w3schools.com/python/python_strings_methods.asp"
   ]
  },
  {
   "cell_type": "code",
   "execution_count": null,
   "id": "7c3d5fd2-5de7-46d8-b97c-a4a1da63e531",
   "metadata": {},
   "outputs": [],
   "source": []
  }
 ],
 "metadata": {
  "kernelspec": {
   "display_name": "Python 3 (ipykernel)",
   "language": "python",
   "name": "python3"
  },
  "language_info": {
   "codemirror_mode": {
    "name": "ipython",
    "version": 3
   },
   "file_extension": ".py",
   "mimetype": "text/x-python",
   "name": "python",
   "nbconvert_exporter": "python",
   "pygments_lexer": "ipython3",
   "version": "3.9.7"
  }
 },
 "nbformat": 4,
 "nbformat_minor": 5
}
