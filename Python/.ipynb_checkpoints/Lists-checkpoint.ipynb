{
 "cells": [
  {
   "cell_type": "code",
   "execution_count": 1,
   "id": "b15f78ed-a85f-4d5b-8255-53806e265add",
   "metadata": {},
   "outputs": [],
   "source": [
    "a = ['Rohan', 'Mohan', 'Sohan', 'Dohan', 'Pohan']"
   ]
  },
  {
   "cell_type": "code",
   "execution_count": 2,
   "id": "32020630-d279-459c-bc95-373846dc7e25",
   "metadata": {},
   "outputs": [
    {
     "data": {
      "text/plain": [
       "['Rohan', 'Mohan', 'Sohan', 'Dohan', 'Pohan']"
      ]
     },
     "execution_count": 2,
     "metadata": {},
     "output_type": "execute_result"
    }
   ],
   "source": [
    "a"
   ]
  },
  {
   "cell_type": "code",
   "execution_count": 3,
   "id": "e450a9bd-ca3f-4627-8d20-8c376e020b86",
   "metadata": {},
   "outputs": [],
   "source": [
    "a = ['Rohan', 'Mohan', 'Sohan', 'Dohan', 'Pohan', 'Dohan']"
   ]
  },
  {
   "cell_type": "code",
   "execution_count": 4,
   "id": "26cfc097-45a2-4c25-9842-d80d2b859907",
   "metadata": {},
   "outputs": [
    {
     "data": {
      "text/plain": [
       "['Rohan', 'Mohan', 'Sohan', 'Dohan', 'Pohan', 'Dohan']"
      ]
     },
     "execution_count": 4,
     "metadata": {},
     "output_type": "execute_result"
    }
   ],
   "source": [
    "a"
   ]
  },
  {
   "cell_type": "code",
   "execution_count": 5,
   "id": "f2ca0085-efec-4380-be61-d64b6fe6275c",
   "metadata": {},
   "outputs": [
    {
     "data": {
      "text/plain": [
       "6"
      ]
     },
     "execution_count": 5,
     "metadata": {},
     "output_type": "execute_result"
    }
   ],
   "source": [
    "len(a)"
   ]
  },
  {
   "cell_type": "code",
   "execution_count": 6,
   "id": "4eae1743-f583-4eb7-aabf-07051a017188",
   "metadata": {},
   "outputs": [],
   "source": [
    "a = ['Arunesh', 22, True]"
   ]
  },
  {
   "cell_type": "code",
   "execution_count": 7,
   "id": "891289b7-996c-4bf6-91b8-ed736888df5d",
   "metadata": {},
   "outputs": [
    {
     "data": {
      "text/plain": [
       "['Arunesh', 22, True]"
      ]
     },
     "execution_count": 7,
     "metadata": {},
     "output_type": "execute_result"
    }
   ],
   "source": [
    "a"
   ]
  },
  {
   "cell_type": "code",
   "execution_count": 8,
   "id": "91ef011f-ed5c-4e44-a308-e4544e4c7a95",
   "metadata": {},
   "outputs": [
    {
     "data": {
      "text/plain": [
       "list"
      ]
     },
     "execution_count": 8,
     "metadata": {},
     "output_type": "execute_result"
    }
   ],
   "source": [
    "type(a)"
   ]
  },
  {
   "cell_type": "code",
   "execution_count": 9,
   "id": "1f5725f6-149f-4057-8c15-f08d4b1eaa59",
   "metadata": {},
   "outputs": [
    {
     "data": {
      "text/plain": [
       "[1, 2, 3, 4, 5]"
      ]
     },
     "execution_count": 9,
     "metadata": {},
     "output_type": "execute_result"
    }
   ],
   "source": [
    "a = list((1, 2, 3, 4, 5))\n",
    "\n",
    "a"
   ]
  },
  {
   "cell_type": "markdown",
   "id": "a60f771d-4198-4049-90d9-d803d7eb4c07",
   "metadata": {},
   "source": [
    "## Access List Items"
   ]
  },
  {
   "cell_type": "code",
   "execution_count": 10,
   "id": "a76a977d-1fd1-45ad-b225-2479da5e4c34",
   "metadata": {},
   "outputs": [],
   "source": [
    "a = ['Rohan', 'Mohan', 'Sohan', 'Dohan', 'Pohan']"
   ]
  },
  {
   "cell_type": "code",
   "execution_count": 11,
   "id": "62f5799f-0730-4aae-ac39-272983e21c65",
   "metadata": {},
   "outputs": [
    {
     "data": {
      "text/plain": [
       "'Mohan'"
      ]
     },
     "execution_count": 11,
     "metadata": {},
     "output_type": "execute_result"
    }
   ],
   "source": [
    "a[1]"
   ]
  },
  {
   "cell_type": "code",
   "execution_count": 12,
   "id": "c6c18862-a0e1-43cc-92b0-6350348db8f7",
   "metadata": {},
   "outputs": [
    {
     "data": {
      "text/plain": [
       "'Pohan'"
      ]
     },
     "execution_count": 12,
     "metadata": {},
     "output_type": "execute_result"
    }
   ],
   "source": [
    "a[-1]"
   ]
  },
  {
   "cell_type": "code",
   "execution_count": 13,
   "id": "43189db4-1219-48c9-b46f-ba27c26f080c",
   "metadata": {},
   "outputs": [
    {
     "data": {
      "text/plain": [
       "['Mohan', 'Sohan', 'Dohan']"
      ]
     },
     "execution_count": 13,
     "metadata": {},
     "output_type": "execute_result"
    }
   ],
   "source": [
    "a[1:4]"
   ]
  },
  {
   "cell_type": "code",
   "execution_count": 14,
   "id": "9fd40f5b-1288-4b96-a74b-078ea3a9c487",
   "metadata": {},
   "outputs": [
    {
     "data": {
      "text/plain": [
       "['Rohan', 'Mohan', 'Sohan']"
      ]
     },
     "execution_count": 14,
     "metadata": {},
     "output_type": "execute_result"
    }
   ],
   "source": [
    "a[:3]"
   ]
  },
  {
   "cell_type": "code",
   "execution_count": 15,
   "id": "813b47fc-cfe0-47c6-be88-0467b42ba327",
   "metadata": {},
   "outputs": [
    {
     "data": {
      "text/plain": [
       "['Mohan', 'Sohan', 'Dohan', 'Pohan']"
      ]
     },
     "execution_count": 15,
     "metadata": {},
     "output_type": "execute_result"
    }
   ],
   "source": [
    "a[1:]"
   ]
  },
  {
   "cell_type": "code",
   "execution_count": 16,
   "id": "0ac457e4-54e2-41d0-894a-f05fba6f8b20",
   "metadata": {},
   "outputs": [
    {
     "data": {
      "text/plain": [
       "['Mohan', 'Sohan', 'Dohan']"
      ]
     },
     "execution_count": 16,
     "metadata": {},
     "output_type": "execute_result"
    }
   ],
   "source": [
    "a[-4:-1]"
   ]
  },
  {
   "cell_type": "code",
   "execution_count": 17,
   "id": "64dbe6b5-bc52-4827-a4b9-afbad3ce89a5",
   "metadata": {},
   "outputs": [
    {
     "name": "stdout",
     "output_type": "stream",
     "text": [
      "Yes it's there\n"
     ]
    }
   ],
   "source": [
    "# Check if Item Exists\n",
    "\n",
    "if 'Sohan' in a:\n",
    "    print(\"Yes it's there\")"
   ]
  },
  {
   "cell_type": "markdown",
   "id": "3f1dc7cf-faf1-4416-afe2-7b515ea7fa65",
   "metadata": {},
   "source": [
    "## Change List Items"
   ]
  },
  {
   "cell_type": "code",
   "execution_count": 18,
   "id": "cad4c006-5c54-4101-b7f8-68ed7291d698",
   "metadata": {},
   "outputs": [],
   "source": [
    "a = ['Rohan', 'Mohan', 'Sohan', 'Dohan', 'Pohan']"
   ]
  },
  {
   "cell_type": "code",
   "execution_count": 19,
   "id": "887b5bcd-f6f3-486a-93b8-461290f8ded4",
   "metadata": {},
   "outputs": [],
   "source": [
    "a[1] = 'Nohan'"
   ]
  },
  {
   "cell_type": "code",
   "execution_count": 20,
   "id": "23211e28-54cc-4d66-98a8-dc3b6491ef85",
   "metadata": {},
   "outputs": [
    {
     "data": {
      "text/plain": [
       "['Rohan', 'Nohan', 'Sohan', 'Dohan', 'Pohan']"
      ]
     },
     "execution_count": 20,
     "metadata": {},
     "output_type": "execute_result"
    }
   ],
   "source": [
    "a"
   ]
  },
  {
   "cell_type": "code",
   "execution_count": 21,
   "id": "d1a22e81-79d7-4e2e-b5cf-9f949274b5a6",
   "metadata": {},
   "outputs": [],
   "source": [
    "a[1:3] = ['Ram', 'Shyam']"
   ]
  },
  {
   "cell_type": "code",
   "execution_count": 22,
   "id": "884f0300-ead7-4378-9dfa-f60ffdaf18d1",
   "metadata": {},
   "outputs": [
    {
     "data": {
      "text/plain": [
       "['Rohan', 'Ram', 'Shyam', 'Dohan', 'Pohan']"
      ]
     },
     "execution_count": 22,
     "metadata": {},
     "output_type": "execute_result"
    }
   ],
   "source": [
    "a"
   ]
  },
  {
   "cell_type": "code",
   "execution_count": 23,
   "id": "12856cec-8b79-4f40-8c8b-de88097361a1",
   "metadata": {},
   "outputs": [],
   "source": [
    "a[1:] = ['Ram', 'Shyam']"
   ]
  },
  {
   "cell_type": "code",
   "execution_count": 24,
   "id": "61f525ef-aa47-4281-87eb-12680166c3d6",
   "metadata": {},
   "outputs": [
    {
     "data": {
      "text/plain": [
       "['Rohan', 'Ram', 'Shyam']"
      ]
     },
     "execution_count": 24,
     "metadata": {},
     "output_type": "execute_result"
    }
   ],
   "source": [
    "a"
   ]
  },
  {
   "cell_type": "code",
   "execution_count": 25,
   "id": "77aa5a4c-be63-494e-881f-675d89cc9243",
   "metadata": {},
   "outputs": [],
   "source": [
    "a = ['Rohan', 'Mohan', 'Sohan', 'Dohan', 'Pohan']"
   ]
  },
  {
   "cell_type": "code",
   "execution_count": 28,
   "id": "886499d8-59b7-41b9-bd1a-68570deefbaa",
   "metadata": {},
   "outputs": [],
   "source": [
    "a[1:4] = ['a']"
   ]
  },
  {
   "cell_type": "code",
   "execution_count": 29,
   "id": "293d9004-7115-4866-9ce7-a589540928d8",
   "metadata": {},
   "outputs": [
    {
     "data": {
      "text/plain": [
       "['Rohan', 'a', 'Pohan']"
      ]
     },
     "execution_count": 29,
     "metadata": {},
     "output_type": "execute_result"
    }
   ],
   "source": [
    "a"
   ]
  },
  {
   "cell_type": "markdown",
   "id": "a05df3f8-f401-4aee-8edb-d15341c7db73",
   "metadata": {},
   "source": [
    "## Insert Items"
   ]
  },
  {
   "cell_type": "code",
   "execution_count": 30,
   "id": "369140cf-3137-4c9c-bdaa-d2f0bb0ecfcb",
   "metadata": {},
   "outputs": [],
   "source": [
    "a = ['Rohan', 'Mohan', 'Sohan', 'Dohan', 'Pohan']"
   ]
  },
  {
   "cell_type": "code",
   "execution_count": 31,
   "id": "0fa7e035-fce2-408f-9f8a-5c2cbb62c806",
   "metadata": {},
   "outputs": [],
   "source": [
    "a.insert(1, 'A')"
   ]
  },
  {
   "cell_type": "code",
   "execution_count": 32,
   "id": "11bd17c8-33c6-4c67-888b-6478a9fa8925",
   "metadata": {},
   "outputs": [
    {
     "data": {
      "text/plain": [
       "['Rohan', 'A', 'Mohan', 'Sohan', 'Dohan', 'Pohan']"
      ]
     },
     "execution_count": 32,
     "metadata": {},
     "output_type": "execute_result"
    }
   ],
   "source": [
    "a"
   ]
  },
  {
   "cell_type": "code",
   "execution_count": 33,
   "id": "100225e9-d9a5-4f5e-8076-a079dea6d3ef",
   "metadata": {},
   "outputs": [
    {
     "data": {
      "text/plain": [
       "6"
      ]
     },
     "execution_count": 33,
     "metadata": {},
     "output_type": "execute_result"
    }
   ],
   "source": [
    "len(a)"
   ]
  },
  {
   "cell_type": "code",
   "execution_count": 37,
   "id": "b060435c-7e68-4b9a-aa8f-15c1f1287d25",
   "metadata": {},
   "outputs": [],
   "source": [
    "a.insert(0, 'B')"
   ]
  },
  {
   "cell_type": "code",
   "execution_count": 38,
   "id": "80a6ac3c-8da4-4438-b1db-de6e19543140",
   "metadata": {},
   "outputs": [
    {
     "data": {
      "text/plain": [
       "['B', 'Rohan', 'A', 'Mohan', 'Sohan', 'Dohan', 'B', 'Pohan']"
      ]
     },
     "execution_count": 38,
     "metadata": {},
     "output_type": "execute_result"
    }
   ],
   "source": [
    "a"
   ]
  },
  {
   "cell_type": "code",
   "execution_count": 39,
   "id": "bed4f448-c248-4130-af78-aa371543a5b5",
   "metadata": {},
   "outputs": [
    {
     "data": {
      "text/plain": [
       "8"
      ]
     },
     "execution_count": 39,
     "metadata": {},
     "output_type": "execute_result"
    }
   ],
   "source": [
    "len(a)"
   ]
  },
  {
   "cell_type": "markdown",
   "id": "00df006d-8bca-4711-b7d9-066e01fa063d",
   "metadata": {},
   "source": [
    "## Add List Items"
   ]
  },
  {
   "cell_type": "code",
   "execution_count": 46,
   "id": "0ae92b61-0523-4e6e-b896-97582c719ff8",
   "metadata": {},
   "outputs": [],
   "source": [
    "a = ['A', 'B', 'C', 'D', 'E']"
   ]
  },
  {
   "cell_type": "code",
   "execution_count": 47,
   "id": "542b1bba-9540-4bec-82c5-68f8229f15c3",
   "metadata": {},
   "outputs": [],
   "source": [
    "# add item at last\n",
    "\n",
    "a.append('AA')"
   ]
  },
  {
   "cell_type": "code",
   "execution_count": 48,
   "id": "83200e24-707a-4b53-822a-6544ec09b01a",
   "metadata": {},
   "outputs": [
    {
     "data": {
      "text/plain": [
       "['A', 'B', 'C', 'D', 'E', 'AA']"
      ]
     },
     "execution_count": 48,
     "metadata": {},
     "output_type": "execute_result"
    }
   ],
   "source": [
    "a"
   ]
  },
  {
   "cell_type": "code",
   "execution_count": 49,
   "id": "73851bc0-fea6-488a-bbeb-715238f42ba9",
   "metadata": {},
   "outputs": [],
   "source": [
    "# add item at target position\n",
    "\n",
    "a.insert(1, 'BB')"
   ]
  },
  {
   "cell_type": "code",
   "execution_count": 50,
   "id": "a8abed68-71f8-4041-91ce-36bd06ee9213",
   "metadata": {},
   "outputs": [
    {
     "data": {
      "text/plain": [
       "['A', 'BB', 'B', 'C', 'D', 'E', 'AA']"
      ]
     },
     "execution_count": 50,
     "metadata": {},
     "output_type": "execute_result"
    }
   ],
   "source": [
    "a"
   ]
  },
  {
   "cell_type": "code",
   "execution_count": 51,
   "id": "b57a88b0-8466-4f2c-9a5e-64f5f8acbb42",
   "metadata": {},
   "outputs": [],
   "source": [
    "a = ['A', 'B', 'C', 'D', 'E']\n",
    "b = ['AA', 'BB', 'CC', 'DD', 'EE']"
   ]
  },
  {
   "cell_type": "code",
   "execution_count": 52,
   "id": "aed9a1de-6d20-4fae-ae9a-c994f1f10010",
   "metadata": {},
   "outputs": [
    {
     "data": {
      "text/plain": [
       "['A', 'B', 'C', 'D', 'E', 'AA', 'BB', 'CC', 'DD', 'EE']"
      ]
     },
     "execution_count": 52,
     "metadata": {},
     "output_type": "execute_result"
    }
   ],
   "source": [
    "# Extend List\n",
    "\n",
    "a.extend(b)\n",
    "\n",
    "a"
   ]
  },
  {
   "cell_type": "code",
   "execution_count": 53,
   "id": "ff1ad98a-ffe2-4ddd-aef7-eaf28a7eaa74",
   "metadata": {},
   "outputs": [],
   "source": [
    "a = ['A', 'B', 'C', 'D', 'E']\n",
    "b = ('AA', 'BB', 'CC', 'DD', 'EE')"
   ]
  },
  {
   "cell_type": "code",
   "execution_count": 54,
   "id": "c109e163-816a-43d2-9e24-1addb29fb289",
   "metadata": {},
   "outputs": [],
   "source": [
    "a.extend(b)"
   ]
  },
  {
   "cell_type": "code",
   "execution_count": 55,
   "id": "03531394-985e-4495-b5eb-d7b4d65e521d",
   "metadata": {},
   "outputs": [
    {
     "data": {
      "text/plain": [
       "['A', 'B', 'C', 'D', 'E', 'AA', 'BB', 'CC', 'DD', 'EE']"
      ]
     },
     "execution_count": 55,
     "metadata": {},
     "output_type": "execute_result"
    }
   ],
   "source": [
    "a"
   ]
  },
  {
   "cell_type": "markdown",
   "id": "87f94615-0fac-4786-b5eb-ef070822cc58",
   "metadata": {},
   "source": [
    "## Remove List Item"
   ]
  },
  {
   "cell_type": "code",
   "execution_count": 56,
   "id": "8e40e7bd-29aa-40f6-ac05-5824ec26e595",
   "metadata": {},
   "outputs": [],
   "source": [
    "a = ['Rohan', 'Mohan', 'Sohan', 'Dohan', 'Pohan']"
   ]
  },
  {
   "cell_type": "code",
   "execution_count": 57,
   "id": "39c8ef60-9cd7-47eb-ba27-2c378fe933b6",
   "metadata": {},
   "outputs": [],
   "source": [
    "a.remove('Sohan')"
   ]
  },
  {
   "cell_type": "code",
   "execution_count": 58,
   "id": "2509dc4c-a6e6-4945-b472-ab1b81734751",
   "metadata": {},
   "outputs": [
    {
     "data": {
      "text/plain": [
       "['Rohan', 'Mohan', 'Dohan', 'Pohan']"
      ]
     },
     "execution_count": 58,
     "metadata": {},
     "output_type": "execute_result"
    }
   ],
   "source": [
    "a"
   ]
  },
  {
   "cell_type": "code",
   "execution_count": 59,
   "id": "b1b3b093-cc82-4a8d-97db-4b2448eb3427",
   "metadata": {},
   "outputs": [
    {
     "data": {
      "text/plain": [
       "'Mohan'"
      ]
     },
     "execution_count": 59,
     "metadata": {},
     "output_type": "execute_result"
    }
   ],
   "source": [
    "a.pop(1)"
   ]
  },
  {
   "cell_type": "code",
   "execution_count": 60,
   "id": "794cc331-5b59-4e43-be45-4dad3de53c84",
   "metadata": {},
   "outputs": [
    {
     "data": {
      "text/plain": [
       "['Rohan', 'Dohan', 'Pohan']"
      ]
     },
     "execution_count": 60,
     "metadata": {},
     "output_type": "execute_result"
    }
   ],
   "source": [
    "a"
   ]
  },
  {
   "cell_type": "code",
   "execution_count": 61,
   "id": "b9b1fd0d-b4f9-4e49-b4f4-f51ed823771e",
   "metadata": {},
   "outputs": [
    {
     "data": {
      "text/plain": [
       "'Pohan'"
      ]
     },
     "execution_count": 61,
     "metadata": {},
     "output_type": "execute_result"
    }
   ],
   "source": [
    "a.pop()"
   ]
  },
  {
   "cell_type": "code",
   "execution_count": 62,
   "id": "3f4e5db4-01de-413b-ada9-4d2b2dbd4e37",
   "metadata": {},
   "outputs": [
    {
     "data": {
      "text/plain": [
       "['Rohan', 'Dohan']"
      ]
     },
     "execution_count": 62,
     "metadata": {},
     "output_type": "execute_result"
    }
   ],
   "source": [
    "a"
   ]
  },
  {
   "cell_type": "code",
   "execution_count": 63,
   "id": "e111ace1-7a08-4866-a0b4-3233e5d0e13d",
   "metadata": {},
   "outputs": [],
   "source": [
    "a = ['Rohan', 'Mohan', 'Sohan', 'Dohan', 'Pohan']"
   ]
  },
  {
   "cell_type": "code",
   "execution_count": 64,
   "id": "975d1e1e-f665-4799-9dfb-458309e91a70",
   "metadata": {},
   "outputs": [],
   "source": [
    "del a[0]"
   ]
  },
  {
   "cell_type": "code",
   "execution_count": 65,
   "id": "f4242fb0-2a57-48d4-91a3-bd74163b42b7",
   "metadata": {},
   "outputs": [
    {
     "data": {
      "text/plain": [
       "['Mohan', 'Sohan', 'Dohan', 'Pohan']"
      ]
     },
     "execution_count": 65,
     "metadata": {},
     "output_type": "execute_result"
    }
   ],
   "source": [
    "a"
   ]
  },
  {
   "cell_type": "code",
   "execution_count": 66,
   "id": "8bdb507b-0880-4177-85fa-b078cd253d52",
   "metadata": {},
   "outputs": [],
   "source": [
    "del a"
   ]
  },
  {
   "cell_type": "code",
   "execution_count": 67,
   "id": "e8394c80-d1b0-47df-b205-ee37d354308b",
   "metadata": {},
   "outputs": [
    {
     "ename": "NameError",
     "evalue": "name 'a' is not defined",
     "output_type": "error",
     "traceback": [
      "\u001b[1;31m---------------------------------------------------------------------------\u001b[0m",
      "\u001b[1;31mNameError\u001b[0m                                 Traceback (most recent call last)",
      "\u001b[1;32m~\\AppData\\Local\\Temp/ipykernel_11464/2167009006.py\u001b[0m in \u001b[0;36m<module>\u001b[1;34m\u001b[0m\n\u001b[1;32m----> 1\u001b[1;33m \u001b[0ma\u001b[0m\u001b[1;33m\u001b[0m\u001b[1;33m\u001b[0m\u001b[0m\n\u001b[0m",
      "\u001b[1;31mNameError\u001b[0m: name 'a' is not defined"
     ]
    }
   ],
   "source": [
    "a"
   ]
  },
  {
   "cell_type": "code",
   "execution_count": 68,
   "id": "008d018f-3d95-4b07-a458-515a283130c2",
   "metadata": {},
   "outputs": [],
   "source": [
    "a = ['Rohan', 'Mohan', 'Sohan', 'Dohan', 'Pohan']"
   ]
  },
  {
   "cell_type": "code",
   "execution_count": 69,
   "id": "36c06be6-cb88-40f5-abcd-a77979eecd1c",
   "metadata": {},
   "outputs": [],
   "source": [
    "a.clear()"
   ]
  },
  {
   "cell_type": "code",
   "execution_count": 70,
   "id": "cf20a769-3633-47d7-a0d4-4ed0af4e22cc",
   "metadata": {},
   "outputs": [
    {
     "data": {
      "text/plain": [
       "[]"
      ]
     },
     "execution_count": 70,
     "metadata": {},
     "output_type": "execute_result"
    }
   ],
   "source": [
    "a"
   ]
  },
  {
   "cell_type": "markdown",
   "id": "770e2ff7-7f68-42c8-9310-383a83f91e56",
   "metadata": {},
   "source": [
    "## Loop Lists"
   ]
  },
  {
   "cell_type": "code",
   "execution_count": 71,
   "id": "eb3f038d-8d22-4494-b991-18b33bfb07bd",
   "metadata": {},
   "outputs": [],
   "source": [
    "a = ['Rohan', 'Mohan', 'Sohan', 'Dohan', 'Pohan']"
   ]
  },
  {
   "cell_type": "code",
   "execution_count": 72,
   "id": "248a9095-b626-45ee-a776-5de1a6fe0107",
   "metadata": {},
   "outputs": [
    {
     "name": "stdout",
     "output_type": "stream",
     "text": [
      "Rohan\n",
      "Mohan\n",
      "Sohan\n",
      "Dohan\n",
      "Pohan\n"
     ]
    }
   ],
   "source": [
    "for x in a:\n",
    "    print(x)"
   ]
  },
  {
   "cell_type": "code",
   "execution_count": 75,
   "id": "da2480f8-b6e6-423a-b03d-bd2fac3d434e",
   "metadata": {},
   "outputs": [
    {
     "name": "stdout",
     "output_type": "stream",
     "text": [
      "Rohan\n",
      "Mohan\n",
      "Sohan\n",
      "Dohan\n",
      "Pohan\n"
     ]
    }
   ],
   "source": [
    "for i in range(len(a)):\n",
    "    print(a[i])"
   ]
  },
  {
   "cell_type": "code",
   "execution_count": 76,
   "id": "bd6817f2-c4da-4c14-b0fc-501c1d6674a2",
   "metadata": {},
   "outputs": [
    {
     "name": "stdout",
     "output_type": "stream",
     "text": [
      "Rohan\n",
      "Mohan\n",
      "Sohan\n",
      "Dohan\n",
      "Pohan\n"
     ]
    }
   ],
   "source": [
    "i = 0\n",
    "\n",
    "while i < len(a):\n",
    "    print(a[i])\n",
    "    i += 1"
   ]
  },
  {
   "cell_type": "code",
   "execution_count": 79,
   "id": "dbd07a7d-908d-4a66-accc-063549783c2e",
   "metadata": {},
   "outputs": [
    {
     "name": "stdout",
     "output_type": "stream",
     "text": [
      "Rohan\n",
      "Mohan\n",
      "Sohan\n",
      "Dohan\n",
      "Pohan\n"
     ]
    },
    {
     "data": {
      "text/plain": [
       "[None, None, None, None, None]"
      ]
     },
     "execution_count": 79,
     "metadata": {},
     "output_type": "execute_result"
    }
   ],
   "source": [
    "[print(x) for x in a]"
   ]
  },
  {
   "cell_type": "code",
   "execution_count": 81,
   "id": "df20f714-f921-4f94-a653-df1339f85d40",
   "metadata": {},
   "outputs": [
    {
     "name": "stdout",
     "output_type": "stream",
     "text": [
      "['Rohan', 'Mohan', 'Sohan', 'Dohan', 'Pohan']\n"
     ]
    }
   ],
   "source": [
    "x = [x for x in a]\n",
    "\n",
    "print(x)"
   ]
  },
  {
   "cell_type": "markdown",
   "id": "77b3ea8a-a60c-4916-9a28-fdb0307808a0",
   "metadata": {},
   "source": [
    "## List Comprehension"
   ]
  },
  {
   "cell_type": "code",
   "execution_count": 85,
   "id": "71fd81e7-40d5-469b-8fc4-8b6245998056",
   "metadata": {},
   "outputs": [],
   "source": [
    "a = ['Rohan', 'Mohan', 'Sohan', 'Dohan', 'Pohan', 'Arunesh']"
   ]
  },
  {
   "cell_type": "code",
   "execution_count": 86,
   "id": "1177f685-2ac6-4886-a133-a2319afe981b",
   "metadata": {},
   "outputs": [
    {
     "data": {
      "text/plain": [
       "['Arunesh']"
      ]
     },
     "execution_count": 86,
     "metadata": {},
     "output_type": "execute_result"
    }
   ],
   "source": [
    "x = [i for i in a if 'run' in i]\n",
    "\n",
    "x"
   ]
  },
  {
   "cell_type": "code",
   "execution_count": 87,
   "id": "7409b2cc-9d25-459b-befb-2062c2c3e7e7",
   "metadata": {},
   "outputs": [
    {
     "data": {
      "text/plain": [
       "['Mohan', 'Sohan', 'Dohan', 'Pohan', 'Arunesh']"
      ]
     },
     "execution_count": 87,
     "metadata": {},
     "output_type": "execute_result"
    }
   ],
   "source": [
    "x = [i for i in a if i != 'Rohan']\n",
    "\n",
    "x"
   ]
  },
  {
   "cell_type": "code",
   "execution_count": 88,
   "id": "60936963-2c25-4834-99ed-bd81bcdd77c4",
   "metadata": {},
   "outputs": [
    {
     "data": {
      "text/plain": [
       "['Rohan', 'Mohan', 'Sohan', 'Dohan', 'Pohan', 'Arunesh']"
      ]
     },
     "execution_count": 88,
     "metadata": {},
     "output_type": "execute_result"
    }
   ],
   "source": [
    "x = [i for i in a]\n",
    "\n",
    "x"
   ]
  },
  {
   "cell_type": "code",
   "execution_count": 89,
   "id": "8eac57da-a007-43b6-b4ce-11bf5827aa87",
   "metadata": {},
   "outputs": [
    {
     "data": {
      "text/plain": [
       "[0, 1, 2, 3, 4, 5, 6, 7, 8, 9]"
      ]
     },
     "execution_count": 89,
     "metadata": {},
     "output_type": "execute_result"
    }
   ],
   "source": [
    "x = [i for i in range(10)]\n",
    "\n",
    "x"
   ]
  },
  {
   "cell_type": "code",
   "execution_count": 91,
   "id": "47cdd128-891b-4dc9-90fa-51744be5d5c8",
   "metadata": {},
   "outputs": [
    {
     "data": {
      "text/plain": [
       "[0, 1, 2, 3, 4, 5]"
      ]
     },
     "execution_count": 91,
     "metadata": {},
     "output_type": "execute_result"
    }
   ],
   "source": [
    "x = [i for i in range(10) if i < 6]\n",
    "\n",
    "\n",
    "x"
   ]
  },
  {
   "cell_type": "code",
   "execution_count": 92,
   "id": "f9c10a7e-21b2-401c-9c3f-642e10098ee5",
   "metadata": {},
   "outputs": [
    {
     "data": {
      "text/plain": [
       "['Rohan', 'Mohan', 'Sohan', 'Dohan', 'Pohan', 'Arunesh']"
      ]
     },
     "execution_count": 92,
     "metadata": {},
     "output_type": "execute_result"
    }
   ],
   "source": [
    "a"
   ]
  },
  {
   "cell_type": "code",
   "execution_count": 93,
   "id": "69ed57de-9bea-4fb1-a0f0-dfa21abe9639",
   "metadata": {},
   "outputs": [
    {
     "data": {
      "text/plain": [
       "['ROHAN', 'MOHAN', 'SOHAN', 'DOHAN', 'POHAN', 'ARUNESH']"
      ]
     },
     "execution_count": 93,
     "metadata": {},
     "output_type": "execute_result"
    }
   ],
   "source": [
    "x = [i.upper() for i in a]\n",
    "\n",
    "x"
   ]
  },
  {
   "cell_type": "code",
   "execution_count": 94,
   "id": "7e893cea-701b-4d7b-a50c-dc07b94e5d1b",
   "metadata": {},
   "outputs": [
    {
     "data": {
      "text/plain": [
       "['hello', 'hello', 'hello', 'hello', 'hello', 'hello']"
      ]
     },
     "execution_count": 94,
     "metadata": {},
     "output_type": "execute_result"
    }
   ],
   "source": [
    "x = ['hello' for i in a]\n",
    "\n",
    "x"
   ]
  },
  {
   "cell_type": "code",
   "execution_count": 95,
   "id": "155476e5-6d1b-482b-be93-3bbf7ce5ab93",
   "metadata": {},
   "outputs": [
    {
     "data": {
      "text/plain": [
       "['Rohan', 'Mohan', 'Sohan', 'Dohan', 'Pohan', 'Arunesh']"
      ]
     },
     "execution_count": 95,
     "metadata": {},
     "output_type": "execute_result"
    }
   ],
   "source": [
    "a"
   ]
  },
  {
   "cell_type": "code",
   "execution_count": 97,
   "id": "2d0ffb36-613a-43b6-9077-b9c5df9d4e65",
   "metadata": {},
   "outputs": [],
   "source": [
    "x = [i if i != 'Rohan' else 'Fuck' for i in a]"
   ]
  },
  {
   "cell_type": "code",
   "execution_count": 98,
   "id": "e8898a6e-4239-4483-84c5-8a87f86b560f",
   "metadata": {},
   "outputs": [
    {
     "data": {
      "text/plain": [
       "['Fuck', 'Mohan', 'Sohan', 'Dohan', 'Pohan', 'Arunesh']"
      ]
     },
     "execution_count": 98,
     "metadata": {},
     "output_type": "execute_result"
    }
   ],
   "source": [
    "x"
   ]
  },
  {
   "cell_type": "markdown",
   "id": "9d68621c-682f-4a21-946c-5693a640a2d1",
   "metadata": {},
   "source": [
    "# Sort Lists"
   ]
  },
  {
   "cell_type": "code",
   "execution_count": 99,
   "id": "5a960c8a-f734-4196-afaf-fcd74de74efa",
   "metadata": {},
   "outputs": [],
   "source": [
    "a = ['Rohan', 'Mohan', 'Sohan', 'Dohan', 'Pohan', 'Arunesh']"
   ]
  },
  {
   "cell_type": "code",
   "execution_count": 100,
   "id": "2b7732fb-e5d5-43b4-ac2e-5bb71549c467",
   "metadata": {},
   "outputs": [],
   "source": [
    "a.sort()"
   ]
  },
  {
   "cell_type": "code",
   "execution_count": 101,
   "id": "0ec11ef0-a72d-4ddc-8d8d-98f21b93c2eb",
   "metadata": {},
   "outputs": [
    {
     "data": {
      "text/plain": [
       "['Arunesh', 'Dohan', 'Mohan', 'Pohan', 'Rohan', 'Sohan']"
      ]
     },
     "execution_count": 101,
     "metadata": {},
     "output_type": "execute_result"
    }
   ],
   "source": [
    "a"
   ]
  },
  {
   "cell_type": "code",
   "execution_count": 102,
   "id": "6b8474ba-9f6e-4ab0-9c95-79a5ed9cdcb8",
   "metadata": {},
   "outputs": [],
   "source": [
    "b = [5, 2, 8, 2, 4, 1, 0]"
   ]
  },
  {
   "cell_type": "code",
   "execution_count": 103,
   "id": "db85247e-3e8b-4445-b03f-869069211fdd",
   "metadata": {},
   "outputs": [
    {
     "data": {
      "text/plain": [
       "[5, 2, 8, 2, 4, 1, 0]"
      ]
     },
     "execution_count": 103,
     "metadata": {},
     "output_type": "execute_result"
    }
   ],
   "source": [
    "b"
   ]
  },
  {
   "cell_type": "code",
   "execution_count": 104,
   "id": "56d81d87-c606-448d-ae23-d7803e8e4a91",
   "metadata": {},
   "outputs": [],
   "source": [
    "b.sort()"
   ]
  },
  {
   "cell_type": "code",
   "execution_count": 105,
   "id": "fe18efba-6b6c-4657-8f94-cd4ebec2517c",
   "metadata": {},
   "outputs": [
    {
     "data": {
      "text/plain": [
       "[0, 1, 2, 2, 4, 5, 8]"
      ]
     },
     "execution_count": 105,
     "metadata": {},
     "output_type": "execute_result"
    }
   ],
   "source": [
    "b"
   ]
  },
  {
   "cell_type": "code",
   "execution_count": 106,
   "id": "0b6103ec-aa2b-47ac-83e0-90a647aefd7a",
   "metadata": {},
   "outputs": [
    {
     "data": {
      "text/plain": [
       "['Arunesh', 'Dohan', 'Mohan', 'Pohan', 'Rohan', 'Sohan']"
      ]
     },
     "execution_count": 106,
     "metadata": {},
     "output_type": "execute_result"
    }
   ],
   "source": [
    "a"
   ]
  },
  {
   "cell_type": "code",
   "execution_count": 108,
   "id": "3df2daa4-8196-4603-86f8-0d1467a8d710",
   "metadata": {},
   "outputs": [],
   "source": [
    "a.sort(reverse = True)"
   ]
  },
  {
   "cell_type": "code",
   "execution_count": 109,
   "id": "db9840aa-bfbb-4e78-9470-9ae230b0ccf5",
   "metadata": {},
   "outputs": [
    {
     "data": {
      "text/plain": [
       "['Sohan', 'Rohan', 'Pohan', 'Mohan', 'Dohan', 'Arunesh']"
      ]
     },
     "execution_count": 109,
     "metadata": {},
     "output_type": "execute_result"
    }
   ],
   "source": [
    "a"
   ]
  },
  {
   "cell_type": "code",
   "execution_count": 110,
   "id": "41311495-07f1-428b-9643-58c4ddefe751",
   "metadata": {},
   "outputs": [
    {
     "data": {
      "text/plain": [
       "[0, 1, 2, 2, 4, 5, 8]"
      ]
     },
     "execution_count": 110,
     "metadata": {},
     "output_type": "execute_result"
    }
   ],
   "source": [
    "b"
   ]
  },
  {
   "cell_type": "code",
   "execution_count": 111,
   "id": "84b79723-b610-462c-8049-ede6551bb7b7",
   "metadata": {},
   "outputs": [],
   "source": [
    "b.sort(reverse = True)"
   ]
  },
  {
   "cell_type": "code",
   "execution_count": 112,
   "id": "7c9846a4-73f4-455d-ae44-d6520e49366e",
   "metadata": {},
   "outputs": [
    {
     "data": {
      "text/plain": [
       "[8, 5, 4, 2, 2, 1, 0]"
      ]
     },
     "execution_count": 112,
     "metadata": {},
     "output_type": "execute_result"
    }
   ],
   "source": [
    "b"
   ]
  },
  {
   "cell_type": "code",
   "execution_count": 113,
   "id": "3f3100ac-3942-4ad5-ae59-769431c9b161",
   "metadata": {},
   "outputs": [],
   "source": [
    "a = ['a', 'D', 'c', 'B', ]"
   ]
  },
  {
   "cell_type": "code",
   "execution_count": 114,
   "id": "b20c185c-53eb-463c-a4a3-4e865f2dacda",
   "metadata": {},
   "outputs": [
    {
     "data": {
      "text/plain": [
       "['a', 'D', 'c', 'B']"
      ]
     },
     "execution_count": 114,
     "metadata": {},
     "output_type": "execute_result"
    }
   ],
   "source": [
    "a"
   ]
  },
  {
   "cell_type": "code",
   "execution_count": 115,
   "id": "d95909dc-8d4c-40ed-a044-5a57fa00635a",
   "metadata": {},
   "outputs": [],
   "source": [
    "a.sort()"
   ]
  },
  {
   "cell_type": "code",
   "execution_count": 116,
   "id": "c066b997-9fab-4b4a-a657-617893ae37a5",
   "metadata": {},
   "outputs": [
    {
     "data": {
      "text/plain": [
       "['B', 'D', 'a', 'c']"
      ]
     },
     "execution_count": 116,
     "metadata": {},
     "output_type": "execute_result"
    }
   ],
   "source": [
    "a"
   ]
  },
  {
   "cell_type": "code",
   "execution_count": 119,
   "id": "baae5fa0-d0be-4a99-87ac-f128d3e4e013",
   "metadata": {},
   "outputs": [],
   "source": [
    "a.sort(key = str.lower)"
   ]
  },
  {
   "cell_type": "code",
   "execution_count": 120,
   "id": "64279f82-9d4c-4bfa-8164-3fded528c392",
   "metadata": {},
   "outputs": [
    {
     "data": {
      "text/plain": [
       "['a', 'B', 'c', 'D']"
      ]
     },
     "execution_count": 120,
     "metadata": {},
     "output_type": "execute_result"
    }
   ],
   "source": [
    "a"
   ]
  },
  {
   "cell_type": "code",
   "execution_count": 121,
   "id": "86b7f344-397b-405b-bee4-2ef0d4a71054",
   "metadata": {},
   "outputs": [
    {
     "data": {
      "text/plain": [
       "['a', 'B', 'c', 'D']"
      ]
     },
     "execution_count": 121,
     "metadata": {},
     "output_type": "execute_result"
    }
   ],
   "source": [
    "a"
   ]
  },
  {
   "cell_type": "code",
   "execution_count": 122,
   "id": "2fdd811c-4954-411f-9b44-1dceb6b0c26a",
   "metadata": {},
   "outputs": [],
   "source": [
    "a.reverse()"
   ]
  },
  {
   "cell_type": "code",
   "execution_count": 123,
   "id": "fc3b36b6-65ba-4234-be1c-4ca245922c85",
   "metadata": {},
   "outputs": [
    {
     "data": {
      "text/plain": [
       "['D', 'c', 'B', 'a']"
      ]
     },
     "execution_count": 123,
     "metadata": {},
     "output_type": "execute_result"
    }
   ],
   "source": [
    "a"
   ]
  },
  {
   "cell_type": "markdown",
   "id": "c92db51f-d4f3-4a24-a263-5cffeffa6b4d",
   "metadata": {},
   "source": [
    "# Copy Lists"
   ]
  },
  {
   "cell_type": "code",
   "execution_count": 126,
   "id": "e3aa5f5a-bd3d-41fa-a6f5-8522cceeb5b6",
   "metadata": {},
   "outputs": [],
   "source": [
    "a = ['Rohan', 'Mohan', 'Sohan', 'Dohan', 'Pohan', 'Arunesh']"
   ]
  },
  {
   "cell_type": "code",
   "execution_count": 127,
   "id": "687c0f5f-4f3e-40a6-a23e-d8486163647a",
   "metadata": {},
   "outputs": [
    {
     "data": {
      "text/plain": [
       "['Rohan', 'Mohan', 'Sohan', 'Dohan', 'Pohan', 'Arunesh']"
      ]
     },
     "execution_count": 127,
     "metadata": {},
     "output_type": "execute_result"
    }
   ],
   "source": [
    "# 1 - method\n",
    "\n",
    "new_list = a.copy()\n",
    "\n",
    "new_list"
   ]
  },
  {
   "cell_type": "code",
   "execution_count": 128,
   "id": "c846d3ac-651a-441b-96f6-986771ca1d4f",
   "metadata": {},
   "outputs": [
    {
     "data": {
      "text/plain": [
       "['Rohan', 'Mohan', 'Sohan', 'Dohan', 'Pohan', 'Arunesh']"
      ]
     },
     "execution_count": 128,
     "metadata": {},
     "output_type": "execute_result"
    }
   ],
   "source": [
    "# 2 - method\n",
    "\n",
    "new_list = list(a)\n",
    "\n",
    "new_list"
   ]
  },
  {
   "cell_type": "markdown",
   "id": "0bf37651-b371-4107-bf2c-e44c1ab9c57e",
   "metadata": {},
   "source": [
    "# Join Lists"
   ]
  },
  {
   "cell_type": "code",
   "execution_count": 129,
   "id": "6af19913-87eb-49a6-846c-5aaeec9023a5",
   "metadata": {},
   "outputs": [],
   "source": [
    "a = ['Rohan', 'Mohan', 'Sohan', 'Dohan', 'Pohan', 'Arunesh']\n",
    "\n",
    "b = [1, 2, 3, 4, 5]"
   ]
  },
  {
   "cell_type": "code",
   "execution_count": 130,
   "id": "40c26456-702f-4546-a31c-bd691d85ba3d",
   "metadata": {},
   "outputs": [
    {
     "data": {
      "text/plain": [
       "['Rohan', 'Mohan', 'Sohan', 'Dohan', 'Pohan', 'Arunesh', 1, 2, 3, 4, 5]"
      ]
     },
     "execution_count": 130,
     "metadata": {},
     "output_type": "execute_result"
    }
   ],
   "source": [
    "# 1 - method\n",
    "\n",
    "new_list = a + b\n",
    "\n",
    "new_list"
   ]
  },
  {
   "cell_type": "code",
   "execution_count": 131,
   "id": "4f1ddb95-02de-47b8-8e64-eb8626da0de7",
   "metadata": {},
   "outputs": [
    {
     "data": {
      "text/plain": [
       "['Rohan', 'Mohan', 'Sohan', 'Dohan', 'Pohan', 'Arunesh', 1, 2, 3, 4, 5]"
      ]
     },
     "execution_count": 131,
     "metadata": {},
     "output_type": "execute_result"
    }
   ],
   "source": [
    "# 2 - method\n",
    "\n",
    "for x in b:\n",
    "    a.append(x)\n",
    "\n",
    "a"
   ]
  },
  {
   "cell_type": "code",
   "execution_count": 133,
   "id": "e3db1ad0-21ef-4781-b1d7-80aaf5b597da",
   "metadata": {},
   "outputs": [
    {
     "data": {
      "text/plain": [
       "['Rohan', 'Mohan', 'Sohan', 'Dohan', 'Pohan', 'Arunesh', 1, 2, 3, 4, 5]"
      ]
     },
     "execution_count": 133,
     "metadata": {},
     "output_type": "execute_result"
    }
   ],
   "source": [
    "# 3 - method\n",
    "\n",
    "a = ['Rohan', 'Mohan', 'Sohan', 'Dohan', 'Pohan', 'Arunesh']\n",
    "b = [1, 2, 3, 4, 5]\n",
    "\n",
    "a.extend(b)\n",
    "\n",
    "a"
   ]
  },
  {
   "cell_type": "markdown",
   "id": "f915caea-d201-4542-a573-704e99682b57",
   "metadata": {},
   "source": [
    "<h1 style=\"color:green;font-size:100px;\">List Methods</h1>"
   ]
  },
  {
   "cell_type": "code",
   "execution_count": 134,
   "id": "92f880a4-1d1a-41f1-b832-571e1e6abb92",
   "metadata": {},
   "outputs": [],
   "source": [
    "a = ['Rohan', 'Mohan', 'Sohan', 'Dohan', 'Pohan', 'Arunesh']\n",
    "b = [1, 2, 3, 4, 5]"
   ]
  },
  {
   "cell_type": "code",
   "execution_count": 144,
   "id": "26f5cd43-ca87-4301-a3e7-fe965f61810d",
   "metadata": {},
   "outputs": [
    {
     "data": {
      "text/plain": [
       "['Rohan', 'Mohan', 'Sohan', 'Dohan', 'Pohan', 'Arunesh', 'Test']"
      ]
     },
     "execution_count": 144,
     "metadata": {},
     "output_type": "execute_result"
    }
   ],
   "source": [
    "# append\n",
    "\n",
    "a.append('Test')\n",
    "\n",
    "a"
   ]
  },
  {
   "cell_type": "code",
   "execution_count": 145,
   "id": "236e9691-2086-4894-9e01-c33cc6f3c150",
   "metadata": {},
   "outputs": [],
   "source": [
    "# clear\n",
    "\n",
    "a.clear()"
   ]
  },
  {
   "cell_type": "code",
   "execution_count": 146,
   "id": "581b58a3-e466-404d-a6d9-677ad98b5f72",
   "metadata": {},
   "outputs": [
    {
     "data": {
      "text/plain": [
       "[]"
      ]
     },
     "execution_count": 146,
     "metadata": {},
     "output_type": "execute_result"
    }
   ],
   "source": [
    "a"
   ]
  },
  {
   "cell_type": "code",
   "execution_count": 147,
   "id": "25b4206c-76cb-4cc8-a52c-355ae1cf7cf4",
   "metadata": {},
   "outputs": [],
   "source": [
    "a = ['Rohan', 'Mohan', 'Sohan', 'Dohan', 'Pohan', 'Arunesh']\n",
    "b = [1, 2, 3, 4, 5]"
   ]
  },
  {
   "cell_type": "code",
   "execution_count": 148,
   "id": "3ecf5da3-05e3-40dd-88ee-056070d7db81",
   "metadata": {},
   "outputs": [
    {
     "data": {
      "text/plain": [
       "['Rohan', 'Mohan', 'Sohan', 'Dohan', 'Pohan', 'Arunesh']"
      ]
     },
     "execution_count": 148,
     "metadata": {},
     "output_type": "execute_result"
    }
   ],
   "source": [
    "# copy\n",
    "\n",
    "c = a.copy()\n",
    "\n",
    "c"
   ]
  },
  {
   "cell_type": "code",
   "execution_count": 149,
   "id": "e3f4f28e-6590-440f-b90a-08f30c3b97eb",
   "metadata": {},
   "outputs": [
    {
     "data": {
      "text/plain": [
       "1"
      ]
     },
     "execution_count": 149,
     "metadata": {},
     "output_type": "execute_result"
    }
   ],
   "source": [
    "# count\n",
    "\n",
    "c.count('Arunesh')"
   ]
  },
  {
   "cell_type": "code",
   "execution_count": 150,
   "id": "e7e3c325-ede3-4cb1-bf12-6ed1c7ea40ed",
   "metadata": {},
   "outputs": [
    {
     "data": {
      "text/plain": [
       "['Rohan', 'Mohan', 'Sohan', 'Dohan', 'Pohan', 'Arunesh', 1, 2, 3, 4, 5]"
      ]
     },
     "execution_count": 150,
     "metadata": {},
     "output_type": "execute_result"
    }
   ],
   "source": [
    "# extends\n",
    "\n",
    "a.extend(b)\n",
    "\n",
    "a"
   ]
  },
  {
   "cell_type": "code",
   "execution_count": 151,
   "id": "eca7bd50-7735-4c1e-8631-87d9a33b076c",
   "metadata": {},
   "outputs": [
    {
     "data": {
      "text/plain": [
       "2"
      ]
     },
     "execution_count": 151,
     "metadata": {},
     "output_type": "execute_result"
    }
   ],
   "source": [
    "# index\n",
    "\n",
    "a = ['Rohan', 'Mohan', 'Arunesh', 'Sohan', 'Arunesh', 'Dohan', 'Pohan', 'Arunesh']\n",
    "\n",
    "a.index('Arunesh')"
   ]
  },
  {
   "cell_type": "code",
   "execution_count": 152,
   "id": "c6835584-f3f8-40a8-bc75-bef00de8a90b",
   "metadata": {},
   "outputs": [
    {
     "data": {
      "text/plain": [
       "3"
      ]
     },
     "execution_count": 152,
     "metadata": {},
     "output_type": "execute_result"
    }
   ],
   "source": [
    "a.count('Arunesh')"
   ]
  },
  {
   "cell_type": "code",
   "execution_count": 153,
   "id": "3c82cfc5-9162-47ce-a357-53d67b4db909",
   "metadata": {},
   "outputs": [
    {
     "data": {
      "text/plain": [
       "['Ankesh',\n",
       " 'Rohan',\n",
       " 'Mohan',\n",
       " 'Arunesh',\n",
       " 'Sohan',\n",
       " 'Arunesh',\n",
       " 'Dohan',\n",
       " 'Pohan',\n",
       " 'Arunesh']"
      ]
     },
     "execution_count": 153,
     "metadata": {},
     "output_type": "execute_result"
    }
   ],
   "source": [
    "# insert\n",
    "\n",
    "a.insert(0, 'Ankesh')\n",
    "\n",
    "a"
   ]
  },
  {
   "cell_type": "code",
   "execution_count": 154,
   "id": "b9988336-4de2-4449-8101-a856256e6ca6",
   "metadata": {},
   "outputs": [
    {
     "data": {
      "text/plain": [
       "'Arunesh'"
      ]
     },
     "execution_count": 154,
     "metadata": {},
     "output_type": "execute_result"
    }
   ],
   "source": [
    "a.pop()"
   ]
  },
  {
   "cell_type": "code",
   "execution_count": 155,
   "id": "f6f7b331-71ee-438f-92bc-c98eee33c7f7",
   "metadata": {},
   "outputs": [
    {
     "data": {
      "text/plain": [
       "['Ankesh', 'Rohan', 'Mohan', 'Arunesh', 'Sohan', 'Arunesh', 'Dohan', 'Pohan']"
      ]
     },
     "execution_count": 155,
     "metadata": {},
     "output_type": "execute_result"
    }
   ],
   "source": [
    "a"
   ]
  },
  {
   "cell_type": "code",
   "execution_count": 156,
   "id": "a32f2547-0b7b-40f5-b87f-83a3bcbd0923",
   "metadata": {},
   "outputs": [
    {
     "data": {
      "text/plain": [
       "'Rohan'"
      ]
     },
     "execution_count": 156,
     "metadata": {},
     "output_type": "execute_result"
    }
   ],
   "source": [
    "a.pop(1)"
   ]
  },
  {
   "cell_type": "code",
   "execution_count": 157,
   "id": "db47a865-c524-46d0-8c14-fd6bed086467",
   "metadata": {},
   "outputs": [
    {
     "data": {
      "text/plain": [
       "['Ankesh', 'Mohan', 'Arunesh', 'Sohan', 'Arunesh', 'Dohan', 'Pohan']"
      ]
     },
     "execution_count": 157,
     "metadata": {},
     "output_type": "execute_result"
    }
   ],
   "source": [
    "a"
   ]
  },
  {
   "cell_type": "code",
   "execution_count": 158,
   "id": "4a79af7b-8a39-49b1-94b2-1c6f2e30c7fd",
   "metadata": {},
   "outputs": [],
   "source": [
    "a.remove('Sohan')"
   ]
  },
  {
   "cell_type": "code",
   "execution_count": 159,
   "id": "59501362-cb4c-4571-bf4b-241c32e03735",
   "metadata": {},
   "outputs": [
    {
     "data": {
      "text/plain": [
       "['Ankesh', 'Mohan', 'Arunesh', 'Arunesh', 'Dohan', 'Pohan']"
      ]
     },
     "execution_count": 159,
     "metadata": {},
     "output_type": "execute_result"
    }
   ],
   "source": [
    "a"
   ]
  },
  {
   "cell_type": "code",
   "execution_count": 160,
   "id": "c5bff570-d6e5-41d4-8c78-13def86691f3",
   "metadata": {},
   "outputs": [],
   "source": [
    "a.reverse()"
   ]
  },
  {
   "cell_type": "code",
   "execution_count": 161,
   "id": "284b4c51-d6dd-429c-8a10-148aecadd82d",
   "metadata": {},
   "outputs": [
    {
     "data": {
      "text/plain": [
       "['Pohan', 'Dohan', 'Arunesh', 'Arunesh', 'Mohan', 'Ankesh']"
      ]
     },
     "execution_count": 161,
     "metadata": {},
     "output_type": "execute_result"
    }
   ],
   "source": [
    "a"
   ]
  },
  {
   "cell_type": "code",
   "execution_count": 162,
   "id": "99e80f69-6ed7-4cca-b776-0de4acd9f330",
   "metadata": {},
   "outputs": [],
   "source": [
    "a.sort()"
   ]
  },
  {
   "cell_type": "code",
   "execution_count": 163,
   "id": "54153d87-6402-4e16-aa63-174f05fdedf2",
   "metadata": {},
   "outputs": [
    {
     "data": {
      "text/plain": [
       "['Ankesh', 'Arunesh', 'Arunesh', 'Dohan', 'Mohan', 'Pohan']"
      ]
     },
     "execution_count": 163,
     "metadata": {},
     "output_type": "execute_result"
    }
   ],
   "source": [
    "a"
   ]
  },
  {
   "cell_type": "code",
   "execution_count": 164,
   "id": "be37d2b2-2ee8-4d7a-9ae4-522b6f6dfe0c",
   "metadata": {},
   "outputs": [],
   "source": [
    "a.sort(reverse = True)"
   ]
  },
  {
   "cell_type": "code",
   "execution_count": 165,
   "id": "ed12ea60-4118-4099-ac3f-d6822cce5dc3",
   "metadata": {},
   "outputs": [
    {
     "data": {
      "text/plain": [
       "['Pohan', 'Mohan', 'Dohan', 'Arunesh', 'Arunesh', 'Ankesh']"
      ]
     },
     "execution_count": 165,
     "metadata": {},
     "output_type": "execute_result"
    }
   ],
   "source": [
    "a"
   ]
  },
  {
   "cell_type": "code",
   "execution_count": null,
   "id": "ad5ac881-ddf6-4dd6-968c-aee3fa20a7a3",
   "metadata": {},
   "outputs": [],
   "source": []
  }
 ],
 "metadata": {
  "kernelspec": {
   "display_name": "Python 3 (ipykernel)",
   "language": "python",
   "name": "python3"
  },
  "language_info": {
   "codemirror_mode": {
    "name": "ipython",
    "version": 3
   },
   "file_extension": ".py",
   "mimetype": "text/x-python",
   "name": "python",
   "nbconvert_exporter": "python",
   "pygments_lexer": "ipython3",
   "version": "3.9.7"
  }
 },
 "nbformat": 4,
 "nbformat_minor": 5
}
