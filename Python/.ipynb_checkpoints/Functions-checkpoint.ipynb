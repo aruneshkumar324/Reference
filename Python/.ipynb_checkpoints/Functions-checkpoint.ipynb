{
 "cells": [
  {
   "cell_type": "markdown",
   "id": "18a5e101-02de-4180-85ec-aef4189fb091",
   "metadata": {},
   "source": [
    "<h1 style='color:green;font-size:100px;'>Functions</h1>"
   ]
  },
  {
   "cell_type": "code",
   "execution_count": 1,
   "id": "d82b2148-bd75-443b-b9a6-c1ff48f7f2dd",
   "metadata": {},
   "outputs": [
    {
     "name": "stdout",
     "output_type": "stream",
     "text": [
      "Arunesh\n"
     ]
    }
   ],
   "source": [
    "def fun(fName):\n",
    "    print(fName)\n",
    "\n",
    "fun('Arunesh')"
   ]
  },
  {
   "cell_type": "markdown",
   "id": "babfad64-cd6a-42f7-8fbe-6fe7ee6a5058",
   "metadata": {},
   "source": [
    "## *args"
   ]
  },
  {
   "cell_type": "code",
   "execution_count": 3,
   "id": "bc2d53ab-6d8c-42e7-9d27-eb3b65a55c95",
   "metadata": {},
   "outputs": [
    {
     "name": "stdout",
     "output_type": "stream",
     "text": [
      "('Arunesh', 22, 'CSE', '1EP16CS016')\n"
     ]
    }
   ],
   "source": [
    "def fun(*args):\n",
    "    print(args)\n",
    "\n",
    "fun('Arunesh', 22, 'CSE', '1EP16CS016')"
   ]
  },
  {
   "cell_type": "code",
   "execution_count": 4,
   "id": "19982335-9dba-4523-a16e-a222462c9c18",
   "metadata": {},
   "outputs": [
    {
     "name": "stdout",
     "output_type": "stream",
     "text": [
      "Arunesh\n"
     ]
    }
   ],
   "source": [
    "def fun(*args):\n",
    "    print(args[0])\n",
    "\n",
    "fun('Arunesh', 22, 'CSE')"
   ]
  },
  {
   "cell_type": "code",
   "execution_count": 5,
   "id": "b6cd31d4-e80e-4206-bae9-c18ce76f1ca6",
   "metadata": {},
   "outputs": [
    {
     "name": "stdout",
     "output_type": "stream",
     "text": [
      "Arunesh\n",
      "22\n",
      "CSE\n"
     ]
    }
   ],
   "source": [
    "def fun(*args):\n",
    "    for x in args:\n",
    "        print(x)\n",
    "\n",
    "fun('Arunesh', 22, 'CSE')"
   ]
  },
  {
   "cell_type": "markdown",
   "id": "bb6b0a5b-bb81-4328-bc37-86c360ce17c2",
   "metadata": {},
   "source": [
    "## kwargs ( Keyword Arguments )"
   ]
  },
  {
   "cell_type": "code",
   "execution_count": 6,
   "id": "45e5ba0d-0691-4009-ab64-94c88c53d866",
   "metadata": {},
   "outputs": [
    {
     "name": "stdout",
     "output_type": "stream",
     "text": [
      "Hello Arunesh, your age is 22 and you are Developer\n"
     ]
    }
   ],
   "source": [
    "def fun(name, age, profession):\n",
    "    print(f'Hello {name}, your age is {age} and you are {profession}')\n",
    "\n",
    "# fun(22, 'Arunesh', 'Developer')\n",
    "\n",
    "fun(age=22, name='Arunesh', profession='Developer')"
   ]
  },
  {
   "cell_type": "markdown",
   "id": "c65b8b71-f54d-43fc-a6bd-a5f1c9592311",
   "metadata": {},
   "source": [
    "## **kwargs ( Arbitrary Keyword Arguments, **kwargs )"
   ]
  },
  {
   "cell_type": "code",
   "execution_count": 7,
   "id": "e1b08b83-5458-4197-9d71-e5edf65f93c9",
   "metadata": {},
   "outputs": [
    {
     "name": "stdout",
     "output_type": "stream",
     "text": [
      "{'name': 'Arunesh', 'profession': 'Developer', 'age': 22}\n"
     ]
    }
   ],
   "source": [
    "def fun(**kwargs):\n",
    "    print(kwargs)\n",
    "\n",
    "fun(name='Arunesh', profession='Developer', age=22)"
   ]
  },
  {
   "cell_type": "code",
   "execution_count": 8,
   "id": "3f610be4-919d-44ee-8955-248b0fb41b8a",
   "metadata": {},
   "outputs": [
    {
     "name": "stdout",
     "output_type": "stream",
     "text": [
      "Hello Arunesh, your age is 22 and you are Developer\n"
     ]
    }
   ],
   "source": [
    "def fun(**kwargs):\n",
    "    # print(f'Hello {kwargs['name']}, your age is {kwargs['age']} and you are {kwargs['profession']}')\n",
    "    name = kwargs['name']\n",
    "    age = kwargs['age']\n",
    "    profession = kwargs['profession']\n",
    "    print(f'Hello {name}, your age is {age} and you are {profession}')\n",
    "\n",
    "fun(name='Arunesh', profession='Developer', age=22)"
   ]
  },
  {
   "cell_type": "markdown",
   "id": "ab72f723-f135-471a-a8de-8fce289b8021",
   "metadata": {},
   "source": [
    "## Default Parameter Value"
   ]
  },
  {
   "cell_type": "code",
   "execution_count": 9,
   "id": "2459478f-c374-4ef0-84a1-bb090fd1ba59",
   "metadata": {},
   "outputs": [
    {
     "name": "stdout",
     "output_type": "stream",
     "text": [
      "Arunesh\n"
     ]
    }
   ],
   "source": [
    "def fun(name='Arunesh'):\n",
    "    print(name)\n",
    "\n",
    "fun()"
   ]
  },
  {
   "cell_type": "code",
   "execution_count": 10,
   "id": "fe83734f-d4f7-409a-97c4-0348abaf17fd",
   "metadata": {},
   "outputs": [
    {
     "name": "stdout",
     "output_type": "stream",
     "text": [
      "Mohan\n"
     ]
    }
   ],
   "source": [
    "fun('Mohan')"
   ]
  },
  {
   "cell_type": "markdown",
   "id": "3af6e977-a577-450f-9671-9bdd8045d270",
   "metadata": {},
   "source": [
    "## Passing a any data type as an Argument"
   ]
  },
  {
   "cell_type": "code",
   "execution_count": 11,
   "id": "92a8b4db-47e1-4efc-b5d3-d12f2de383e0",
   "metadata": {},
   "outputs": [
    {
     "name": "stdout",
     "output_type": "stream",
     "text": [
      "[1, 2, 3, 4, 5]\n",
      "1\n",
      "2\n",
      "3\n",
      "4\n",
      "5\n"
     ]
    }
   ],
   "source": [
    "# list\n",
    "\n",
    "def fun(args):\n",
    "    print(args)\n",
    "    for x in args:\n",
    "        print(x)\n",
    "        \n",
    "fun([1, 2, 3, 4, 5])"
   ]
  },
  {
   "cell_type": "code",
   "execution_count": 12,
   "id": "70a6af68-717d-4b69-8f0b-a56cadbcb548",
   "metadata": {},
   "outputs": [
    {
     "name": "stdout",
     "output_type": "stream",
     "text": [
      "{'A': 1, 'B': 2}\n",
      "A  =  1\n",
      "B  =  2\n"
     ]
    }
   ],
   "source": [
    "# dict\n",
    "\n",
    "def fun(args):\n",
    "    print(args)\n",
    "    for (x,y) in args.items():\n",
    "        print(x , \" = \" , y)\n",
    "        \n",
    "fun({'A': 1, \"B\": 2})"
   ]
  },
  {
   "cell_type": "markdown",
   "id": "2fa1c416-f50c-4cbf-828e-e9d3fe125780",
   "metadata": {},
   "source": [
    "<h1 style=\"color:green; font-size:100px;\">Recursion</h1>"
   ]
  },
  {
   "cell_type": "markdown",
   "id": "f878a3fe-2b30-4103-b6e8-4b64318dfa4f",
   "metadata": {},
   "source": [
    "## Recursion ( i need read again ) https://www.w3schools.com/python/python_functions.asp"
   ]
  },
  {
   "cell_type": "code",
   "execution_count": 10,
   "id": "eaa30852-2b70-423b-bdff-772ac4939586",
   "metadata": {},
   "outputs": [
    {
     "name": "stdout",
     "output_type": "stream",
     "text": [
      "ok\n",
      "20\n",
      "21\n",
      "22\n",
      "23\n",
      "24\n"
     ]
    }
   ],
   "source": [
    "def first(age):\n",
    "    if age > 20:\n",
    "        first(age -1)\n",
    "        result = age - 1\n",
    "        print(result)\n",
    "    else:\n",
    "        print('ok')\n",
    "\n",
    "first(25)"
   ]
  },
  {
   "cell_type": "markdown",
   "id": "3dbd6165-bd3a-40be-9dd3-651417f76aef",
   "metadata": {},
   "source": [
    "<h1 style='color:green;font-size:80px;'>Lambda Functions</h1>"
   ]
  },
  {
   "cell_type": "code",
   "execution_count": 14,
   "id": "7965b427-98d8-4442-9c26-6228d66d522c",
   "metadata": {},
   "outputs": [
    {
     "data": {
      "text/plain": [
       "11"
      ]
     },
     "execution_count": 14,
     "metadata": {},
     "output_type": "execute_result"
    }
   ],
   "source": [
    "x = lambda a : 1 + 10\n",
    "\n",
    "x(5)"
   ]
  },
  {
   "cell_type": "markdown",
   "id": "66466353-eef5-40d9-90d9-5d91e55e3b53",
   "metadata": {},
   "source": [
    "# READ AGAIN https://www.w3schools.com/python/python_lambda.asp"
   ]
  },
  {
   "cell_type": "code",
   "execution_count": null,
   "id": "313d2ef5-c845-48ea-9a8f-6f11a6001622",
   "metadata": {},
   "outputs": [],
   "source": []
  }
 ],
 "metadata": {
  "kernelspec": {
   "display_name": "Python 3 (ipykernel)",
   "language": "python",
   "name": "python3"
  },
  "language_info": {
   "codemirror_mode": {
    "name": "ipython",
    "version": 3
   },
   "file_extension": ".py",
   "mimetype": "text/x-python",
   "name": "python",
   "nbconvert_exporter": "python",
   "pygments_lexer": "ipython3",
   "version": "3.9.7"
  }
 },
 "nbformat": 4,
 "nbformat_minor": 5
}
