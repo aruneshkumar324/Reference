{
 "cells": [
  {
   "cell_type": "code",
   "execution_count": 1,
   "id": "bf1be281-d1ab-4882-a263-80f34efb00f7",
   "metadata": {},
   "outputs": [],
   "source": [
    "a = (1, 2, 3, 4, 5)"
   ]
  },
  {
   "cell_type": "code",
   "execution_count": 2,
   "id": "b558ee7e-5646-497e-80cd-0a00cc6dc8fa",
   "metadata": {},
   "outputs": [
    {
     "data": {
      "text/plain": [
       "(1, 2, 3, 4, 5)"
      ]
     },
     "execution_count": 2,
     "metadata": {},
     "output_type": "execute_result"
    }
   ],
   "source": [
    "a"
   ]
  },
  {
   "cell_type": "code",
   "execution_count": 3,
   "id": "c4602f90-30a7-4c1d-9e17-2420a84476d5",
   "metadata": {},
   "outputs": [
    {
     "data": {
      "text/plain": [
       "5"
      ]
     },
     "execution_count": 3,
     "metadata": {},
     "output_type": "execute_result"
    }
   ],
   "source": [
    "len(a)"
   ]
  },
  {
   "cell_type": "code",
   "execution_count": 4,
   "id": "b1fc3140-59ff-4b4b-8d49-03c04614d6cb",
   "metadata": {},
   "outputs": [],
   "source": [
    "a = ('a', 'b', 'c', 'd', 'e', 'b')"
   ]
  },
  {
   "cell_type": "code",
   "execution_count": 5,
   "id": "d9e66a89-5abc-4b08-8aac-1cda1508869e",
   "metadata": {},
   "outputs": [
    {
     "data": {
      "text/plain": [
       "('a', 'b', 'c', 'd', 'e', 'b')"
      ]
     },
     "execution_count": 5,
     "metadata": {},
     "output_type": "execute_result"
    }
   ],
   "source": [
    "a"
   ]
  },
  {
   "cell_type": "code",
   "execution_count": 6,
   "id": "ba60c279-4379-4cb3-b642-dbf1057f4d14",
   "metadata": {},
   "outputs": [
    {
     "data": {
      "text/plain": [
       "'a'"
      ]
     },
     "execution_count": 6,
     "metadata": {},
     "output_type": "execute_result"
    }
   ],
   "source": [
    "a[0]"
   ]
  },
  {
   "cell_type": "code",
   "execution_count": 7,
   "id": "c33e399a-7f14-4642-91c5-a7d567192c71",
   "metadata": {},
   "outputs": [],
   "source": [
    "a = ('Arunesh')"
   ]
  },
  {
   "cell_type": "code",
   "execution_count": 9,
   "id": "20e999a3-087b-45fa-b344-5b59b5366a22",
   "metadata": {},
   "outputs": [
    {
     "data": {
      "text/plain": [
       "str"
      ]
     },
     "execution_count": 9,
     "metadata": {},
     "output_type": "execute_result"
    }
   ],
   "source": [
    "type(a)"
   ]
  },
  {
   "cell_type": "code",
   "execution_count": 10,
   "id": "bdf41d62-e674-48be-bb20-7e198cc35578",
   "metadata": {},
   "outputs": [],
   "source": [
    "a = ('Arunesh',)"
   ]
  },
  {
   "cell_type": "code",
   "execution_count": 11,
   "id": "61a54023-d5ec-4ed0-bb8c-b08a5d836001",
   "metadata": {},
   "outputs": [
    {
     "data": {
      "text/plain": [
       "tuple"
      ]
     },
     "execution_count": 11,
     "metadata": {},
     "output_type": "execute_result"
    }
   ],
   "source": [
    "type(a)"
   ]
  },
  {
   "cell_type": "code",
   "execution_count": 12,
   "id": "9c0cc84c-84c3-4385-aeda-765ab3e3f46a",
   "metadata": {},
   "outputs": [],
   "source": [
    "a = ('A', 1, True, 1.1)"
   ]
  },
  {
   "cell_type": "code",
   "execution_count": 13,
   "id": "8e5e05ab-71eb-45a7-a4f1-acf6b59f4dcd",
   "metadata": {},
   "outputs": [
    {
     "data": {
      "text/plain": [
       "('A', 1, True, 1.1)"
      ]
     },
     "execution_count": 13,
     "metadata": {},
     "output_type": "execute_result"
    }
   ],
   "source": [
    "a"
   ]
  },
  {
   "cell_type": "code",
   "execution_count": 14,
   "id": "3eae59ff-06e5-4b2b-9415-0ff59f4aef24",
   "metadata": {},
   "outputs": [
    {
     "data": {
      "text/plain": [
       "tuple"
      ]
     },
     "execution_count": 14,
     "metadata": {},
     "output_type": "execute_result"
    }
   ],
   "source": [
    "type(a)"
   ]
  },
  {
   "cell_type": "code",
   "execution_count": 15,
   "id": "4a2c780c-c8bb-4c20-8dec-fe529d0569c4",
   "metadata": {},
   "outputs": [
    {
     "data": {
      "text/plain": [
       "4"
      ]
     },
     "execution_count": 15,
     "metadata": {},
     "output_type": "execute_result"
    }
   ],
   "source": [
    "len(a)"
   ]
  },
  {
   "cell_type": "code",
   "execution_count": 16,
   "id": "46fa7bfc-ccc8-49a0-b69b-847bb6fe53ed",
   "metadata": {},
   "outputs": [],
   "source": [
    "name = 'Arunesh'"
   ]
  },
  {
   "cell_type": "code",
   "execution_count": 17,
   "id": "89acff13-1549-4133-b523-1dc3dcbb925b",
   "metadata": {},
   "outputs": [],
   "source": [
    "a = tuple(name)"
   ]
  },
  {
   "cell_type": "code",
   "execution_count": 18,
   "id": "ca667d33-de96-471d-95e7-1579937521a8",
   "metadata": {},
   "outputs": [
    {
     "data": {
      "text/plain": [
       "('A', 'r', 'u', 'n', 'e', 's', 'h')"
      ]
     },
     "execution_count": 18,
     "metadata": {},
     "output_type": "execute_result"
    }
   ],
   "source": [
    "a"
   ]
  },
  {
   "cell_type": "code",
   "execution_count": 19,
   "id": "0cf50de4-fc47-4a8c-8277-5e1592630423",
   "metadata": {},
   "outputs": [
    {
     "data": {
      "text/plain": [
       "tuple"
      ]
     },
     "execution_count": 19,
     "metadata": {},
     "output_type": "execute_result"
    }
   ],
   "source": [
    "type(a)"
   ]
  },
  {
   "cell_type": "code",
   "execution_count": 20,
   "id": "b2ba7a55-70cf-4548-90dd-f4dcd420ddcf",
   "metadata": {},
   "outputs": [
    {
     "data": {
      "text/plain": [
       "7"
      ]
     },
     "execution_count": 20,
     "metadata": {},
     "output_type": "execute_result"
    }
   ],
   "source": [
    "len(a)"
   ]
  },
  {
   "cell_type": "markdown",
   "id": "a778a46e-9855-4632-a9c3-31c888cfbfab",
   "metadata": {},
   "source": [
    "# Access Tuple Items"
   ]
  },
  {
   "cell_type": "code",
   "execution_count": 21,
   "id": "1a4d7981-308b-45a7-ad3e-136b8241a9f0",
   "metadata": {},
   "outputs": [],
   "source": [
    "a = ('a', 'b', 'c', 'd', 'e', 'b')"
   ]
  },
  {
   "cell_type": "code",
   "execution_count": 22,
   "id": "d839b070-ed19-4ac3-8eea-4a016114321b",
   "metadata": {},
   "outputs": [
    {
     "data": {
      "text/plain": [
       "'b'"
      ]
     },
     "execution_count": 22,
     "metadata": {},
     "output_type": "execute_result"
    }
   ],
   "source": [
    "a[1]"
   ]
  },
  {
   "cell_type": "code",
   "execution_count": 24,
   "id": "c567cc25-8c23-4a63-b244-5e0091f9c7f6",
   "metadata": {},
   "outputs": [
    {
     "data": {
      "text/plain": [
       "'e'"
      ]
     },
     "execution_count": 24,
     "metadata": {},
     "output_type": "execute_result"
    }
   ],
   "source": [
    "a[-2]"
   ]
  },
  {
   "cell_type": "code",
   "execution_count": 25,
   "id": "9c471f0a-38bc-48f8-84e6-c0a70b5cc8f7",
   "metadata": {},
   "outputs": [
    {
     "data": {
      "text/plain": [
       "('c', 'd', 'e')"
      ]
     },
     "execution_count": 25,
     "metadata": {},
     "output_type": "execute_result"
    }
   ],
   "source": [
    "a[2:5]"
   ]
  },
  {
   "cell_type": "code",
   "execution_count": 26,
   "id": "8a72c50c-414f-4a46-bbd7-2b527cf32076",
   "metadata": {},
   "outputs": [
    {
     "data": {
      "text/plain": [
       "('c', 'd', 'e', 'b')"
      ]
     },
     "execution_count": 26,
     "metadata": {},
     "output_type": "execute_result"
    }
   ],
   "source": [
    "a[2:]"
   ]
  },
  {
   "cell_type": "code",
   "execution_count": 27,
   "id": "f950f902-4b83-42be-889a-6eaea08039f0",
   "metadata": {},
   "outputs": [
    {
     "data": {
      "text/plain": [
       "('a', 'b', 'c')"
      ]
     },
     "execution_count": 27,
     "metadata": {},
     "output_type": "execute_result"
    }
   ],
   "source": [
    "a[:3]"
   ]
  },
  {
   "cell_type": "code",
   "execution_count": 28,
   "id": "ee4665de-3649-40fa-a86c-cee7ea7935f0",
   "metadata": {},
   "outputs": [
    {
     "data": {
      "text/plain": [
       "('c', 'd', 'e')"
      ]
     },
     "execution_count": 28,
     "metadata": {},
     "output_type": "execute_result"
    }
   ],
   "source": [
    "a[-4:-1]"
   ]
  },
  {
   "cell_type": "code",
   "execution_count": 29,
   "id": "7cff214a-fb88-43d6-844b-adfbb625535b",
   "metadata": {},
   "outputs": [
    {
     "name": "stdout",
     "output_type": "stream",
     "text": [
      "True\n"
     ]
    }
   ],
   "source": [
    "if 'a' in a:\n",
    "    print(True)"
   ]
  },
  {
   "cell_type": "code",
   "execution_count": 31,
   "id": "efaeec95-4ed5-46d7-81de-836fcbefbcb1",
   "metadata": {},
   "outputs": [
    {
     "name": "stdout",
     "output_type": "stream",
     "text": [
      "False\n"
     ]
    }
   ],
   "source": [
    "if 'f' in a:\n",
    "    print(True)\n",
    "else:\n",
    "    print(False)"
   ]
  },
  {
   "cell_type": "markdown",
   "id": "9e1189b2-5928-4883-8782-e9637d754f84",
   "metadata": {},
   "source": [
    "# Update Tuples"
   ]
  },
  {
   "cell_type": "code",
   "execution_count": 32,
   "id": "a271e993-59bf-472e-bf92-1c8dc6223b8d",
   "metadata": {},
   "outputs": [],
   "source": [
    "a = ('a', 'b', 'c', 'd', 'e', 'b')"
   ]
  },
  {
   "cell_type": "code",
   "execution_count": 34,
   "id": "7cb5d2f7-eac9-4b41-a761-912231e355ff",
   "metadata": {},
   "outputs": [],
   "source": [
    "b = list(a)\n",
    "\n",
    "b[1] = \"Arunesh\"\n",
    "\n",
    "a = tuple(b)"
   ]
  },
  {
   "cell_type": "code",
   "execution_count": 35,
   "id": "fe67877c-544c-4f94-8e0d-da57497b6876",
   "metadata": {},
   "outputs": [
    {
     "data": {
      "text/plain": [
       "('a', 'Arunesh', 'c', 'd', 'e', 'b')"
      ]
     },
     "execution_count": 35,
     "metadata": {},
     "output_type": "execute_result"
    }
   ],
   "source": [
    "a"
   ]
  },
  {
   "cell_type": "markdown",
   "id": "4e56f0c4-cb2e-49d0-87ea-b99a9cc217b9",
   "metadata": {},
   "source": [
    "# Add Items"
   ]
  },
  {
   "cell_type": "code",
   "execution_count": 38,
   "id": "f76a1f33-7e52-4bbb-ad32-5bf74134df53",
   "metadata": {},
   "outputs": [],
   "source": [
    "a = ('a', 'b', 'c', 'd', 'e', 'b')"
   ]
  },
  {
   "cell_type": "code",
   "execution_count": 39,
   "id": "4fc85be9-809f-4f8e-9c44-1a7e04720092",
   "metadata": {},
   "outputs": [
    {
     "data": {
      "text/plain": [
       "('a', 'b', 'c', 'd', 'e', 'b', 'New Item')"
      ]
     },
     "execution_count": 39,
     "metadata": {},
     "output_type": "execute_result"
    }
   ],
   "source": [
    "# 1 - method\n",
    "\n",
    "b = list(a)\n",
    "\n",
    "b.append('New Item')\n",
    "\n",
    "a = tuple(b)\n",
    "\n",
    "a"
   ]
  },
  {
   "cell_type": "code",
   "execution_count": 40,
   "id": "ae5a9304-d15e-47ca-b736-0179436308d6",
   "metadata": {},
   "outputs": [],
   "source": [
    "a = ('a', 'b', 'c', 'd', 'e', 'b')"
   ]
  },
  {
   "cell_type": "code",
   "execution_count": 41,
   "id": "b7f98d8f-e745-4d72-b326-13f31affc494",
   "metadata": {},
   "outputs": [
    {
     "data": {
      "text/plain": [
       "('a', 'b', 'c', 'd', 'e', 'b', 'New Item')"
      ]
     },
     "execution_count": 41,
     "metadata": {},
     "output_type": "execute_result"
    }
   ],
   "source": [
    "# 2 - method\n",
    "\n",
    "b = ('New Item',)\n",
    "\n",
    "a = a + b\n",
    "\n",
    "a"
   ]
  },
  {
   "cell_type": "markdown",
   "id": "89e669b5-57e3-4305-8c4a-462d049b134c",
   "metadata": {},
   "source": [
    "# Remove Item"
   ]
  },
  {
   "cell_type": "code",
   "execution_count": 42,
   "id": "94589d71-35fb-4145-b30e-ee9f909a9f31",
   "metadata": {},
   "outputs": [
    {
     "data": {
      "text/plain": [
       "('a', 'b', 'c', 'd', 'e', 'b')"
      ]
     },
     "execution_count": 42,
     "metadata": {},
     "output_type": "execute_result"
    }
   ],
   "source": [
    "b = list(a)\n",
    "\n",
    "b.remove('New Item')\n",
    "\n",
    "a = tuple(b)\n",
    "\n",
    "a"
   ]
  },
  {
   "cell_type": "code",
   "execution_count": 43,
   "id": "375248fc-52ce-4ca7-819a-c46e730956b3",
   "metadata": {},
   "outputs": [],
   "source": [
    "del a"
   ]
  },
  {
   "cell_type": "code",
   "execution_count": 44,
   "id": "0e6acdca-b95d-425b-a91d-092c056babc5",
   "metadata": {},
   "outputs": [
    {
     "ename": "NameError",
     "evalue": "name 'a' is not defined",
     "output_type": "error",
     "traceback": [
      "\u001b[1;31m---------------------------------------------------------------------------\u001b[0m",
      "\u001b[1;31mNameError\u001b[0m                                 Traceback (most recent call last)",
      "\u001b[1;32m~\\AppData\\Local\\Temp/ipykernel_4000/2167009006.py\u001b[0m in \u001b[0;36m<module>\u001b[1;34m\u001b[0m\n\u001b[1;32m----> 1\u001b[1;33m \u001b[0ma\u001b[0m\u001b[1;33m\u001b[0m\u001b[1;33m\u001b[0m\u001b[0m\n\u001b[0m",
      "\u001b[1;31mNameError\u001b[0m: name 'a' is not defined"
     ]
    }
   ],
   "source": [
    "a"
   ]
  },
  {
   "cell_type": "markdown",
   "id": "0a9a39f4-346e-4538-8027-7a0b7d2c1176",
   "metadata": {},
   "source": [
    "# Unpack Tuples"
   ]
  },
  {
   "cell_type": "code",
   "execution_count": 45,
   "id": "590ce2f1-f902-4c87-b08b-0d32995f2563",
   "metadata": {},
   "outputs": [],
   "source": [
    "# packing tuple\n",
    "\n",
    "a = ('Rohan', 'Mohan', 'Sohan', 'Dohan', 'Pohan')"
   ]
  },
  {
   "cell_type": "code",
   "execution_count": 47,
   "id": "a2419537-6b3c-4df5-a2e5-d957b2433003",
   "metadata": {},
   "outputs": [
    {
     "name": "stdout",
     "output_type": "stream",
     "text": [
      "Rohan\n",
      "Mohan\n",
      "Sohan\n",
      "Dohan\n",
      "Pohan\n"
     ]
    }
   ],
   "source": [
    "# unpacking tuple\n",
    "\n",
    "(aa, bb, cc, dd, ee) = a\n",
    "\n",
    "print(aa)\n",
    "print(bb)\n",
    "print(cc)\n",
    "print(dd)\n",
    "print(ee)"
   ]
  },
  {
   "cell_type": "code",
   "execution_count": 48,
   "id": "81ba6ab9-bff6-4f2b-8625-953801e4a09c",
   "metadata": {},
   "outputs": [
    {
     "name": "stdout",
     "output_type": "stream",
     "text": [
      "Rohan\n",
      "Mohan\n",
      "['Sohan', 'Dohan', 'Pohan']\n"
     ]
    }
   ],
   "source": [
    "# Asterisk\n",
    "\n",
    "(aa, bb, *red) = a\n",
    "\n",
    "print(aa)\n",
    "print(bb)\n",
    "print(red)"
   ]
  },
  {
   "cell_type": "code",
   "execution_count": null,
   "id": "76c763f2-c2fc-4cb1-b7a8-704239b1bfff",
   "metadata": {},
   "outputs": [],
   "source": []
  }
 ],
 "metadata": {
  "kernelspec": {
   "display_name": "Python 3 (ipykernel)",
   "language": "python",
   "name": "python3"
  },
  "language_info": {
   "codemirror_mode": {
    "name": "ipython",
    "version": 3
   },
   "file_extension": ".py",
   "mimetype": "text/x-python",
   "name": "python",
   "nbconvert_exporter": "python",
   "pygments_lexer": "ipython3",
   "version": "3.9.7"
  }
 },
 "nbformat": 4,
 "nbformat_minor": 5
}
