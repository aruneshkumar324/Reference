{
 "cells": [
  {
   "cell_type": "code",
   "execution_count": 1,
   "id": "7af86176-672b-47ec-8ea0-3003e87b8b68",
   "metadata": {},
   "outputs": [],
   "source": [
    "x = {'A', 1, True, 1.1}"
   ]
  },
  {
   "cell_type": "code",
   "execution_count": 2,
   "id": "2cf073d4-c7aa-4492-af35-67de6eef8c54",
   "metadata": {},
   "outputs": [
    {
     "data": {
      "text/plain": [
       "{1, 1.1, 'A'}"
      ]
     },
     "execution_count": 2,
     "metadata": {},
     "output_type": "execute_result"
    }
   ],
   "source": [
    "x"
   ]
  },
  {
   "cell_type": "code",
   "execution_count": 3,
   "id": "2aaa6100-7649-4e4e-8e80-71356070d5b3",
   "metadata": {},
   "outputs": [],
   "source": [
    "x = {'a', 'b', 'c', 'b'}"
   ]
  },
  {
   "cell_type": "code",
   "execution_count": 4,
   "id": "f919a550-687e-46b5-80e9-d4f7d1d82945",
   "metadata": {},
   "outputs": [
    {
     "data": {
      "text/plain": [
       "{'a', 'b', 'c'}"
      ]
     },
     "execution_count": 4,
     "metadata": {},
     "output_type": "execute_result"
    }
   ],
   "source": [
    "x"
   ]
  },
  {
   "cell_type": "code",
   "execution_count": 5,
   "id": "25e11f98-fa89-4b02-a72e-41b9934c37fa",
   "metadata": {},
   "outputs": [
    {
     "data": {
      "text/plain": [
       "3"
      ]
     },
     "execution_count": 5,
     "metadata": {},
     "output_type": "execute_result"
    }
   ],
   "source": [
    "len(x)"
   ]
  },
  {
   "cell_type": "code",
   "execution_count": 6,
   "id": "c12bfebd-3ee3-406d-a630-0b484e84b974",
   "metadata": {},
   "outputs": [
    {
     "data": {
      "text/plain": [
       "set"
      ]
     },
     "execution_count": 6,
     "metadata": {},
     "output_type": "execute_result"
    }
   ],
   "source": [
    "type(x)"
   ]
  },
  {
   "cell_type": "code",
   "execution_count": 7,
   "id": "af188606-a3d4-468b-ba32-fd539d235833",
   "metadata": {},
   "outputs": [],
   "source": [
    "x = set(('Arunesh', 'Ankesh'))"
   ]
  },
  {
   "cell_type": "code",
   "execution_count": 8,
   "id": "4d65b3e0-89ca-4a8a-a535-cb31543431bf",
   "metadata": {},
   "outputs": [
    {
     "data": {
      "text/plain": [
       "{'Ankesh', 'Arunesh'}"
      ]
     },
     "execution_count": 8,
     "metadata": {},
     "output_type": "execute_result"
    }
   ],
   "source": [
    "x"
   ]
  },
  {
   "cell_type": "markdown",
   "id": "f1b8d8d7-71ea-413c-8150-e992972935c3",
   "metadata": {},
   "source": [
    "# Access Set Items"
   ]
  },
  {
   "cell_type": "code",
   "execution_count": 9,
   "id": "1f3f1ae6-172e-4fdd-8316-719e48e7f4a1",
   "metadata": {},
   "outputs": [],
   "source": [
    "x = {'a', 'b', 'c', 'b'}"
   ]
  },
  {
   "cell_type": "code",
   "execution_count": 11,
   "id": "b3b56f9b-65b3-42ae-aa4f-c97b8c429d3b",
   "metadata": {},
   "outputs": [
    {
     "name": "stdout",
     "output_type": "stream",
     "text": [
      "a\n",
      "c\n",
      "b\n"
     ]
    }
   ],
   "source": [
    "for i in x:\n",
    "    print(i)"
   ]
  },
  {
   "cell_type": "code",
   "execution_count": 12,
   "id": "d6714f62-4583-4b83-964c-5df65181de31",
   "metadata": {},
   "outputs": [
    {
     "name": "stdout",
     "output_type": "stream",
     "text": [
      "True\n"
     ]
    }
   ],
   "source": [
    "print('a' in x)"
   ]
  },
  {
   "cell_type": "markdown",
   "id": "65d09026-f937-495a-969f-ea268f9ce2ba",
   "metadata": {},
   "source": [
    "# Add Set Items"
   ]
  },
  {
   "cell_type": "code",
   "execution_count": 13,
   "id": "b6330fd9-b34b-49c7-be8e-b0d0d3f1a20d",
   "metadata": {},
   "outputs": [],
   "source": [
    "x = {'a', 'b', 'c', 'b'}"
   ]
  },
  {
   "cell_type": "code",
   "execution_count": 14,
   "id": "ea677e87-db92-4df9-8d44-a5277e66d329",
   "metadata": {},
   "outputs": [
    {
     "data": {
      "text/plain": [
       "{'Arunesh', 'a', 'b', 'c'}"
      ]
     },
     "execution_count": 14,
     "metadata": {},
     "output_type": "execute_result"
    }
   ],
   "source": [
    "x.add('Arunesh')\n",
    "\n",
    "x"
   ]
  },
  {
   "cell_type": "code",
   "execution_count": 15,
   "id": "2e9df398-07d2-43ad-b245-e42796f662d5",
   "metadata": {},
   "outputs": [
    {
     "data": {
      "text/plain": [
       "{'Arunesh', 'Cohan', 'a', 'b', 'c'}"
      ]
     },
     "execution_count": 15,
     "metadata": {},
     "output_type": "execute_result"
    }
   ],
   "source": [
    "x.add('Cohan')\n",
    "\n",
    "x"
   ]
  },
  {
   "cell_type": "code",
   "execution_count": 19,
   "id": "8fc2ac5f-1ffb-49a8-a69a-0722e1e6dd5b",
   "metadata": {},
   "outputs": [],
   "source": [
    "x = {'a', 'b', 'c', 'd'}\n",
    "\n",
    "y = {'aa', 'bb', 'cc', 'dd'}"
   ]
  },
  {
   "cell_type": "code",
   "execution_count": 20,
   "id": "8def7e82-1e32-4850-8301-bc45b52cbd0f",
   "metadata": {},
   "outputs": [],
   "source": [
    "x.update(y)"
   ]
  },
  {
   "cell_type": "code",
   "execution_count": 21,
   "id": "702f1b3c-5925-49b6-918c-39916da1e39c",
   "metadata": {},
   "outputs": [
    {
     "data": {
      "text/plain": [
       "{'a', 'aa', 'b', 'bb', 'c', 'cc', 'd', 'dd'}"
      ]
     },
     "execution_count": 21,
     "metadata": {},
     "output_type": "execute_result"
    }
   ],
   "source": [
    "x"
   ]
  },
  {
   "cell_type": "code",
   "execution_count": 22,
   "id": "aeffe2ca-dffb-4fb7-a0b9-8efdd167425e",
   "metadata": {},
   "outputs": [],
   "source": [
    "x = {'a', 'b', 'c', 'd'}\n",
    "\n",
    "y = ['aa', 'bb', 'cc', 'dd']"
   ]
  },
  {
   "cell_type": "code",
   "execution_count": 23,
   "id": "4657700f-3d53-4d06-b1e1-ddcc15f17626",
   "metadata": {},
   "outputs": [],
   "source": [
    "x.update(y)"
   ]
  },
  {
   "cell_type": "code",
   "execution_count": 24,
   "id": "a8f0cf7a-1434-4886-93d3-937b77db6b51",
   "metadata": {},
   "outputs": [
    {
     "data": {
      "text/plain": [
       "{'a', 'aa', 'b', 'bb', 'c', 'cc', 'd', 'dd'}"
      ]
     },
     "execution_count": 24,
     "metadata": {},
     "output_type": "execute_result"
    }
   ],
   "source": [
    "x"
   ]
  },
  {
   "cell_type": "markdown",
   "id": "9cc67807-45e4-45b5-8b76-759eb2d02f06",
   "metadata": {},
   "source": [
    "# Remove Set Items"
   ]
  },
  {
   "cell_type": "code",
   "execution_count": 25,
   "id": "050cb9bb-5334-4be1-9ca1-c9b9df8ac129",
   "metadata": {},
   "outputs": [],
   "source": [
    "x = {'a', 'b', 'c', 'd'}"
   ]
  },
  {
   "cell_type": "code",
   "execution_count": 26,
   "id": "8f2488ee-395b-40ec-8c55-5264e52b9c55",
   "metadata": {},
   "outputs": [],
   "source": [
    "x.remove('b')"
   ]
  },
  {
   "cell_type": "code",
   "execution_count": 27,
   "id": "51031db9-cd74-4558-9436-168de1ba76fa",
   "metadata": {},
   "outputs": [
    {
     "data": {
      "text/plain": [
       "{'a', 'c', 'd'}"
      ]
     },
     "execution_count": 27,
     "metadata": {},
     "output_type": "execute_result"
    }
   ],
   "source": [
    "x"
   ]
  },
  {
   "cell_type": "code",
   "execution_count": 33,
   "id": "b1e993ae-8302-4eab-a587-a6befb886cab",
   "metadata": {},
   "outputs": [
    {
     "ename": "KeyError",
     "evalue": "'b'",
     "output_type": "error",
     "traceback": [
      "\u001b[1;31m---------------------------------------------------------------------------\u001b[0m",
      "\u001b[1;31mKeyError\u001b[0m                                  Traceback (most recent call last)",
      "\u001b[1;32m~\\AppData\\Local\\Temp/ipykernel_16268/2797224700.py\u001b[0m in \u001b[0;36m<module>\u001b[1;34m\u001b[0m\n\u001b[0;32m      1\u001b[0m \u001b[1;31m# if item not there then produce error\u001b[0m\u001b[1;33m\u001b[0m\u001b[1;33m\u001b[0m\u001b[0m\n\u001b[1;32m----> 2\u001b[1;33m \u001b[0mx\u001b[0m\u001b[1;33m.\u001b[0m\u001b[0mremove\u001b[0m\u001b[1;33m(\u001b[0m\u001b[1;34m'b'\u001b[0m\u001b[1;33m)\u001b[0m\u001b[1;33m\u001b[0m\u001b[1;33m\u001b[0m\u001b[0m\n\u001b[0m",
      "\u001b[1;31mKeyError\u001b[0m: 'b'"
     ]
    }
   ],
   "source": [
    "# if item not there then produce error\n",
    "x.remove('b')"
   ]
  },
  {
   "cell_type": "code",
   "execution_count": 34,
   "id": "ff19620a-1a98-4f2e-84a8-3b3cd7ed03da",
   "metadata": {},
   "outputs": [],
   "source": [
    "x = {'a', 'b', 'c', 'd'}"
   ]
  },
  {
   "cell_type": "code",
   "execution_count": 35,
   "id": "411333a7-6ea6-40b2-ae76-e936a06b742a",
   "metadata": {},
   "outputs": [],
   "source": [
    "x.discard('b')"
   ]
  },
  {
   "cell_type": "code",
   "execution_count": 36,
   "id": "eb40b937-c5dd-491d-b14e-5521b5e2fb63",
   "metadata": {},
   "outputs": [
    {
     "data": {
      "text/plain": [
       "{'a', 'c', 'd'}"
      ]
     },
     "execution_count": 36,
     "metadata": {},
     "output_type": "execute_result"
    }
   ],
   "source": [
    "x"
   ]
  },
  {
   "cell_type": "code",
   "execution_count": 39,
   "id": "abeab69b-fe0f-4534-a0d4-ee515b02e476",
   "metadata": {},
   "outputs": [],
   "source": [
    "# if item not there then produce error\n",
    "\n",
    "x.discard('b')"
   ]
  },
  {
   "cell_type": "code",
   "execution_count": 40,
   "id": "47e6a57c-dc94-447f-ab4b-b71f79af7f40",
   "metadata": {},
   "outputs": [],
   "source": [
    "x = {'a', 'b', 'c', 'd'}"
   ]
  },
  {
   "cell_type": "code",
   "execution_count": 41,
   "id": "a2e246aa-241e-4f85-b039-e76a678291fb",
   "metadata": {},
   "outputs": [
    {
     "data": {
      "text/plain": [
       "{'a', 'b', 'c', 'd'}"
      ]
     },
     "execution_count": 41,
     "metadata": {},
     "output_type": "execute_result"
    }
   ],
   "source": [
    "x"
   ]
  },
  {
   "cell_type": "code",
   "execution_count": 42,
   "id": "804c3eb4-3a0d-4909-8bc2-fcf6edda7aad",
   "metadata": {},
   "outputs": [
    {
     "data": {
      "text/plain": [
       "'a'"
      ]
     },
     "execution_count": 42,
     "metadata": {},
     "output_type": "execute_result"
    }
   ],
   "source": [
    "# remove last item\n",
    "\n",
    "x.pop()"
   ]
  },
  {
   "cell_type": "code",
   "execution_count": 43,
   "id": "a10fabde-ec36-41d0-b892-ae195e1ad71c",
   "metadata": {},
   "outputs": [
    {
     "data": {
      "text/plain": [
       "{'b', 'c', 'd'}"
      ]
     },
     "execution_count": 43,
     "metadata": {},
     "output_type": "execute_result"
    }
   ],
   "source": [
    "x"
   ]
  },
  {
   "cell_type": "code",
   "execution_count": 44,
   "id": "0ee4d657-4054-4281-babe-54332615cc0b",
   "metadata": {},
   "outputs": [
    {
     "data": {
      "text/plain": [
       "set()"
      ]
     },
     "execution_count": 44,
     "metadata": {},
     "output_type": "execute_result"
    }
   ],
   "source": [
    "# clear set items\n",
    "\n",
    "x.clear()\n",
    "\n",
    "x"
   ]
  },
  {
   "cell_type": "code",
   "execution_count": 45,
   "id": "4e7cccf6-b1cd-403d-8a02-ef28b483e178",
   "metadata": {},
   "outputs": [],
   "source": [
    "x = {'a', 'b', 'c', 'd'}"
   ]
  },
  {
   "cell_type": "code",
   "execution_count": 46,
   "id": "59d40f90-87f4-4102-99dc-aea044785cc2",
   "metadata": {},
   "outputs": [],
   "source": [
    "# delete set \n",
    "\n",
    "del x"
   ]
  },
  {
   "cell_type": "code",
   "execution_count": 47,
   "id": "fc3c75d1-ebd4-41e5-9fee-09ffc5b33710",
   "metadata": {},
   "outputs": [
    {
     "ename": "NameError",
     "evalue": "name 'x' is not defined",
     "output_type": "error",
     "traceback": [
      "\u001b[1;31m---------------------------------------------------------------------------\u001b[0m",
      "\u001b[1;31mNameError\u001b[0m                                 Traceback (most recent call last)",
      "\u001b[1;32m~\\AppData\\Local\\Temp/ipykernel_16268/32546335.py\u001b[0m in \u001b[0;36m<module>\u001b[1;34m\u001b[0m\n\u001b[1;32m----> 1\u001b[1;33m \u001b[0mx\u001b[0m\u001b[1;33m\u001b[0m\u001b[1;33m\u001b[0m\u001b[0m\n\u001b[0m",
      "\u001b[1;31mNameError\u001b[0m: name 'x' is not defined"
     ]
    }
   ],
   "source": [
    "x"
   ]
  },
  {
   "cell_type": "markdown",
   "id": "9753e400-f16e-420f-968a-20edc4081643",
   "metadata": {},
   "source": [
    "# Loop Sets"
   ]
  },
  {
   "cell_type": "code",
   "execution_count": 48,
   "id": "527a3062-64ec-4e0f-9675-e528bde2131e",
   "metadata": {},
   "outputs": [],
   "source": [
    "x = {'a', 'b', 'c', 'd'}"
   ]
  },
  {
   "cell_type": "code",
   "execution_count": 49,
   "id": "bfb5e939-db99-4789-b8e0-af2669e8cb58",
   "metadata": {},
   "outputs": [
    {
     "name": "stdout",
     "output_type": "stream",
     "text": [
      "a\n",
      "c\n",
      "b\n",
      "d\n"
     ]
    }
   ],
   "source": [
    "for i in x:\n",
    "    print(i)"
   ]
  },
  {
   "cell_type": "markdown",
   "id": "50849279-e98d-44da-b238-22c0034c1626",
   "metadata": {},
   "source": [
    "# Join Sets"
   ]
  },
  {
   "cell_type": "code",
   "execution_count": 50,
   "id": "1ae28902-407b-421a-b9bf-73781ede9560",
   "metadata": {},
   "outputs": [],
   "source": [
    "x = {'a', 'b', 'c', 'd'}\n",
    "y = {1, 2, 3, 4, 5}"
   ]
  },
  {
   "cell_type": "code",
   "execution_count": 51,
   "id": "48130f42-59f7-4a65-99f9-a5f3209a35df",
   "metadata": {},
   "outputs": [
    {
     "name": "stdout",
     "output_type": "stream",
     "text": [
      "{'c', 'b', 1, 2, 3, 4, 5, 'd', 'a'}\n"
     ]
    }
   ],
   "source": [
    "# union\n",
    "\n",
    "z = x.union(y)\n",
    "\n",
    "print(z)"
   ]
  },
  {
   "cell_type": "code",
   "execution_count": 52,
   "id": "791cac2a-fa36-4beb-9f20-f0118a0f50f3",
   "metadata": {},
   "outputs": [
    {
     "name": "stdout",
     "output_type": "stream",
     "text": [
      "{'c', 'b', 1, 2, 3, 4, 5, 'd', 'a'}\n"
     ]
    }
   ],
   "source": [
    "# update\n",
    "\n",
    "x.update(y)\n",
    "\n",
    "print(x)"
   ]
  },
  {
   "cell_type": "code",
   "execution_count": 54,
   "id": "4bfd4020-d9dd-4f33-a3f8-3b8de8c564ce",
   "metadata": {},
   "outputs": [],
   "source": [
    "x = {'a', 'b', 'c', 'd'}\n",
    "y = {1, 'b', 3, 'a', 5}"
   ]
  },
  {
   "cell_type": "code",
   "execution_count": 56,
   "id": "ee6a8a9c-7825-4557-bc48-be10cfde4498",
   "metadata": {},
   "outputs": [],
   "source": [
    "# intersection update ( keep duplicate item )\n",
    "\n",
    "x.intersection_update(y)"
   ]
  },
  {
   "cell_type": "code",
   "execution_count": 57,
   "id": "0ad62e09-ea57-4e4e-a465-6326bb6385ec",
   "metadata": {},
   "outputs": [
    {
     "data": {
      "text/plain": [
       "{'a', 'b'}"
      ]
     },
     "execution_count": 57,
     "metadata": {},
     "output_type": "execute_result"
    }
   ],
   "source": [
    "x"
   ]
  },
  {
   "cell_type": "code",
   "execution_count": 58,
   "id": "e96bd1fa-f976-4f77-aa28-a8d13172df16",
   "metadata": {},
   "outputs": [],
   "source": [
    "x = {'a', 'b', 'c', 'd'}\n",
    "y = {1, 'b', 3, 'a', 5}"
   ]
  },
  {
   "cell_type": "code",
   "execution_count": 59,
   "id": "3a8ddb83-7ea1-4c62-bca7-79b3f8c27874",
   "metadata": {},
   "outputs": [
    {
     "data": {
      "text/plain": [
       "{'a', 'b'}"
      ]
     },
     "execution_count": 59,
     "metadata": {},
     "output_type": "execute_result"
    }
   ],
   "source": [
    "z = x.intersection(y)\n",
    "\n",
    "z"
   ]
  },
  {
   "cell_type": "code",
   "execution_count": 60,
   "id": "e5c6b29a-7340-48bf-9325-90ea7c105090",
   "metadata": {},
   "outputs": [],
   "source": [
    "x = {'a', 'b', 'c', 'd'}\n",
    "y = {1, 'b', 3, 'a', 5}"
   ]
  },
  {
   "cell_type": "code",
   "execution_count": 61,
   "id": "cc2de625-9341-4a77-aa27-be2080fa9e66",
   "metadata": {},
   "outputs": [],
   "source": [
    "x.symmetric_difference_update(y)"
   ]
  },
  {
   "cell_type": "code",
   "execution_count": 62,
   "id": "22b6c8cc-8dd7-4239-b9ee-b88033ffd091",
   "metadata": {},
   "outputs": [
    {
     "data": {
      "text/plain": [
       "{1, 3, 5, 'c', 'd'}"
      ]
     },
     "execution_count": 62,
     "metadata": {},
     "output_type": "execute_result"
    }
   ],
   "source": [
    "x"
   ]
  },
  {
   "cell_type": "code",
   "execution_count": 63,
   "id": "6fdd98db-c928-4d96-acb7-da067242455a",
   "metadata": {},
   "outputs": [],
   "source": [
    "x = {'a', 'b', 'c', 'd'}\n",
    "y = {1, 'b', 3, 'a', 5}"
   ]
  },
  {
   "cell_type": "code",
   "execution_count": 64,
   "id": "0abe2afc-2a7b-4724-aeb1-bc7089f7a65a",
   "metadata": {},
   "outputs": [],
   "source": [
    "z = x.symmetric_difference(y)"
   ]
  },
  {
   "cell_type": "code",
   "execution_count": 65,
   "id": "6a2a5320-fc3f-440c-ac6c-a3ed92fc88d9",
   "metadata": {},
   "outputs": [
    {
     "data": {
      "text/plain": [
       "{1, 3, 5, 'c', 'd'}"
      ]
     },
     "execution_count": 65,
     "metadata": {},
     "output_type": "execute_result"
    }
   ],
   "source": [
    "z"
   ]
  },
  {
   "cell_type": "code",
   "execution_count": null,
   "id": "84388cbc-d472-47c6-9640-886a2365fe2b",
   "metadata": {},
   "outputs": [],
   "source": []
  }
 ],
 "metadata": {
  "kernelspec": {
   "display_name": "Python 3 (ipykernel)",
   "language": "python",
   "name": "python3"
  },
  "language_info": {
   "codemirror_mode": {
    "name": "ipython",
    "version": 3
   },
   "file_extension": ".py",
   "mimetype": "text/x-python",
   "name": "python",
   "nbconvert_exporter": "python",
   "pygments_lexer": "ipython3",
   "version": "3.9.7"
  }
 },
 "nbformat": 4,
 "nbformat_minor": 5
}
