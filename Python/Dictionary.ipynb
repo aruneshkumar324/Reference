{
 "cells": [
  {
   "cell_type": "code",
   "execution_count": 1,
   "id": "e92e6d81-6a2c-492a-b987-5790459f563b",
   "metadata": {},
   "outputs": [],
   "source": [
    "x = {\n",
    "    \"first_name\":\"Arunesh\",\n",
    "    \"last_name\":\"kumar\",\n",
    "    \"age\": 23,\n",
    "    \"Job\": False,\n",
    "}"
   ]
  },
  {
   "cell_type": "code",
   "execution_count": 2,
   "id": "de3bf11e-4a9f-44d9-92ff-8b32e4d758cb",
   "metadata": {},
   "outputs": [
    {
     "data": {
      "text/plain": [
       "{'first_name': 'Arunesh', 'last_name': 'kumar', 'age': 23, 'Job': False}"
      ]
     },
     "execution_count": 2,
     "metadata": {},
     "output_type": "execute_result"
    }
   ],
   "source": [
    "x"
   ]
  },
  {
   "cell_type": "code",
   "execution_count": 3,
   "id": "bf65b78f-aa70-448d-8f4a-841727e92249",
   "metadata": {},
   "outputs": [
    {
     "data": {
      "text/plain": [
       "'Arunesh'"
      ]
     },
     "execution_count": 3,
     "metadata": {},
     "output_type": "execute_result"
    }
   ],
   "source": [
    "x['first_name']"
   ]
  },
  {
   "cell_type": "code",
   "execution_count": 4,
   "id": "efb9da49-775f-480d-9260-051238ca4ef5",
   "metadata": {},
   "outputs": [
    {
     "data": {
      "text/plain": [
       "4"
      ]
     },
     "execution_count": 4,
     "metadata": {},
     "output_type": "execute_result"
    }
   ],
   "source": [
    "len(x)"
   ]
  },
  {
   "cell_type": "code",
   "execution_count": 5,
   "id": "4d880e9a-224e-4483-8332-708fc76d519d",
   "metadata": {},
   "outputs": [
    {
     "data": {
      "text/plain": [
       "dict"
      ]
     },
     "execution_count": 5,
     "metadata": {},
     "output_type": "execute_result"
    }
   ],
   "source": [
    "type(x)"
   ]
  },
  {
   "cell_type": "markdown",
   "id": "bc687dc1-a851-4d71-b664-8c39339a8b41",
   "metadata": {},
   "source": [
    "# Access Dictionary Items"
   ]
  },
  {
   "cell_type": "code",
   "execution_count": 6,
   "id": "8e92b489-78c1-4101-82db-034dff5c4264",
   "metadata": {},
   "outputs": [],
   "source": [
    "x = {\n",
    "    \"first_name\":\"Arunesh\",\n",
    "    \"last_name\":\"kumar\",\n",
    "    \"age\": 23,\n",
    "    \"Job\": False,\n",
    "}"
   ]
  },
  {
   "cell_type": "code",
   "execution_count": 7,
   "id": "25c901fd-5e7d-4743-87dd-3ddd9d003808",
   "metadata": {},
   "outputs": [
    {
     "data": {
      "text/plain": [
       "23"
      ]
     },
     "execution_count": 7,
     "metadata": {},
     "output_type": "execute_result"
    }
   ],
   "source": [
    "x['age']"
   ]
  },
  {
   "cell_type": "code",
   "execution_count": 8,
   "id": "6a0059c6-d17a-49e0-a004-4ba101d168fe",
   "metadata": {},
   "outputs": [
    {
     "data": {
      "text/plain": [
       "23"
      ]
     },
     "execution_count": 8,
     "metadata": {},
     "output_type": "execute_result"
    }
   ],
   "source": [
    "x.get('age')"
   ]
  },
  {
   "cell_type": "code",
   "execution_count": 9,
   "id": "2d734100-6c68-4944-b879-d753ffa88f06",
   "metadata": {},
   "outputs": [
    {
     "data": {
      "text/plain": [
       "dict_keys(['first_name', 'last_name', 'age', 'Job'])"
      ]
     },
     "execution_count": 9,
     "metadata": {},
     "output_type": "execute_result"
    }
   ],
   "source": [
    "# get all keys\n",
    "\n",
    "x.keys()"
   ]
  },
  {
   "cell_type": "code",
   "execution_count": 11,
   "id": "99aabf1b-3102-40d5-bc21-db780ed40e0e",
   "metadata": {},
   "outputs": [
    {
     "data": {
      "text/plain": [
       "dict_values(['Arunesh', 'kumar', 23, False])"
      ]
     },
     "execution_count": 11,
     "metadata": {},
     "output_type": "execute_result"
    }
   ],
   "source": [
    "# get all calues\n",
    "\n",
    "x.values()"
   ]
  },
  {
   "cell_type": "code",
   "execution_count": 12,
   "id": "fca1eadd-d20f-47f5-9f67-45b225d59b65",
   "metadata": {},
   "outputs": [
    {
     "data": {
      "text/plain": [
       "dict_items([('first_name', 'Arunesh'), ('last_name', 'kumar'), ('age', 23), ('Job', False)])"
      ]
     },
     "execution_count": 12,
     "metadata": {},
     "output_type": "execute_result"
    }
   ],
   "source": [
    "# get keys & values\n",
    "\n",
    "x.items()"
   ]
  },
  {
   "cell_type": "code",
   "execution_count": 13,
   "id": "de4b52d5-556e-4c8a-bc8d-0beab1eebbf1",
   "metadata": {},
   "outputs": [
    {
     "name": "stdout",
     "output_type": "stream",
     "text": [
      "True\n"
     ]
    }
   ],
   "source": [
    "if 'age' in x:\n",
    "    print(True)"
   ]
  },
  {
   "cell_type": "markdown",
   "id": "29cb9341-3305-4f42-90ef-71b44827f929",
   "metadata": {},
   "source": [
    "# Change Dictionary Items"
   ]
  },
  {
   "cell_type": "code",
   "execution_count": 14,
   "id": "1daf4be5-6b31-4aaa-ac99-3fb267371970",
   "metadata": {},
   "outputs": [],
   "source": [
    "x = {\n",
    "    \"first_name\":\"Arunesh\",\n",
    "    \"last_name\":\"kumar\",\n",
    "    \"age\": 23,\n",
    "    \"Job\": False,\n",
    "}"
   ]
  },
  {
   "cell_type": "code",
   "execution_count": 15,
   "id": "073ad3e9-aa5c-4b04-ae66-a3c5094fd6e2",
   "metadata": {},
   "outputs": [],
   "source": [
    "x['age'] = 22"
   ]
  },
  {
   "cell_type": "code",
   "execution_count": 16,
   "id": "afb9388d-2015-4958-8f3d-3967b4420fc5",
   "metadata": {},
   "outputs": [
    {
     "data": {
      "text/plain": [
       "{'first_name': 'Arunesh', 'last_name': 'kumar', 'age': 22, 'Job': False}"
      ]
     },
     "execution_count": 16,
     "metadata": {},
     "output_type": "execute_result"
    }
   ],
   "source": [
    "x"
   ]
  },
  {
   "cell_type": "code",
   "execution_count": 17,
   "id": "a75db6c5-e5ab-42b4-98c8-c5111b89014f",
   "metadata": {},
   "outputs": [],
   "source": [
    "# update method\n",
    "\n",
    "x.update({'age': 23})"
   ]
  },
  {
   "cell_type": "code",
   "execution_count": 18,
   "id": "7ab22d5b-d450-4c0a-abeb-d7955c226b7b",
   "metadata": {},
   "outputs": [
    {
     "data": {
      "text/plain": [
       "{'first_name': 'Arunesh', 'last_name': 'kumar', 'age': 23, 'Job': False}"
      ]
     },
     "execution_count": 18,
     "metadata": {},
     "output_type": "execute_result"
    }
   ],
   "source": [
    "x"
   ]
  },
  {
   "cell_type": "markdown",
   "id": "132fbbb9-7352-48f6-a029-a6bfbe6b92c7",
   "metadata": {},
   "source": [
    "# Add Dictionary Items"
   ]
  },
  {
   "cell_type": "code",
   "execution_count": 19,
   "id": "c019e365-efbd-4850-b190-745994a5a254",
   "metadata": {},
   "outputs": [],
   "source": [
    "x = {\n",
    "    \"first_name\":\"Arunesh\",\n",
    "    \"last_name\":\"kumar\",\n",
    "    \"age\": 23,\n",
    "    \"Job\": False,\n",
    "}"
   ]
  },
  {
   "cell_type": "code",
   "execution_count": 20,
   "id": "e010e0ed-27d8-4078-865f-2f16e365d882",
   "metadata": {},
   "outputs": [],
   "source": [
    "x['Car'] = True"
   ]
  },
  {
   "cell_type": "code",
   "execution_count": 21,
   "id": "09c94f92-3d39-4bb1-b87f-6b244c6944c1",
   "metadata": {},
   "outputs": [
    {
     "data": {
      "text/plain": [
       "{'first_name': 'Arunesh',\n",
       " 'last_name': 'kumar',\n",
       " 'age': 23,\n",
       " 'Job': False,\n",
       " 'Car': True}"
      ]
     },
     "execution_count": 21,
     "metadata": {},
     "output_type": "execute_result"
    }
   ],
   "source": [
    "x"
   ]
  },
  {
   "cell_type": "code",
   "execution_count": 22,
   "id": "0051fdf7-4093-46b4-af89-4af9fe4b39fc",
   "metadata": {},
   "outputs": [],
   "source": [
    "x.update({'Home': True})"
   ]
  },
  {
   "cell_type": "code",
   "execution_count": 23,
   "id": "fd8c394b-3fe5-471a-80f2-c3d47ce25a8e",
   "metadata": {},
   "outputs": [
    {
     "data": {
      "text/plain": [
       "{'first_name': 'Arunesh',\n",
       " 'last_name': 'kumar',\n",
       " 'age': 23,\n",
       " 'Job': False,\n",
       " 'Car': True,\n",
       " 'Home': True}"
      ]
     },
     "execution_count": 23,
     "metadata": {},
     "output_type": "execute_result"
    }
   ],
   "source": [
    "x"
   ]
  },
  {
   "cell_type": "markdown",
   "id": "f64003dd-b807-4d2e-a9bb-4293bd7ad9c3",
   "metadata": {},
   "source": [
    "# Remove Dictionary Items"
   ]
  },
  {
   "cell_type": "code",
   "execution_count": 30,
   "id": "9d8444bb-e795-4555-9fa8-210648669510",
   "metadata": {},
   "outputs": [],
   "source": [
    "x = {\n",
    "    \"first_name\":\"Arunesh\",\n",
    "    \"last_name\":\"kumar\",\n",
    "    \"age\": 23,\n",
    "    \"Job\": False,\n",
    "}"
   ]
  },
  {
   "cell_type": "code",
   "execution_count": 31,
   "id": "dba9894a-0267-46b4-a7c6-c57fccc15039",
   "metadata": {},
   "outputs": [
    {
     "data": {
      "text/plain": [
       "False"
      ]
     },
     "execution_count": 31,
     "metadata": {},
     "output_type": "execute_result"
    }
   ],
   "source": [
    "# remove item by key\n",
    "\n",
    "x.pop('Job')"
   ]
  },
  {
   "cell_type": "code",
   "execution_count": 32,
   "id": "11c10a6f-d445-429e-be4e-ff40f40fe956",
   "metadata": {},
   "outputs": [
    {
     "data": {
      "text/plain": [
       "{'first_name': 'Arunesh', 'last_name': 'kumar', 'age': 23}"
      ]
     },
     "execution_count": 32,
     "metadata": {},
     "output_type": "execute_result"
    }
   ],
   "source": [
    "x"
   ]
  },
  {
   "cell_type": "code",
   "execution_count": 33,
   "id": "7e4f436d-5283-449a-9858-69abb84aa1e3",
   "metadata": {},
   "outputs": [
    {
     "data": {
      "text/plain": [
       "('age', 23)"
      ]
     },
     "execution_count": 33,
     "metadata": {},
     "output_type": "execute_result"
    }
   ],
   "source": [
    "# remove last item\n",
    "\n",
    "x.popitem()"
   ]
  },
  {
   "cell_type": "code",
   "execution_count": 34,
   "id": "a7b15adf-8c81-4040-a5a2-aebc3edeb4c8",
   "metadata": {},
   "outputs": [
    {
     "data": {
      "text/plain": [
       "{'first_name': 'Arunesh', 'last_name': 'kumar'}"
      ]
     },
     "execution_count": 34,
     "metadata": {},
     "output_type": "execute_result"
    }
   ],
   "source": [
    "x"
   ]
  },
  {
   "cell_type": "code",
   "execution_count": 35,
   "id": "014a1a31-8ea8-4a7d-a053-51c672367ad6",
   "metadata": {},
   "outputs": [],
   "source": [
    "x = {\n",
    "    \"first_name\":\"Arunesh\",\n",
    "    \"last_name\":\"kumar\",\n",
    "    \"age\": 23,\n",
    "    \"Job\": False,\n",
    "}"
   ]
  },
  {
   "cell_type": "code",
   "execution_count": 36,
   "id": "c0b9cf7a-46e5-48f4-a520-36b7277f94c0",
   "metadata": {},
   "outputs": [
    {
     "data": {
      "text/plain": [
       "{'first_name': 'Arunesh', 'last_name': 'kumar', 'age': 23, 'Job': False}"
      ]
     },
     "execution_count": 36,
     "metadata": {},
     "output_type": "execute_result"
    }
   ],
   "source": [
    "x"
   ]
  },
  {
   "cell_type": "code",
   "execution_count": 37,
   "id": "7cfef033-9e8d-4026-a19f-0229f31ecf48",
   "metadata": {},
   "outputs": [],
   "source": [
    "del x['Job']"
   ]
  },
  {
   "cell_type": "code",
   "execution_count": 38,
   "id": "d7b506a5-e9fb-4c65-9477-5b80dd25229d",
   "metadata": {},
   "outputs": [
    {
     "data": {
      "text/plain": [
       "{'first_name': 'Arunesh', 'last_name': 'kumar', 'age': 23}"
      ]
     },
     "execution_count": 38,
     "metadata": {},
     "output_type": "execute_result"
    }
   ],
   "source": [
    "x"
   ]
  },
  {
   "cell_type": "code",
   "execution_count": 39,
   "id": "94e48d6a-1a14-4896-84de-ffc4fb5fa29f",
   "metadata": {},
   "outputs": [],
   "source": [
    "del x"
   ]
  },
  {
   "cell_type": "code",
   "execution_count": 40,
   "id": "faf8da75-95a0-48ad-8871-643e4d045e82",
   "metadata": {},
   "outputs": [
    {
     "ename": "NameError",
     "evalue": "name 'x' is not defined",
     "output_type": "error",
     "traceback": [
      "\u001b[1;31m---------------------------------------------------------------------------\u001b[0m",
      "\u001b[1;31mNameError\u001b[0m                                 Traceback (most recent call last)",
      "\u001b[1;32m~\\AppData\\Local\\Temp/ipykernel_21812/32546335.py\u001b[0m in \u001b[0;36m<module>\u001b[1;34m\u001b[0m\n\u001b[1;32m----> 1\u001b[1;33m \u001b[0mx\u001b[0m\u001b[1;33m\u001b[0m\u001b[1;33m\u001b[0m\u001b[0m\n\u001b[0m",
      "\u001b[1;31mNameError\u001b[0m: name 'x' is not defined"
     ]
    }
   ],
   "source": [
    "x"
   ]
  },
  {
   "cell_type": "code",
   "execution_count": 41,
   "id": "de8f0313-a4f2-4512-8f41-651e5f545199",
   "metadata": {},
   "outputs": [],
   "source": [
    "x = {\n",
    "    \"first_name\":\"Arunesh\",\n",
    "    \"last_name\":\"kumar\",\n",
    "    \"age\": 23,\n",
    "    \"Job\": False,\n",
    "}"
   ]
  },
  {
   "cell_type": "code",
   "execution_count": 42,
   "id": "e5be962f-f70f-4109-b351-5cf3a879bc33",
   "metadata": {},
   "outputs": [
    {
     "data": {
      "text/plain": [
       "{'first_name': 'Arunesh', 'last_name': 'kumar', 'age': 23, 'Job': False}"
      ]
     },
     "execution_count": 42,
     "metadata": {},
     "output_type": "execute_result"
    }
   ],
   "source": [
    "x"
   ]
  },
  {
   "cell_type": "code",
   "execution_count": 43,
   "id": "60cd179c-c25c-4927-9d57-e067c91e7c5a",
   "metadata": {},
   "outputs": [],
   "source": [
    "x.clear()"
   ]
  },
  {
   "cell_type": "code",
   "execution_count": 44,
   "id": "c8fb7d23-d94a-460e-be6f-a50e39b81795",
   "metadata": {},
   "outputs": [
    {
     "data": {
      "text/plain": [
       "{}"
      ]
     },
     "execution_count": 44,
     "metadata": {},
     "output_type": "execute_result"
    }
   ],
   "source": [
    "x"
   ]
  },
  {
   "cell_type": "markdown",
   "id": "647a4fe3-4069-4614-be79-0697672e0883",
   "metadata": {},
   "source": [
    "# Loop Dictionaries"
   ]
  },
  {
   "cell_type": "code",
   "execution_count": 45,
   "id": "d7bf5e99-6f97-42f0-803f-d5e78e809984",
   "metadata": {},
   "outputs": [],
   "source": [
    "x = {\n",
    "    \"first_name\":\"Arunesh\",\n",
    "    \"last_name\":\"kumar\",\n",
    "    \"age\": 23,\n",
    "    \"Job\": False,\n",
    "}"
   ]
  },
  {
   "cell_type": "code",
   "execution_count": 47,
   "id": "c0b81235-ef8e-448e-a4c7-abc904c4f0eb",
   "metadata": {},
   "outputs": [
    {
     "name": "stdout",
     "output_type": "stream",
     "text": [
      "first_name\n",
      "last_name\n",
      "age\n",
      "Job\n"
     ]
    }
   ],
   "source": [
    "# get all keys\n",
    "\n",
    "for i in x:\n",
    "    print(i)"
   ]
  },
  {
   "cell_type": "code",
   "execution_count": 48,
   "id": "d5133564-9b43-4a86-9b57-68f6fecd94d6",
   "metadata": {},
   "outputs": [
    {
     "name": "stdout",
     "output_type": "stream",
     "text": [
      "Arunesh\n",
      "kumar\n",
      "23\n",
      "False\n"
     ]
    }
   ],
   "source": [
    "# get all values\n",
    "\n",
    "for i in x:\n",
    "    print(x[i])"
   ]
  },
  {
   "cell_type": "code",
   "execution_count": 49,
   "id": "22215350-49e7-4201-8b6c-d611da0589f6",
   "metadata": {},
   "outputs": [
    {
     "name": "stdout",
     "output_type": "stream",
     "text": [
      "first_name\n",
      "last_name\n",
      "age\n",
      "Job\n"
     ]
    }
   ],
   "source": [
    "# get all keys\n",
    "\n",
    "for i in x.keys():\n",
    "    print(i)"
   ]
  },
  {
   "cell_type": "code",
   "execution_count": 50,
   "id": "710455a6-0035-4865-ad8f-d3629b0d2c31",
   "metadata": {},
   "outputs": [
    {
     "name": "stdout",
     "output_type": "stream",
     "text": [
      "Arunesh\n",
      "kumar\n",
      "23\n",
      "False\n"
     ]
    }
   ],
   "source": [
    "# get all values\n",
    "\n",
    "for i in x.values():\n",
    "    print(i)"
   ]
  },
  {
   "cell_type": "code",
   "execution_count": 52,
   "id": "313dcf47-ae08-4df1-969a-d85f8a2fad44",
   "metadata": {},
   "outputs": [
    {
     "name": "stdout",
     "output_type": "stream",
     "text": [
      "first_name = Arunesh\n",
      "last_name = kumar\n",
      "age = 23\n",
      "Job = False\n"
     ]
    }
   ],
   "source": [
    "# get all keys & values\n",
    "\n",
    "for a, b in x.items():\n",
    "    print(f\"{a} = {b}\")"
   ]
  },
  {
   "cell_type": "markdown",
   "id": "9b77d839-8aa2-428f-88ae-47547e2a1f97",
   "metadata": {},
   "source": [
    "# Copy Dictionaries"
   ]
  },
  {
   "cell_type": "code",
   "execution_count": 53,
   "id": "48f9fcbf-8222-4c25-a3e6-a5d9dbe5dd75",
   "metadata": {},
   "outputs": [],
   "source": [
    "x = {\n",
    "    \"first_name\":\"Arunesh\",\n",
    "    \"last_name\":\"kumar\",\n",
    "    \"age\": 23,\n",
    "    \"Job\": False,\n",
    "}"
   ]
  },
  {
   "cell_type": "code",
   "execution_count": 56,
   "id": "ec04233d-07e9-4dab-be48-fa25d04de37d",
   "metadata": {},
   "outputs": [],
   "source": [
    "# 1 - method\n",
    "\n",
    "new_dict = x.copy()"
   ]
  },
  {
   "cell_type": "code",
   "execution_count": 57,
   "id": "db416c6d-51bd-49af-a627-bc23d8c95573",
   "metadata": {},
   "outputs": [
    {
     "data": {
      "text/plain": [
       "{'first_name': 'Arunesh', 'last_name': 'kumar', 'age': 23, 'Job': False}"
      ]
     },
     "execution_count": 57,
     "metadata": {},
     "output_type": "execute_result"
    }
   ],
   "source": [
    "new_dict"
   ]
  },
  {
   "cell_type": "code",
   "execution_count": 58,
   "id": "27cb882b-39e2-424a-bcbc-af53ecbecfb5",
   "metadata": {},
   "outputs": [
    {
     "data": {
      "text/plain": [
       "{'first_name': 'Arunesh', 'last_name': 'kumar', 'age': 23, 'Job': False}"
      ]
     },
     "execution_count": 58,
     "metadata": {},
     "output_type": "execute_result"
    }
   ],
   "source": [
    "# 2 - method\n",
    "\n",
    "new_dict_1 = dict(x)\n",
    "\n",
    "new_dict_1"
   ]
  },
  {
   "cell_type": "markdown",
   "id": "535caa6a-de27-4fbf-90b5-70dcab5605ab",
   "metadata": {},
   "source": [
    "# Nested Dictionaries"
   ]
  },
  {
   "cell_type": "code",
   "execution_count": 60,
   "id": "6a0dc6e5-1888-4908-b76c-c46284caa0bf",
   "metadata": {},
   "outputs": [
    {
     "data": {
      "text/plain": [
       "{'x': {'name': 'Rohan', 'age': 23},\n",
       " 'y': {'name': 'Sohan', 'age': 33},\n",
       " 'z': {'name': 'Dohan', 'age': 43}}"
      ]
     },
     "execution_count": 60,
     "metadata": {},
     "output_type": "execute_result"
    }
   ],
   "source": [
    "# 1 - method\n",
    "\n",
    "a = {\n",
    "    \"name\": \"Rohan\",\n",
    "    \"age\": 23,\n",
    "}\n",
    "\n",
    "b = {\n",
    "    \"name\": \"Sohan\",\n",
    "    \"age\": 33,\n",
    "}\n",
    "\n",
    "c = {\n",
    "    \"name\": \"Dohan\",\n",
    "    \"age\": 43,\n",
    "}\n",
    "\n",
    "all_in_one = {\n",
    "    \"x\": a,\n",
    "    \"y\": b,\n",
    "    \"z\": c,\n",
    "}\n",
    "\n",
    "all_in_one"
   ]
  },
  {
   "cell_type": "code",
   "execution_count": 61,
   "id": "08fc67da-c382-4688-a975-5fc3ac7012a1",
   "metadata": {},
   "outputs": [
    {
     "data": {
      "text/plain": [
       "{'x': {'name': 'Rohan', 'age': 23},\n",
       " 'y': {'name': 'Sohan', 'age': 33},\n",
       " 'z': {'name': 'Dohan', 'age': 43}}"
      ]
     },
     "execution_count": 61,
     "metadata": {},
     "output_type": "execute_result"
    }
   ],
   "source": [
    "# 2 - method\n",
    "\n",
    "all_in_one = {\n",
    "    \"x\": {\n",
    "        \"name\": \"Rohan\",\n",
    "        \"age\": 23,\n",
    "    },\n",
    "    \"y\": {\n",
    "        \"name\": \"Sohan\",\n",
    "        \"age\": 33,\n",
    "    },\n",
    "    \"z\": {\n",
    "        \"name\": \"Dohan\",\n",
    "        \"age\": 43,\n",
    "    },\n",
    "}\n",
    "\n",
    "all_in_one"
   ]
  },
  {
   "cell_type": "code",
   "execution_count": null,
   "id": "6084fe3e-3854-4fb3-99db-eca090fd263d",
   "metadata": {},
   "outputs": [],
   "source": []
  }
 ],
 "metadata": {
  "kernelspec": {
   "display_name": "Python 3 (ipykernel)",
   "language": "python",
   "name": "python3"
  },
  "language_info": {
   "codemirror_mode": {
    "name": "ipython",
    "version": 3
   },
   "file_extension": ".py",
   "mimetype": "text/x-python",
   "name": "python",
   "nbconvert_exporter": "python",
   "pygments_lexer": "ipython3",
   "version": "3.9.7"
  }
 },
 "nbformat": 4,
 "nbformat_minor": 5
}
